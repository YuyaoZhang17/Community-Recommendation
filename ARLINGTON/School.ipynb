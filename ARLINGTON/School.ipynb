{
 "cells": [
  {
   "cell_type": "code",
   "execution_count": 1,
   "metadata": {},
   "outputs": [],
   "source": [
    "import pandas as pd\n",
    "import numpy as np\n",
    "import requests\n",
    "import json\n",
    "import xmltodict"
   ]
  },
  {
   "cell_type": "code",
   "execution_count": 2,
   "metadata": {},
   "outputs": [],
   "source": [
    "part1=\"https://api.greatschools.org/search/schools?key=\"\n",
    "key=\"9617d860eb8cf67fe0d2b98ef7d0efbd\"\n",
    "# citycode=[\"&state=VA&q=Arlington&sort=alpha&levelCode=\",\"&state=DC&q=Washington&sort=alpha&levelCode=\"]\n",
    "# city=[\"Arlington\",\"DC\"]\n",
    "citycode=[\"&state=VA&q=Alexandria&sort=alpha&levelCode=\"]\n",
    "city=[\"Alexandria\"]\n",
    "levels=[\"elementary-schools\",\"middle-schools\",\"high-schools\"]\n",
    "limit=\"&limit=200\"\n"
   ]
  },
  {
   "cell_type": "code",
   "execution_count": 3,
   "metadata": {},
   "outputs": [],
   "source": [
    "for i in range(len(city)):\n",
    "    for j in range(len(levels)):\n",
    "        url=part1+key+citycode[i]+levels[j]+limit\n",
    "        \n",
    "        r=requests.get(url)\n",
    "        data = r\n",
    "        parse_data = xmltodict.parse(data.text)\n",
    "        js = json.dumps(parse_data[\"schools\"][\"school\"])\n",
    "        a=pd.read_json(js)\n",
    "        a=pd.DataFrame(a)\n",
    "        a[\"Zip Code\"]=a[\"address\"].map(lambda x:x[-5:])\n",
    "        name=str(city[i]+\"_\"+levels[j])+str(\".csv\")\n",
    "        a.to_csv(name)"
   ]
  },
  {
   "cell_type": "code",
   "execution_count": null,
   "metadata": {},
   "outputs": [],
   "source": []
  }
 ],
 "metadata": {
  "kernelspec": {
   "display_name": "Python 3",
   "language": "python",
   "name": "python3"
  },
  "language_info": {
   "codemirror_mode": {
    "name": "ipython",
    "version": 3
   },
   "file_extension": ".py",
   "mimetype": "text/x-python",
   "name": "python",
   "nbconvert_exporter": "python",
   "pygments_lexer": "ipython3",
   "version": "3.7.4"
  }
 },
 "nbformat": 4,
 "nbformat_minor": 2
}
