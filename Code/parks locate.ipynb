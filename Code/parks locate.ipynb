{
 "cells": [
  {
   "cell_type": "code",
   "execution_count": 1,
   "metadata": {
    "scrolled": true
   },
   "outputs": [],
   "source": [
    "from arcgis.gis import GIS\n",
    "from arcgis.geocoding import geocode"
   ]
  },
  {
   "cell_type": "code",
   "execution_count": 2,
   "metadata": {},
   "outputs": [],
   "source": [
    "import pandas as pd\n",
    "from geopy.geocoders import Nominatim\n",
    "import numpy as np"
   ]
  },
  {
   "cell_type": "code",
   "execution_count": 14,
   "metadata": {},
   "outputs": [],
   "source": [
    "napa=pd.read_csv(\"../Leisure/National_Parks.csv\")"
   ]
  },
  {
   "cell_type": "code",
   "execution_count": 15,
   "metadata": {},
   "outputs": [],
   "source": [
    "nam=napa[\"NAME\"]\n"
   ]
  },
  {
   "cell_type": "code",
   "execution_count": 16,
   "metadata": {},
   "outputs": [],
   "source": [
    "add=napa[\"LOCATION\"]\n",
    "add=add.astype(str).map(lambda x: x+\", Washington, D.C\")\n"
   ]
  },
  {
   "cell_type": "code",
   "execution_count": 9,
   "metadata": {},
   "outputs": [
    {
     "data": {
      "application/vnd.jupyter.widget-view+json": {
       "model_id": "dc31320a0584482d9c02dd5ca530f840",
       "version_major": 2,
       "version_minor": 0
      },
      "text/plain": [
       "MapView(layout=Layout(height='400px', width='100%'))"
      ]
     },
     "metadata": {},
     "output_type": "display_data"
    },
    {
     "data": {
      "text/html": [
       "<div class=\"map-static-img-preview-2b8d78dd-c94d-4a6a-90d6-971a0f9c7b68\"><img src=\"\"></img></div>"
      ],
      "text/plain": [
       "<IPython.core.display.HTML object>"
      ]
     },
     "metadata": {},
     "output_type": "display_data"
    }
   ],
   "source": [
    "gis=GIS()\n",
    "map = gis.map(\"Washington.D.C, USA\")\n",
    "map"
   ]
  },
  {
   "cell_type": "code",
   "execution_count": 11,
   "metadata": {},
   "outputs": [],
   "source": [
    "zips = []\n",
    "for i in range(0,len(add)):\n",
    "    zips.append(geocode(add[i])[0]['attributes']['Postal'])   "
   ]
  },
  {
   "cell_type": "code",
   "execution_count": 27,
   "metadata": {},
   "outputs": [],
   "source": [
    "napa[\"Zip Code\"]=zips\n",
    "napa.to_csv(\"../Leisure/National_Parks_zips.csv\")"
   ]
  },
  {
   "cell_type": "code",
   "execution_count": 24,
   "metadata": {},
   "outputs": [
    {
     "data": {
      "text/html": [
       "<div>\n",
       "<style scoped>\n",
       "    .dataframe tbody tr th:only-of-type {\n",
       "        vertical-align: middle;\n",
       "    }\n",
       "\n",
       "    .dataframe tbody tr th {\n",
       "        vertical-align: top;\n",
       "    }\n",
       "\n",
       "    .dataframe thead th {\n",
       "        text-align: right;\n",
       "    }\n",
       "</style>\n",
       "<table border=\"1\" class=\"dataframe\">\n",
       "  <thead>\n",
       "    <tr style=\"text-align: right;\">\n",
       "      <th></th>\n",
       "      <th>OBJECTID</th>\n",
       "      <th>GIS_ID</th>\n",
       "      <th>NAME</th>\n",
       "      <th>ALPHA_CODE</th>\n",
       "      <th>PARK_CODE</th>\n",
       "      <th>LOCATION</th>\n",
       "      <th>AQUIRED</th>\n",
       "      <th>TRANS_DC</th>\n",
       "      <th>SOURCE</th>\n",
       "      <th>RESERVE</th>\n",
       "      <th>LABEL</th>\n",
       "      <th>Shape_Length</th>\n",
       "      <th>Shape_Area</th>\n",
       "      <th>SQUARE</th>\n",
       "      <th>SUFFIX</th>\n",
       "      <th>LOT</th>\n",
       "      <th>SSL</th>\n",
       "      <th>PAR</th>\n",
       "      <th>Zip Code</th>\n",
       "    </tr>\n",
       "  </thead>\n",
       "  <tbody>\n",
       "    <tr>\n",
       "      <td>0</td>\n",
       "      <td>1</td>\n",
       "      <td>Nps_060</td>\n",
       "      <td>Fort Circle Park</td>\n",
       "      <td>ROCR</td>\n",
       "      <td>832.0</td>\n",
       "      <td>Fort Reno Park To Rock Creek Park , NW</td>\n",
       "      <td>6</td>\n",
       "      <td>NaN</td>\n",
       "      <td>NPS</td>\n",
       "      <td>515</td>\n",
       "      <td>Fort Circle Park</td>\n",
       "      <td>3450.230475</td>\n",
       "      <td>1.140667e+05</td>\n",
       "      <td>MULTI-SQUARES</td>\n",
       "      <td>NaN</td>\n",
       "      <td>0.0</td>\n",
       "      <td>RES 05150000</td>\n",
       "      <td>NaN</td>\n",
       "      <td>20015</td>\n",
       "    </tr>\n",
       "    <tr>\n",
       "      <td>1</td>\n",
       "      <td>2</td>\n",
       "      <td>Nps_087</td>\n",
       "      <td>Fort Circle Park</td>\n",
       "      <td>ROCR</td>\n",
       "      <td>832.0</td>\n",
       "      <td>Fort Totten Park To Barnard Hill, NE</td>\n",
       "      <td>6, 8</td>\n",
       "      <td>NaN</td>\n",
       "      <td>NPS</td>\n",
       "      <td>451</td>\n",
       "      <td>Fort Circle Park</td>\n",
       "      <td>856.712577</td>\n",
       "      <td>1.980102e+04</td>\n",
       "      <td>0000</td>\n",
       "      <td>NaN</td>\n",
       "      <td>0.0</td>\n",
       "      <td>RES 04510000</td>\n",
       "      <td>NaN</td>\n",
       "      <td>20011</td>\n",
       "    </tr>\n",
       "    <tr>\n",
       "      <td>2</td>\n",
       "      <td>3</td>\n",
       "      <td>Nps_081</td>\n",
       "      <td>Fort Circle Park</td>\n",
       "      <td>ROCR</td>\n",
       "      <td>832.0</td>\n",
       "      <td>Fort Totten Park To Barnard Hill, NE</td>\n",
       "      <td>6, 8</td>\n",
       "      <td>NaN</td>\n",
       "      <td>NPS</td>\n",
       "      <td>451</td>\n",
       "      <td>Fort Circle Park</td>\n",
       "      <td>952.759982</td>\n",
       "      <td>6.071470e+03</td>\n",
       "      <td>0000</td>\n",
       "      <td>NaN</td>\n",
       "      <td>0.0</td>\n",
       "      <td>RES 04510000</td>\n",
       "      <td>NaN</td>\n",
       "      <td>20011</td>\n",
       "    </tr>\n",
       "    <tr>\n",
       "      <td>3</td>\n",
       "      <td>4</td>\n",
       "      <td>Nps_061</td>\n",
       "      <td>Fort Circle Park</td>\n",
       "      <td>ROCR</td>\n",
       "      <td>832.0</td>\n",
       "      <td>Fort Totten Park To Barnard Hill, NE</td>\n",
       "      <td>6, 8</td>\n",
       "      <td>NaN</td>\n",
       "      <td>NPS</td>\n",
       "      <td>451</td>\n",
       "      <td>Fort Circle Park</td>\n",
       "      <td>1154.493074</td>\n",
       "      <td>3.976359e+04</td>\n",
       "      <td>0000</td>\n",
       "      <td>NaN</td>\n",
       "      <td>0.0</td>\n",
       "      <td>RES 04510000</td>\n",
       "      <td>NaN</td>\n",
       "      <td>20011</td>\n",
       "    </tr>\n",
       "    <tr>\n",
       "      <td>4</td>\n",
       "      <td>5</td>\n",
       "      <td>Nps_543</td>\n",
       "      <td>Fort Circle Park</td>\n",
       "      <td>ROCR</td>\n",
       "      <td>832.0</td>\n",
       "      <td>Fort Totten Park To Barnard Hill, NE</td>\n",
       "      <td>6, 8</td>\n",
       "      <td>NaN</td>\n",
       "      <td>NPS</td>\n",
       "      <td>451</td>\n",
       "      <td>Fort Circle Park</td>\n",
       "      <td>2600.063143</td>\n",
       "      <td>7.349317e+04</td>\n",
       "      <td>0000</td>\n",
       "      <td>NaN</td>\n",
       "      <td>0.0</td>\n",
       "      <td>RES 04510000</td>\n",
       "      <td>NaN</td>\n",
       "      <td>20011</td>\n",
       "    </tr>\n",
       "    <tr>\n",
       "      <td>...</td>\n",
       "      <td>...</td>\n",
       "      <td>...</td>\n",
       "      <td>...</td>\n",
       "      <td>...</td>\n",
       "      <td>...</td>\n",
       "      <td>...</td>\n",
       "      <td>...</td>\n",
       "      <td>...</td>\n",
       "      <td>...</td>\n",
       "      <td>...</td>\n",
       "      <td>...</td>\n",
       "      <td>...</td>\n",
       "      <td>...</td>\n",
       "      <td>...</td>\n",
       "      <td>...</td>\n",
       "      <td>...</td>\n",
       "      <td>...</td>\n",
       "      <td>...</td>\n",
       "      <td>...</td>\n",
       "    </tr>\n",
       "    <tr>\n",
       "      <td>452</td>\n",
       "      <td>453</td>\n",
       "      <td>NaN</td>\n",
       "      <td>United States National Arboretum</td>\n",
       "      <td>NaN</td>\n",
       "      <td>NaN</td>\n",
       "      <td>3501 NEW YORK AVENUE NE</td>\n",
       "      <td>&lt;Null&gt;</td>\n",
       "      <td>NaN</td>\n",
       "      <td>NPS</td>\n",
       "      <td>NaN</td>\n",
       "      <td>United States National Arboretum</td>\n",
       "      <td>8306.192314</td>\n",
       "      <td>1.701988e+06</td>\n",
       "      <td>0000</td>\n",
       "      <td>NaN</td>\n",
       "      <td>16.0</td>\n",
       "      <td>PAR 01620016</td>\n",
       "      <td>162.0</td>\n",
       "      <td>20002</td>\n",
       "    </tr>\n",
       "    <tr>\n",
       "      <td>453</td>\n",
       "      <td>454</td>\n",
       "      <td>NaN</td>\n",
       "      <td>NaN</td>\n",
       "      <td>NaN</td>\n",
       "      <td>NaN</td>\n",
       "      <td>NaN</td>\n",
       "      <td>&lt;Null&gt;</td>\n",
       "      <td>NaN</td>\n",
       "      <td>NPS</td>\n",
       "      <td>NaN</td>\n",
       "      <td>NaN</td>\n",
       "      <td>1239.323736</td>\n",
       "      <td>8.611996e+04</td>\n",
       "      <td>0000</td>\n",
       "      <td>NaN</td>\n",
       "      <td>147.0</td>\n",
       "      <td>PAR 01730147</td>\n",
       "      <td>173.0</td>\n",
       "      <td></td>\n",
       "    </tr>\n",
       "    <tr>\n",
       "      <td>454</td>\n",
       "      <td>455</td>\n",
       "      <td>Nps_373</td>\n",
       "      <td>The Mall</td>\n",
       "      <td>NACC</td>\n",
       "      <td>802.0</td>\n",
       "      <td>7th To 6th St. NW &amp; Constitution Ave., To Inde...</td>\n",
       "      <td>1, 7, 9</td>\n",
       "      <td>NaN</td>\n",
       "      <td>NPS</td>\n",
       "      <td>04 &amp; 5</td>\n",
       "      <td>The National Mall</td>\n",
       "      <td>4922.576883</td>\n",
       "      <td>2.351805e+05</td>\n",
       "      <td>PAR</td>\n",
       "      <td>NaN</td>\n",
       "      <td>7.0</td>\n",
       "      <td>PAR 03160007</td>\n",
       "      <td>316.0</td>\n",
       "      <td>20001</td>\n",
       "    </tr>\n",
       "    <tr>\n",
       "      <td>455</td>\n",
       "      <td>456</td>\n",
       "      <td>NaN</td>\n",
       "      <td>Oxon Run Park</td>\n",
       "      <td>NACE</td>\n",
       "      <td>NaN</td>\n",
       "      <td>Mississippi Ave., Between 1st St. &amp; Southern A...</td>\n",
       "      <td>6</td>\n",
       "      <td>NaN</td>\n",
       "      <td>NaN</td>\n",
       "      <td>NaN</td>\n",
       "      <td>Oxon Run Park</td>\n",
       "      <td>1105.937756</td>\n",
       "      <td>2.898085e+04</td>\n",
       "      <td>NaN</td>\n",
       "      <td>NaN</td>\n",
       "      <td>NaN</td>\n",
       "      <td>RES 05010000</td>\n",
       "      <td>NaN</td>\n",
       "      <td>98942</td>\n",
       "    </tr>\n",
       "    <tr>\n",
       "      <td>456</td>\n",
       "      <td>457</td>\n",
       "      <td>Nps_234</td>\n",
       "      <td>Thomas Circle</td>\n",
       "      <td>NACC</td>\n",
       "      <td>828.0</td>\n",
       "      <td>Massachusetts &amp; Vermont Aves., NW</td>\n",
       "      <td>1</td>\n",
       "      <td>NaN</td>\n",
       "      <td>NaN</td>\n",
       "      <td>066</td>\n",
       "      <td>Thomas Circle</td>\n",
       "      <td>206.755953</td>\n",
       "      <td>3.401780e+03</td>\n",
       "      <td>NaN</td>\n",
       "      <td>NaN</td>\n",
       "      <td>NaN</td>\n",
       "      <td>RES 00660000</td>\n",
       "      <td>NaN</td>\n",
       "      <td>20005</td>\n",
       "    </tr>\n",
       "  </tbody>\n",
       "</table>\n",
       "<p>457 rows × 19 columns</p>\n",
       "</div>"
      ],
      "text/plain": [
       "     OBJECTID   GIS_ID                              NAME ALPHA_CODE  \\\n",
       "0           1  Nps_060                  Fort Circle Park       ROCR   \n",
       "1           2  Nps_087                  Fort Circle Park       ROCR   \n",
       "2           3  Nps_081                  Fort Circle Park       ROCR   \n",
       "3           4  Nps_061                  Fort Circle Park       ROCR   \n",
       "4           5  Nps_543                  Fort Circle Park       ROCR   \n",
       "..        ...      ...                               ...        ...   \n",
       "452       453      NaN  United States National Arboretum        NaN   \n",
       "453       454      NaN                               NaN        NaN   \n",
       "454       455  Nps_373                          The Mall       NACC   \n",
       "455       456      NaN                     Oxon Run Park       NACE   \n",
       "456       457  Nps_234                     Thomas Circle       NACC   \n",
       "\n",
       "     PARK_CODE                                           LOCATION  AQUIRED  \\\n",
       "0        832.0             Fort Reno Park To Rock Creek Park , NW        6   \n",
       "1        832.0               Fort Totten Park To Barnard Hill, NE     6, 8   \n",
       "2        832.0               Fort Totten Park To Barnard Hill, NE     6, 8   \n",
       "3        832.0               Fort Totten Park To Barnard Hill, NE     6, 8   \n",
       "4        832.0               Fort Totten Park To Barnard Hill, NE     6, 8   \n",
       "..         ...                                                ...      ...   \n",
       "452        NaN                            3501 NEW YORK AVENUE NE   <Null>   \n",
       "453        NaN                                                NaN   <Null>   \n",
       "454      802.0  7th To 6th St. NW & Constitution Ave., To Inde...  1, 7, 9   \n",
       "455        NaN  Mississippi Ave., Between 1st St. & Southern A...        6   \n",
       "456      828.0                  Massachusetts & Vermont Aves., NW        1   \n",
       "\n",
       "    TRANS_DC SOURCE RESERVE                             LABEL  Shape_Length  \\\n",
       "0        NaN    NPS     515                  Fort Circle Park   3450.230475   \n",
       "1        NaN    NPS     451                  Fort Circle Park    856.712577   \n",
       "2        NaN    NPS     451                  Fort Circle Park    952.759982   \n",
       "3        NaN    NPS     451                  Fort Circle Park   1154.493074   \n",
       "4        NaN    NPS     451                  Fort Circle Park   2600.063143   \n",
       "..       ...    ...     ...                               ...           ...   \n",
       "452      NaN    NPS     NaN  United States National Arboretum   8306.192314   \n",
       "453      NaN    NPS     NaN                               NaN   1239.323736   \n",
       "454      NaN    NPS  04 & 5                 The National Mall   4922.576883   \n",
       "455      NaN    NaN     NaN                     Oxon Run Park   1105.937756   \n",
       "456      NaN    NaN     066                     Thomas Circle    206.755953   \n",
       "\n",
       "       Shape_Area         SQUARE SUFFIX    LOT           SSL    PAR Zip Code  \n",
       "0    1.140667e+05  MULTI-SQUARES    NaN    0.0  RES 05150000    NaN    20015  \n",
       "1    1.980102e+04           0000    NaN    0.0  RES 04510000    NaN    20011  \n",
       "2    6.071470e+03           0000    NaN    0.0  RES 04510000    NaN    20011  \n",
       "3    3.976359e+04           0000    NaN    0.0  RES 04510000    NaN    20011  \n",
       "4    7.349317e+04           0000    NaN    0.0  RES 04510000    NaN    20011  \n",
       "..            ...            ...    ...    ...           ...    ...      ...  \n",
       "452  1.701988e+06           0000    NaN   16.0  PAR 01620016  162.0    20002  \n",
       "453  8.611996e+04           0000    NaN  147.0  PAR 01730147  173.0           \n",
       "454  2.351805e+05           PAR     NaN    7.0  PAR 03160007  316.0    20001  \n",
       "455  2.898085e+04            NaN    NaN    NaN  RES 05010000    NaN    98942  \n",
       "456  3.401780e+03            NaN    NaN    NaN  RES 00660000    NaN    20005  \n",
       "\n",
       "[457 rows x 19 columns]"
      ]
     },
     "execution_count": 24,
     "metadata": {},
     "output_type": "execute_result"
    }
   ],
   "source": [
    "napa"
   ]
  },
  {
   "cell_type": "code",
   "execution_count": 3,
   "metadata": {},
   "outputs": [],
   "source": [
    "park=pd.read_csv(\"../Leisure/Parks_and_Recreation_Areas.csv\")"
   ]
  },
  {
   "cell_type": "code",
   "execution_count": 4,
   "metadata": {},
   "outputs": [],
   "source": [
    "addr=park[\"ADDRESS\"]\n",
    "addr=addr.map(lambda x: x+\", Washington.D.C\")\n",
    "name=park[\"NAME\"]\n",
    "names=name+\", Washington.D.C\""
   ]
  },
  {
   "cell_type": "code",
   "execution_count": 5,
   "metadata": {},
   "outputs": [
    {
     "data": {
      "application/vnd.jupyter.widget-view+json": {
       "model_id": "d2d3119eb6e745659768d0664a3e7199",
       "version_major": 2,
       "version_minor": 0
      },
      "text/plain": [
       "MapView(layout=Layout(height='400px', width='100%'))"
      ]
     },
     "metadata": {},
     "output_type": "display_data"
    },
    {
     "data": {
      "text/html": [
       "<div class=\"map-static-img-preview-eb80ab62-b05d-4ee8-b0ca-d4a16e7bc553\"><img src=\"\"></img></div>"
      ],
      "text/plain": [
       "<IPython.core.display.HTML object>"
      ]
     },
     "metadata": {},
     "output_type": "display_data"
    }
   ],
   "source": [
    "gis=GIS()\n",
    "map = gis.map(\"Washington.D.C, USA\")\n",
    "map"
   ]
  },
  {
   "cell_type": "code",
   "execution_count": 6,
   "metadata": {
    "scrolled": true
   },
   "outputs": [],
   "source": [
    "zips = []\n",
    "for i in range(0,len(addr)):\n",
    "    if (len(geocode(names[i])[0]['attributes']['Postal'])<5):\n",
    "        zips.append(geocode(addr[i])[0]['attributes']['Postal'])  \n",
    "    else:\n",
    "        zips.append(geocode(names[i])[0]['attributes']['Postal'])   "
   ]
  },
  {
   "cell_type": "code",
   "execution_count": 8,
   "metadata": {},
   "outputs": [],
   "source": [
    "zips=pd.DataFrame(zips)\n",
    "zips.to_csv(\"../Leisure/Parks_zips.csv\",index=False)"
   ]
  }
 ],
 "metadata": {
  "kernelspec": {
   "display_name": "Python 3",
   "language": "python",
   "name": "python3"
  },
  "language_info": {
   "codemirror_mode": {
    "name": "ipython",
    "version": 3
   },
   "file_extension": ".py",
   "mimetype": "text/x-python",
   "name": "python",
   "nbconvert_exporter": "python",
   "pygments_lexer": "ipython3",
   "version": "3.6.5"
  }
 },
 "nbformat": 4,
 "nbformat_minor": 2
}
