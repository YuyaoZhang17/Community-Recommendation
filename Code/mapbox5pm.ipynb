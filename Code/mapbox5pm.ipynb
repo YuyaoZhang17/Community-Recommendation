{
 "cells": [
  {
   "source": [
    "import requests \n",
    "import pandas as pd\n",
    "import json\n",
    "import numpy as np"
   ],
   "cell_type": "code",
   "outputs": [],
   "metadata": {},
   "execution_count": 1
  },
  {
   "source": [
    "def polygon_area(points):\n",
    "    area = 0\n",
    "    q = points[-1]\n",
    "    for p in points:\n",
    "        area += p[0] * q[1] - p[1] * q[0]\n",
    "        q = p\n",
    "    return area / 2"
   ],
   "cell_type": "code",
   "outputs": [],
   "metadata": {},
   "execution_count": 2
  },
  {
   "source": [
    "cores=[\"-77.018798,38.910730\",\"-76.984152,38.904466\",\"-76.991153,38.880580\",\"-77.026214,38.895171\",\n",
    "      \"-77.031821,38.905202\",\"-77.042047,38.897675\",\"-77.077305,38.913979\",\"-77.059321,38.937563\",\n",
    "      \"-77.036869,38.920003\",\"-77.030272,38.933282\",\"-77.023408,38.954521\",\"-77.035392,38.977830\",\n",
    "      \"-77.063297,38.966898\",\"-77.092401,38.939452\",\"-76.993028,38.938160\",\"-76.971420,38.928633\",\n",
    "      \"-76.937517,38.892334\",\"-76.977764,38.860861\",\"-77.021224,38.879790\",\"-77.004226,38.832708\",\n",
    "      \"-77.040762,38.908050\",\"-77.052083,38.901120\"]"
   ],
   "cell_type": "code",
   "outputs": [],
   "metadata": {},
   "execution_count": 3
  },
  {
   "source": [
    "profile=[\"driving/\",\"walking/\",\"cycling/\"]\n",
    "time=[\"10\",\"30\",\"60\"]"
   ],
   "cell_type": "code",
   "outputs": [],
   "metadata": {},
   "execution_count": 4
  },
  {
   "source": [
    "part1=\"https://api.mapbox.com/isochrone/v1/mapbox/\"\n",
    "part2=\"?contours_minutes=\"\n",
    "part3=\"&contours_colors=6706ce&polygons=true&access_token=pk.eyJ1IjoiY3VydmlubGVhdGhhbSIsImEiOiJGMXVtM2JzIn0.pUbDx_ITAx-VQzb0Z1Mkew\""
   ],
   "cell_type": "code",
   "outputs": [],
   "metadata": {},
   "execution_count": 5
  },
  {
   "source": [
    "areas10=[]\n",
    "for i in range(22):\n",
    "    core=cores[i]\n",
    "    url=part1+\"driving/\"+core+part2+\"10\"+part3\n",
    "    r=requests.get(url)\n",
    "    a=json.loads(r.text)\n",
    "    coor=a[\"features\"][0][\"geometry\"][\"coordinates\"][0]\n",
    "    polygon=np.array(coor)\n",
    "    areas10.append(abs(polygon_area(coor)))\n",
    "            "
   ],
   "cell_type": "code",
   "outputs": [],
   "metadata": {},
   "execution_count": 6
  },
  {
   "source": [
    "areas30=[]\n",
    "for i in range(22):\n",
    "    core=cores[i]\n",
    "    url=part1+\"driving/\"+core+part2+\"30\"+part3\n",
    "    r=requests.get(url)\n",
    "    a=json.loads(r.text)\n",
    "    coor=a[\"features\"][0][\"geometry\"][\"coordinates\"][0]\n",
    "    polygon=np.array(coor)\n",
    "    areas30.append(abs(polygon_area(coor)))"
   ],
   "cell_type": "code",
   "outputs": [],
   "metadata": {},
   "execution_count": 7
  },
  {
   "source": [
    "areas60=[]\n",
    "for i in range(22):\n",
    "    core=cores[i]\n",
    "    url=part1+\"driving/\"+core+part2+\"60\"+part3\n",
    "    r=requests.get(url)\n",
    "    a=json.loads(r.text)\n",
    "    coor=a[\"features\"][0][\"geometry\"][\"coordinates\"][0]\n",
    "    polygon=np.array(coor)\n",
    "    areas60.append(abs(polygon_area(coor)))"
   ],
   "cell_type": "code",
   "outputs": [],
   "metadata": {},
   "execution_count": 8
  },
  {
   "source": [
    "zip_code=['20001','20002','20003','20004','20005','20006','20007','20008','20009','20010','20011','20012',\n",
    "         '20015','20016','20017','20018','20019','20020','20024','20032','20036','20037']"
   ],
   "cell_type": "code",
   "outputs": [],
   "metadata": {},
   "execution_count": 9
  },
  {
   "source": [
    "driving=pd.DataFrame(zip_code,columns={\"Zip Code\"})"
   ],
   "cell_type": "code",
   "outputs": [],
   "metadata": {},
   "execution_count": 10
  },
  {
   "source": [
    "driving[\"Area of 10 mins\"]=areas10\n",
    "driving[\"Area of 30 mins\"]=areas30\n",
    "driving[\"Area of 60 mins\"]=areas60"
   ],
   "cell_type": "code",
   "outputs": [],
   "metadata": {},
   "execution_count": 11
  },
  {
   "source": [
    "driving"
   ],
   "cell_type": "code",
   "outputs": [
    {
     "output_type": "execute_result",
     "data": {
      "text/plain": "   Zip Code  Area of 10 mins  Area of 30 mins  Area of 60 mins\n0     20001         0.001092         0.074781         0.687551\n1     20002         0.001413         0.073840         0.647666\n2     20003         0.001985         0.114115         0.803254\n3     20004         0.001434         0.099716         0.784870\n4     20005         0.001302         0.077236         0.703968\n5     20006         0.001465         0.089054         0.758935\n6     20007         0.000923         0.058237         0.622148\n7     20008         0.002195         0.058046         0.659854\n8     20009         0.001025         0.044715         0.584897\n9     20010         0.000981         0.029911         0.522874\n10    20011         0.001920         0.044620         0.560130\n11    20012         0.002531         0.072926         0.696446\n12    20015         0.002568         0.056602         0.617861\n13    20016         0.002119         0.052815         0.605383\n14    20017         0.002162         0.047990         0.568292\n15    20018         0.002352         0.085211         0.663968\n16    20019         0.002346         0.089480         0.697768\n17    20020         0.000781         0.075480         0.674943\n18    20024         0.001832         0.118554         0.821715\n19    20032         0.001408         0.105972         0.756078\n20    20036         0.001063         0.057655         0.643045\n21    20037         0.001142         0.085362         0.742502",
      "text/html": "<div>\n<style scoped>\n    .dataframe tbody tr th:only-of-type {\n        vertical-align: middle;\n    }\n\n    .dataframe tbody tr th {\n        vertical-align: top;\n    }\n\n    .dataframe thead th {\n        text-align: right;\n    }\n</style>\n<table border=\"1\" class=\"dataframe\">\n  <thead>\n    <tr style=\"text-align: right;\">\n      <th></th>\n      <th>Zip Code</th>\n      <th>Area of 10 mins</th>\n      <th>Area of 30 mins</th>\n      <th>Area of 60 mins</th>\n    </tr>\n  </thead>\n  <tbody>\n    <tr>\n      <td>0</td>\n      <td>20001</td>\n      <td>0.001092</td>\n      <td>0.074781</td>\n      <td>0.687551</td>\n    </tr>\n    <tr>\n      <td>1</td>\n      <td>20002</td>\n      <td>0.001413</td>\n      <td>0.073840</td>\n      <td>0.647666</td>\n    </tr>\n    <tr>\n      <td>2</td>\n      <td>20003</td>\n      <td>0.001985</td>\n      <td>0.114115</td>\n      <td>0.803254</td>\n    </tr>\n    <tr>\n      <td>3</td>\n      <td>20004</td>\n      <td>0.001434</td>\n      <td>0.099716</td>\n      <td>0.784870</td>\n    </tr>\n    <tr>\n      <td>4</td>\n      <td>20005</td>\n      <td>0.001302</td>\n      <td>0.077236</td>\n      <td>0.703968</td>\n    </tr>\n    <tr>\n      <td>5</td>\n      <td>20006</td>\n      <td>0.001465</td>\n      <td>0.089054</td>\n      <td>0.758935</td>\n    </tr>\n    <tr>\n      <td>6</td>\n      <td>20007</td>\n      <td>0.000923</td>\n      <td>0.058237</td>\n      <td>0.622148</td>\n    </tr>\n    <tr>\n      <td>7</td>\n      <td>20008</td>\n      <td>0.002195</td>\n      <td>0.058046</td>\n      <td>0.659854</td>\n    </tr>\n    <tr>\n      <td>8</td>\n      <td>20009</td>\n      <td>0.001025</td>\n      <td>0.044715</td>\n      <td>0.584897</td>\n    </tr>\n    <tr>\n      <td>9</td>\n      <td>20010</td>\n      <td>0.000981</td>\n      <td>0.029911</td>\n      <td>0.522874</td>\n    </tr>\n    <tr>\n      <td>10</td>\n      <td>20011</td>\n      <td>0.001920</td>\n      <td>0.044620</td>\n      <td>0.560130</td>\n    </tr>\n    <tr>\n      <td>11</td>\n      <td>20012</td>\n      <td>0.002531</td>\n      <td>0.072926</td>\n      <td>0.696446</td>\n    </tr>\n    <tr>\n      <td>12</td>\n      <td>20015</td>\n      <td>0.002568</td>\n      <td>0.056602</td>\n      <td>0.617861</td>\n    </tr>\n    <tr>\n      <td>13</td>\n      <td>20016</td>\n      <td>0.002119</td>\n      <td>0.052815</td>\n      <td>0.605383</td>\n    </tr>\n    <tr>\n      <td>14</td>\n      <td>20017</td>\n      <td>0.002162</td>\n      <td>0.047990</td>\n      <td>0.568292</td>\n    </tr>\n    <tr>\n      <td>15</td>\n      <td>20018</td>\n      <td>0.002352</td>\n      <td>0.085211</td>\n      <td>0.663968</td>\n    </tr>\n    <tr>\n      <td>16</td>\n      <td>20019</td>\n      <td>0.002346</td>\n      <td>0.089480</td>\n      <td>0.697768</td>\n    </tr>\n    <tr>\n      <td>17</td>\n      <td>20020</td>\n      <td>0.000781</td>\n      <td>0.075480</td>\n      <td>0.674943</td>\n    </tr>\n    <tr>\n      <td>18</td>\n      <td>20024</td>\n      <td>0.001832</td>\n      <td>0.118554</td>\n      <td>0.821715</td>\n    </tr>\n    <tr>\n      <td>19</td>\n      <td>20032</td>\n      <td>0.001408</td>\n      <td>0.105972</td>\n      <td>0.756078</td>\n    </tr>\n    <tr>\n      <td>20</td>\n      <td>20036</td>\n      <td>0.001063</td>\n      <td>0.057655</td>\n      <td>0.643045</td>\n    </tr>\n    <tr>\n      <td>21</td>\n      <td>20037</td>\n      <td>0.001142</td>\n      <td>0.085362</td>\n      <td>0.742502</td>\n    </tr>\n  </tbody>\n</table>\n</div>"
     },
     "metadata": {},
     "execution_count": 12
    }
   ],
   "metadata": {},
   "execution_count": 12
  },
  {
   "source": [
    "driving.to_csv(\"Driving Area.csv\",index=False)"
   ],
   "cell_type": "code",
   "outputs": [],
   "metadata": {},
   "execution_count": 13
  },
  {
   "source": [
    "areas10b=[]\n",
    "for i in range(22):\n",
    "    core=cores[i]\n",
    "    url=part1+\"cycling/\"+core+part2+\"10\"+part3\n",
    "    r=requests.get(url)\n",
    "    a=json.loads(r.text)\n",
    "    coor=a[\"features\"][0][\"geometry\"][\"coordinates\"][0]\n",
    "    polygon=np.array(coor)\n",
    "    areas10b.append(abs(polygon_area(coor)))\n",
    "            "
   ],
   "cell_type": "code",
   "outputs": [],
   "metadata": {},
   "execution_count": 14
  },
  {
   "source": [
    "areas30b=[]\n",
    "for i in range(22):\n",
    "    core=cores[i]\n",
    "    url=part1+\"cycling/\"+core+part2+\"30\"+part3\n",
    "    r=requests.get(url)\n",
    "    a=json.loads(r.text)\n",
    "    coor=a[\"features\"][0][\"geometry\"][\"coordinates\"][0]\n",
    "    polygon=np.array(coor)\n",
    "    areas30b.append(abs(polygon_area(coor)))\n",
    "            "
   ],
   "cell_type": "code",
   "outputs": [],
   "metadata": {},
   "execution_count": 15
  },
  {
   "source": [
    "areas60b=[]\n",
    "for i in range(22):\n",
    "    core=cores[i]\n",
    "    url=part1+\"cycling/\"+core+part2+\"60\"+part3\n",
    "    r=requests.get(url)\n",
    "    a=json.loads(r.text)\n",
    "    coor=a[\"features\"][0][\"geometry\"][\"coordinates\"][0]\n",
    "    polygon=np.array(coor)\n",
    "    areas60b.append(abs(polygon_area(coor)))\n",
    "            "
   ],
   "cell_type": "code",
   "outputs": [],
   "metadata": {},
   "execution_count": 16
  },
  {
   "source": [
    "cycling=pd.DataFrame(zip_code,columns={\"Zip Code\"})"
   ],
   "cell_type": "code",
   "outputs": [],
   "metadata": {},
   "execution_count": 17
  },
  {
   "source": [
    "cycling[\"Area of 10 mins\"]=areas10b\n",
    "cycling[\"Area of 30 mins\"]=areas30b\n",
    "cycling[\"Area of 60 mins\"]=areas60b"
   ],
   "cell_type": "code",
   "outputs": [],
   "metadata": {},
   "execution_count": 18
  },
  {
   "source": [
    "cycling.to_csv(\"Cycling Area.csv\",index=False)"
   ],
   "cell_type": "code",
   "outputs": [],
   "metadata": {},
   "execution_count": 19
  },
  {
   "source": [
    "areas10c=[]\n",
    "for i in range(22):\n",
    "    core=cores[i]\n",
    "    url=part1+\"walking/\"+core+part2+\"10\"+part3\n",
    "    r=requests.get(url)\n",
    "    a=json.loads(r.text)\n",
    "    coor=a[\"features\"][0][\"geometry\"][\"coordinates\"][0]\n",
    "    polygon=np.array(coor)\n",
    "    areas10c.append(abs(polygon_area(coor)))\n",
    "            "
   ],
   "cell_type": "code",
   "outputs": [],
   "metadata": {},
   "execution_count": 21
  },
  {
   "source": [
    "areas30c=[]\n",
    "for i in range(22):\n",
    "    core=cores[i]\n",
    "    url=part1+\"walking/\"+core+part2+\"10\"+part3\n",
    "    r=requests.get(url)\n",
    "    a=json.loads(r.text)\n",
    "    coor=a[\"features\"][0][\"geometry\"][\"coordinates\"][0]\n",
    "    polygon=np.array(coor)\n",
    "    areas30c.append(abs(polygon_area(coor)))\n",
    "            "
   ],
   "cell_type": "code",
   "outputs": [],
   "metadata": {},
   "execution_count": 22
  },
  {
   "source": [
    "areas60c=[]\n",
    "for i in range(22):\n",
    "    core=cores[i]\n",
    "    url=part1+\"walking/\"+core+part2+\"10\"+part3\n",
    "    r=requests.get(url)\n",
    "    a=json.loads(r.text)\n",
    "    coor=a[\"features\"][0][\"geometry\"][\"coordinates\"][0]\n",
    "    polygon=np.array(coor)\n",
    "    areas60c.append(abs(polygon_area(coor)))\n",
    "            "
   ],
   "cell_type": "code",
   "outputs": [],
   "metadata": {},
   "execution_count": 23
  },
  {
   "source": [
    "walking=pd.DataFrame(zip_code,columns={\"Zip Code\"})"
   ],
   "cell_type": "code",
   "outputs": [],
   "metadata": {},
   "execution_count": 24
  },
  {
   "source": [
    "walking[\"Area of 10 mins\"]=areas10c\n",
    "walking[\"Area of 30 mins\"]=areas30c\n",
    "walking[\"Area of 60 mins\"]=areas60c"
   ],
   "cell_type": "code",
   "outputs": [],
   "metadata": {},
   "execution_count": 25
  },
  {
   "source": [
    "walking.to_csv(\"Walking Area.csv\",index=False)"
   ],
   "cell_type": "code",
   "outputs": [],
   "metadata": {},
   "execution_count": 26
  },
  {
   "source": [
    "walking"
   ],
   "cell_type": "code",
   "outputs": [
    {
     "output_type": "execute_result",
     "data": {
      "text/plain": "   Zip Code  Area of 10 mins  Area of 30 mins  Area of 60 mins\n0     20001         0.000145         0.000145         0.000145\n1     20002         0.000148         0.000148         0.000148\n2     20003         0.000142         0.000142         0.000142\n3     20004         0.000161         0.000161         0.000161\n4     20005         0.000187         0.000187         0.000187\n5     20006         0.000156         0.000156         0.000156\n6     20007         0.000071         0.000071         0.000071\n7     20008         0.000115         0.000115         0.000115\n8     20009         0.000130         0.000130         0.000130\n9     20010         0.000147         0.000147         0.000147\n10    20011         0.000173         0.000173         0.000173\n11    20012         0.000095         0.000095         0.000095\n12    20015         0.000159         0.000159         0.000159\n13    20016         0.000120         0.000120         0.000120\n14    20017         0.000129         0.000129         0.000129\n15    20018         0.000139         0.000139         0.000139\n16    20019         0.000148         0.000148         0.000148\n17    20020         0.000044         0.000044         0.000044\n18    20024         0.000109         0.000109         0.000109\n19    20032         0.000106         0.000106         0.000106\n20    20036         0.000148         0.000148         0.000148\n21    20037         0.000088         0.000088         0.000088",
      "text/html": "<div>\n<style scoped>\n    .dataframe tbody tr th:only-of-type {\n        vertical-align: middle;\n    }\n\n    .dataframe tbody tr th {\n        vertical-align: top;\n    }\n\n    .dataframe thead th {\n        text-align: right;\n    }\n</style>\n<table border=\"1\" class=\"dataframe\">\n  <thead>\n    <tr style=\"text-align: right;\">\n      <th></th>\n      <th>Zip Code</th>\n      <th>Area of 10 mins</th>\n      <th>Area of 30 mins</th>\n      <th>Area of 60 mins</th>\n    </tr>\n  </thead>\n  <tbody>\n    <tr>\n      <td>0</td>\n      <td>20001</td>\n      <td>0.000145</td>\n      <td>0.000145</td>\n      <td>0.000145</td>\n    </tr>\n    <tr>\n      <td>1</td>\n      <td>20002</td>\n      <td>0.000148</td>\n      <td>0.000148</td>\n      <td>0.000148</td>\n    </tr>\n    <tr>\n      <td>2</td>\n      <td>20003</td>\n      <td>0.000142</td>\n      <td>0.000142</td>\n      <td>0.000142</td>\n    </tr>\n    <tr>\n      <td>3</td>\n      <td>20004</td>\n      <td>0.000161</td>\n      <td>0.000161</td>\n      <td>0.000161</td>\n    </tr>\n    <tr>\n      <td>4</td>\n      <td>20005</td>\n      <td>0.000187</td>\n      <td>0.000187</td>\n      <td>0.000187</td>\n    </tr>\n    <tr>\n      <td>5</td>\n      <td>20006</td>\n      <td>0.000156</td>\n      <td>0.000156</td>\n      <td>0.000156</td>\n    </tr>\n    <tr>\n      <td>6</td>\n      <td>20007</td>\n      <td>0.000071</td>\n      <td>0.000071</td>\n      <td>0.000071</td>\n    </tr>\n    <tr>\n      <td>7</td>\n      <td>20008</td>\n      <td>0.000115</td>\n      <td>0.000115</td>\n      <td>0.000115</td>\n    </tr>\n    <tr>\n      <td>8</td>\n      <td>20009</td>\n      <td>0.000130</td>\n      <td>0.000130</td>\n      <td>0.000130</td>\n    </tr>\n    <tr>\n      <td>9</td>\n      <td>20010</td>\n      <td>0.000147</td>\n      <td>0.000147</td>\n      <td>0.000147</td>\n    </tr>\n    <tr>\n      <td>10</td>\n      <td>20011</td>\n      <td>0.000173</td>\n      <td>0.000173</td>\n      <td>0.000173</td>\n    </tr>\n    <tr>\n      <td>11</td>\n      <td>20012</td>\n      <td>0.000095</td>\n      <td>0.000095</td>\n      <td>0.000095</td>\n    </tr>\n    <tr>\n      <td>12</td>\n      <td>20015</td>\n      <td>0.000159</td>\n      <td>0.000159</td>\n      <td>0.000159</td>\n    </tr>\n    <tr>\n      <td>13</td>\n      <td>20016</td>\n      <td>0.000120</td>\n      <td>0.000120</td>\n      <td>0.000120</td>\n    </tr>\n    <tr>\n      <td>14</td>\n      <td>20017</td>\n      <td>0.000129</td>\n      <td>0.000129</td>\n      <td>0.000129</td>\n    </tr>\n    <tr>\n      <td>15</td>\n      <td>20018</td>\n      <td>0.000139</td>\n      <td>0.000139</td>\n      <td>0.000139</td>\n    </tr>\n    <tr>\n      <td>16</td>\n      <td>20019</td>\n      <td>0.000148</td>\n      <td>0.000148</td>\n      <td>0.000148</td>\n    </tr>\n    <tr>\n      <td>17</td>\n      <td>20020</td>\n      <td>0.000044</td>\n      <td>0.000044</td>\n      <td>0.000044</td>\n    </tr>\n    <tr>\n      <td>18</td>\n      <td>20024</td>\n      <td>0.000109</td>\n      <td>0.000109</td>\n      <td>0.000109</td>\n    </tr>\n    <tr>\n      <td>19</td>\n      <td>20032</td>\n      <td>0.000106</td>\n      <td>0.000106</td>\n      <td>0.000106</td>\n    </tr>\n    <tr>\n      <td>20</td>\n      <td>20036</td>\n      <td>0.000148</td>\n      <td>0.000148</td>\n      <td>0.000148</td>\n    </tr>\n    <tr>\n      <td>21</td>\n      <td>20037</td>\n      <td>0.000088</td>\n      <td>0.000088</td>\n      <td>0.000088</td>\n    </tr>\n  </tbody>\n</table>\n</div>"
     },
     "metadata": {},
     "execution_count": 27
    }
   ],
   "metadata": {},
   "execution_count": 27
  },
  {
   "source": [
    "cycling"
   ],
   "cell_type": "code",
   "outputs": [
    {
     "output_type": "execute_result",
     "data": {
      "text/plain": "   Zip Code  Area of 10 mins  Area of 30 mins  Area of 60 mins\n0     20001         0.001473         0.013130         0.050332\n1     20002         0.001433         0.012899         0.050477\n2     20003         0.001527         0.010546         0.047009\n3     20004         0.001355         0.011703         0.051098\n4     20005         0.001765         0.013936         0.053331\n5     20006         0.001278         0.012825         0.050330\n6     20007         0.000854         0.010906         0.045312\n7     20008         0.001467         0.014723         0.048765\n8     20009         0.001633         0.014458         0.052124\n9     20010         0.001516         0.015335         0.049685\n10    20011         0.001591         0.015743         0.048301\n11    20012         0.001382         0.015277         0.046023\n12    20015         0.001481         0.015369         0.049684\n13    20016         0.001608         0.012971         0.048851\n14    20017         0.001601         0.012948         0.044839\n15    20018         0.001558         0.013398         0.044924\n16    20019         0.001449         0.011603         0.036296\n17    20020         0.000998         0.009681         0.033401\n18    20024         0.001038         0.010046         0.049511\n19    20032         0.000884         0.008657         0.034380\n20    20036         0.001576         0.013757         0.052082\n21    20037         0.001057         0.011156         0.045544",
      "text/html": "<div>\n<style scoped>\n    .dataframe tbody tr th:only-of-type {\n        vertical-align: middle;\n    }\n\n    .dataframe tbody tr th {\n        vertical-align: top;\n    }\n\n    .dataframe thead th {\n        text-align: right;\n    }\n</style>\n<table border=\"1\" class=\"dataframe\">\n  <thead>\n    <tr style=\"text-align: right;\">\n      <th></th>\n      <th>Zip Code</th>\n      <th>Area of 10 mins</th>\n      <th>Area of 30 mins</th>\n      <th>Area of 60 mins</th>\n    </tr>\n  </thead>\n  <tbody>\n    <tr>\n      <td>0</td>\n      <td>20001</td>\n      <td>0.001473</td>\n      <td>0.013130</td>\n      <td>0.050332</td>\n    </tr>\n    <tr>\n      <td>1</td>\n      <td>20002</td>\n      <td>0.001433</td>\n      <td>0.012899</td>\n      <td>0.050477</td>\n    </tr>\n    <tr>\n      <td>2</td>\n      <td>20003</td>\n      <td>0.001527</td>\n      <td>0.010546</td>\n      <td>0.047009</td>\n    </tr>\n    <tr>\n      <td>3</td>\n      <td>20004</td>\n      <td>0.001355</td>\n      <td>0.011703</td>\n      <td>0.051098</td>\n    </tr>\n    <tr>\n      <td>4</td>\n      <td>20005</td>\n      <td>0.001765</td>\n      <td>0.013936</td>\n      <td>0.053331</td>\n    </tr>\n    <tr>\n      <td>5</td>\n      <td>20006</td>\n      <td>0.001278</td>\n      <td>0.012825</td>\n      <td>0.050330</td>\n    </tr>\n    <tr>\n      <td>6</td>\n      <td>20007</td>\n      <td>0.000854</td>\n      <td>0.010906</td>\n      <td>0.045312</td>\n    </tr>\n    <tr>\n      <td>7</td>\n      <td>20008</td>\n      <td>0.001467</td>\n      <td>0.014723</td>\n      <td>0.048765</td>\n    </tr>\n    <tr>\n      <td>8</td>\n      <td>20009</td>\n      <td>0.001633</td>\n      <td>0.014458</td>\n      <td>0.052124</td>\n    </tr>\n    <tr>\n      <td>9</td>\n      <td>20010</td>\n      <td>0.001516</td>\n      <td>0.015335</td>\n      <td>0.049685</td>\n    </tr>\n    <tr>\n      <td>10</td>\n      <td>20011</td>\n      <td>0.001591</td>\n      <td>0.015743</td>\n      <td>0.048301</td>\n    </tr>\n    <tr>\n      <td>11</td>\n      <td>20012</td>\n      <td>0.001382</td>\n      <td>0.015277</td>\n      <td>0.046023</td>\n    </tr>\n    <tr>\n      <td>12</td>\n      <td>20015</td>\n      <td>0.001481</td>\n      <td>0.015369</td>\n      <td>0.049684</td>\n    </tr>\n    <tr>\n      <td>13</td>\n      <td>20016</td>\n      <td>0.001608</td>\n      <td>0.012971</td>\n      <td>0.048851</td>\n    </tr>\n    <tr>\n      <td>14</td>\n      <td>20017</td>\n      <td>0.001601</td>\n      <td>0.012948</td>\n      <td>0.044839</td>\n    </tr>\n    <tr>\n      <td>15</td>\n      <td>20018</td>\n      <td>0.001558</td>\n      <td>0.013398</td>\n      <td>0.044924</td>\n    </tr>\n    <tr>\n      <td>16</td>\n      <td>20019</td>\n      <td>0.001449</td>\n      <td>0.011603</td>\n      <td>0.036296</td>\n    </tr>\n    <tr>\n      <td>17</td>\n      <td>20020</td>\n      <td>0.000998</td>\n      <td>0.009681</td>\n      <td>0.033401</td>\n    </tr>\n    <tr>\n      <td>18</td>\n      <td>20024</td>\n      <td>0.001038</td>\n      <td>0.010046</td>\n      <td>0.049511</td>\n    </tr>\n    <tr>\n      <td>19</td>\n      <td>20032</td>\n      <td>0.000884</td>\n      <td>0.008657</td>\n      <td>0.034380</td>\n    </tr>\n    <tr>\n      <td>20</td>\n      <td>20036</td>\n      <td>0.001576</td>\n      <td>0.013757</td>\n      <td>0.052082</td>\n    </tr>\n    <tr>\n      <td>21</td>\n      <td>20037</td>\n      <td>0.001057</td>\n      <td>0.011156</td>\n      <td>0.045544</td>\n    </tr>\n  </tbody>\n</table>\n</div>"
     },
     "metadata": {},
     "execution_count": 20
    }
   ],
   "metadata": {},
   "execution_count": 20
  }
 ],
 "metadata": {
  "kernelspec": {
   "display_name": "Python 3",
   "language": "python",
   "name": "python3"
  },
  "language_info": {
   "codemirror_mode": {
    "name": "ipython",
    "version": 3
   },
   "file_extension": ".py",
   "mimetype": "text/x-python",
   "name": "python",
   "nbconvert_exporter": "python",
   "pygments_lexer": "ipython3",
   "version": "3.7.4"
  }
 },
 "nbformat": 4,
 "nbformat_minor": 2
}