{
 "cells": [
  {
   "cell_type": "code",
   "execution_count": 1,
   "metadata": {},
   "outputs": [],
   "source": [
    "import pandas as pd\n",
    "import numpy as np\n",
    "import glob\n",
    "import math\n",
    "import json\n",
    "import requests\n",
    "from geopy.geocoders import Nominatim"
   ]
  },
  {
   "cell_type": "markdown",
   "metadata": {},
   "source": [
    "the home sales part"
   ]
  },
  {
   "cell_type": "code",
   "execution_count": 2,
   "metadata": {},
   "outputs": [],
   "source": [
    "# create a list of zip code which would be the name of communities as well\n",
    "zip_code=['20001','20002','20003','20004','20005','20006','20007','20008','20009','20010','20011','20012',\n",
    "         '20015','20016','20017','20018','20019','20020','20024','20032','20036','20037']"
   ]
  },
  {
   "cell_type": "code",
   "execution_count": 3,
   "metadata": {},
   "outputs": [],
   "source": [
    "# read all files in one folder\n",
    "path_Sales =r'../Home Sales/9_1_2018-9_1_2019, Home Sales by Zip' \n",
    "allFiles_Sales = glob.glob(path_Sales + \"/*.csv\")\n",
    "frame_Sales = pd.DataFrame()\n",
    "list_Sales = []\n",
    "for file_Sales in allFiles_Sales:\n",
    "    df = pd.read_csv(file_Sales,index_col=None, header=0)\n",
    "    list_Sales.append(df)\n",
    "\n",
    "for i in range(len(list_Sales)):\n",
    "    list_Sales[i][\"Zip Code\"]=zip_code[i]\n",
    "    \n",
    "frame_Sales=pd.concat(list_Sales)"
   ]
  },
  {
   "cell_type": "code",
   "execution_count": 4,
   "metadata": {},
   "outputs": [],
   "source": [
    "frame_Sales.to_csv(\"sales.csv\")"
   ]
  },
  {
   "cell_type": "code",
   "execution_count": 5,
   "metadata": {},
   "outputs": [],
   "source": [
    "file_names=[]\n",
    "for i in range (0,22):\n",
    "    file_names.append('zip_'+zip_code[i])\n",
    "\n",
    "files={}\n",
    "for i in range(0,22):\n",
    "    files[file_names[i]]=list_Sales[i]"
   ]
  },
  {
   "cell_type": "code",
   "execution_count": 6,
   "metadata": {},
   "outputs": [],
   "source": [
    "# create a list of average rental amount\n",
    "ave_rent=[]\n",
    "for i in range(0,22):\n",
    "    ave_rent.append(list_Sales[i].groupby('Beds', as_index=False)['Current Price'].mean())"
   ]
  },
  {
   "cell_type": "code",
   "execution_count": 7,
   "metadata": {},
   "outputs": [],
   "source": [
    "for i in range(0,22):\n",
    "    ave_rent[i]['Zip Code']=zip_code[i]\n",
    "    \n",
    "data=pd.DataFrame()\n",
    "for i in range(0,22):\n",
    "    data=data.append(ave_rent[i])\n",
    "    \n",
    "data.rename(columns={'Current Price':'Ave Rent'},inplace=True)"
   ]
  },
  {
   "cell_type": "code",
   "execution_count": 8,
   "metadata": {},
   "outputs": [],
   "source": [
    "# create a dataframe to store data \n",
    "df=pd.DataFrame(zip_code,columns={\"Zip Code\"})"
   ]
  },
  {
   "cell_type": "code",
   "execution_count": 9,
   "metadata": {},
   "outputs": [
    {
     "name": "stderr",
     "output_type": "stream",
     "text": [
      "C:\\Users\\19018\\Anaconda3\\lib\\site-packages\\pandas\\core\\frame.py:4223: SettingWithCopyWarning: \n",
      "A value is trying to be set on a copy of a slice from a DataFrame\n",
      "\n",
      "See the caveats in the documentation: http://pandas.pydata.org/pandas-docs/stable/user_guide/indexing.html#returning-a-view-versus-a-copy\n",
      "  return super().rename(**kwargs)\n"
     ]
    }
   ],
   "source": [
    "# create a dataframe of home sale prices for different number of beds\n",
    "bed_no=np.arange(0,8)\n",
    "\n",
    "df_s=[]\n",
    "for i in range(len(bed_no)):\n",
    "    df_s.append(data[data[\"Beds\"]==bed_no[i]])\n",
    "\n",
    "names=[]\n",
    "for i in range(len(bed_no)):\n",
    "    names.append('Price for Sale|'+str(int(bed_no[i]))+\" Beds\")\n",
    "\n",
    "for i in range(len(bed_no)):\n",
    "    df_s[i].rename(columns={'Ave Rent':names[i]}, inplace=True)\n",
    "    del df_s[i][\"Beds\"]"
   ]
  },
  {
   "cell_type": "code",
   "execution_count": 10,
   "metadata": {},
   "outputs": [],
   "source": [
    "for i in range(len(bed_no)):\n",
    "    df=pd.merge(df,df_s[i],how=\"left\",on=\"Zip Code\")"
   ]
  },
  {
   "cell_type": "code",
   "execution_count": 11,
   "metadata": {},
   "outputs": [],
   "source": [
    "df.rename(columns={\"Price for Sale|0 Beds\":\"Price for Sale|Studio\",\"Price for Sale|1 Beds\":\"Price for Sale|1 Bed\"}, inplace=True)"
   ]
  },
  {
   "cell_type": "code",
   "execution_count": 12,
   "metadata": {},
   "outputs": [],
   "source": [
    "# class Community:\n",
    "#     def __init__(self,zipcode):\n",
    "#         self.zipcode=zipcode\n",
    "#     def Ave_Rent(self,Beds):\n",
    "#         ave_rent=df.loc[(df[\"Zip_Code\"]==zipcode) & (df[\"Beds\"]==Beds)]['Ave_Rent']\n",
    "\n",
    "# zip_20001=Community(20001)\n",
    "\n",
    "    "
   ]
  },
  {
   "cell_type": "code",
   "execution_count": 13,
   "metadata": {},
   "outputs": [],
   "source": [
    "# create a function to rank the performance\n",
    "def ranking(data):\n",
    "    data2=data.drop_duplicates(keep='first', inplace=False).dropna()\n",
    "    return data.map(lambda x:5 if x>np.nanpercentile(data2,80)\n",
    "                               else (4 if np.nanpercentile(data2,60)<x<=np.nanpercentile(data2,80)\n",
    "                               else (3 if np.nanpercentile(data2,40)<x<=np.nanpercentile(data2,60) \n",
    "                               else (2 if np.nanpercentile(data2,20)<x<=np.nanpercentile(data2,40)\n",
    "                               else (1)))))"
   ]
  },
  {
   "cell_type": "code",
   "execution_count": 14,
   "metadata": {},
   "outputs": [],
   "source": [
    "def ranking2(data):\n",
    "    data2=data.drop_duplicates(keep='first', inplace=False).dropna()\n",
    "    return data.map(lambda x:5 if x>np.nanpercentile(data2,80)\n",
    "                               else (4 if np.nanpercentile(data2,60)<x<=np.nanpercentile(data2,80)\n",
    "                               else (3 if np.nanpercentile(data2,40)<x<=np.nanpercentile(data2,60) \n",
    "                               else (2 if np.nanpercentile(data2,20)<x<=np.nanpercentile(data2,40)\n",
    "                               else (1 if x<=np.nanpercentile(data2,20) else None)))))"
   ]
  },
  {
   "cell_type": "markdown",
   "metadata": {},
   "source": [
    "home appreciation part"
   ]
  },
  {
   "cell_type": "code",
   "execution_count": 15,
   "metadata": {},
   "outputs": [
    {
     "name": "stderr",
     "output_type": "stream",
     "text": [
      "C:\\Users\\19018\\Anaconda3\\lib\\site-packages\\ipykernel_launcher.py:12: FutureWarning: Sorting because non-concatenation axis is not aligned. A future version\n",
      "of pandas will change to not sort by default.\n",
      "\n",
      "To accept the future behavior, pass 'sort=False'.\n",
      "\n",
      "To retain the current behavior and silence the warning, pass 'sort=True'.\n",
      "\n",
      "  if sys.path[0] == '':\n"
     ]
    }
   ],
   "source": [
    "# the sales data for year 2009\n",
    "path_09 =r'../Home Sales/9_1_2008-9_1_2009 Home Sales by Zip' \n",
    "allFiles_09 = glob.glob(path_09 + \"/*.csv\")\n",
    "frame_09 = pd.DataFrame()\n",
    "list_09 = []\n",
    "for file_Sales in allFiles_09:\n",
    "    df_09 = pd.read_csv(file_Sales,index_col=None, header=0,dtype={'Zip':str})\n",
    "    df_09[\"Current Price\"]=df_09[\"Current Price\"].map(lambda x: str.split(x,\"$\")[-1].replace(\",\",\"\"))\n",
    "    df_09[\"Current Price\"]=df_09[\"Current Price\"].astype(float)\n",
    "    df_09=df_09.rename(columns={\"Current Price\":\"2009\"})\n",
    "    list_09.append(df_09)\n",
    "frame_09=pd.concat(list_09)"
   ]
  },
  {
   "cell_type": "code",
   "execution_count": 16,
   "metadata": {},
   "outputs": [],
   "source": [
    "# calculate the average rental price for 2009 by zip code\n",
    "ave_09=pd.DataFrame(frame_09.groupby(by=[\"Zip\",\"Beds\"])[\"2009\"].mean())\n",
    "ave_09=ave_09.reset_index([\"Zip\",\"Beds\"])"
   ]
  },
  {
   "cell_type": "code",
   "execution_count": 17,
   "metadata": {},
   "outputs": [
    {
     "name": "stderr",
     "output_type": "stream",
     "text": [
      "C:\\Users\\19018\\Anaconda3\\lib\\site-packages\\ipykernel_launcher.py:13: FutureWarning: Sorting because non-concatenation axis is not aligned. A future version\n",
      "of pandas will change to not sort by default.\n",
      "\n",
      "To accept the future behavior, pass 'sort=False'.\n",
      "\n",
      "To retain the current behavior and silence the warning, pass 'sort=True'.\n",
      "\n",
      "  del sys.path[0]\n"
     ]
    }
   ],
   "source": [
    "# sales data for year 2014\n",
    "path_14 =r'../Home Sales/9_1_2013-9_1_2014 Home Sales by Zip' \n",
    "allFiles_14 = glob.glob(path_14 + \"/*.csv\")\n",
    "frame_14 = pd.DataFrame()\n",
    "list_14 = []\n",
    "for file_Sales in allFiles_14:\n",
    "    df_14 = pd.read_csv(file_Sales,index_col=None, header=0,dtype={'Zip':str})\n",
    "    df_14[\"Current Price\"]=df_14[\"Current Price\"].astype(str)\n",
    "    df_14[\"Current Price\"]=df_14[\"Current Price\"].map(lambda x: str.split(x,\"$\")[-1].replace(\",\",\"\"))\n",
    "    df_14[\"Current Price\"]=df_14[\"Current Price\"].astype(float)\n",
    "    df_14=df_14.rename(columns={\"Current Price\":\"2014\"})\n",
    "    list_14.append(df_14)\n",
    "frame_14=pd.concat(list_14)"
   ]
  },
  {
   "cell_type": "code",
   "execution_count": 18,
   "metadata": {},
   "outputs": [],
   "source": [
    "# calculate average rental price for 2014 by zip code\n",
    "ave_14=pd.DataFrame(frame_14.groupby(by=[\"Zip\",\"Beds\"])[\"2014\"].mean())\n",
    "ave_14=ave_14.reset_index([\"Zip\",\"Beds\"])"
   ]
  },
  {
   "cell_type": "code",
   "execution_count": 19,
   "metadata": {},
   "outputs": [],
   "source": [
    "# add the data of 2019\n",
    "ave_19=pd.DataFrame(frame_Sales.groupby(by=[\"Zip Code\",\"Beds\"])[\"Current Price\"].mean())\n",
    "ave_19=ave_19.reset_index([\"Zip Code\",\"Beds\"])\n",
    "ave_19=ave_19.rename(columns={\"Zip Code\":\"Zip\",\"Current Price\":\"2019\"})"
   ]
  },
  {
   "cell_type": "code",
   "execution_count": 20,
   "metadata": {},
   "outputs": [],
   "source": [
    "# merge dataframes together\n",
    "ave=pd.merge(ave_09,ave_14,on=[\"Zip\",\"Beds\"])\n",
    "ave=pd.merge(ave,ave_19,on=[\"Zip\",\"Beds\"])"
   ]
  },
  {
   "cell_type": "code",
   "execution_count": 21,
   "metadata": {},
   "outputs": [],
   "source": [
    "# calculate the sales appreciation \n",
    "ave[\"10 years appreciation\"]=((ave[\"2019\"]-ave[\"2009\"])/ave[\"2009\"]).apply(lambda x: format(x, '.2%'))"
   ]
  },
  {
   "cell_type": "code",
   "execution_count": 22,
   "metadata": {},
   "outputs": [],
   "source": [
    "ave[\"5 years appreciation\"]=((ave[\"2019\"]-ave[\"2014\"])/ave[\"2014\"]).apply(lambda x: format(x, '.2%'))"
   ]
  },
  {
   "cell_type": "code",
   "execution_count": 23,
   "metadata": {},
   "outputs": [],
   "source": [
    "# create a dataframe to list different sales for different construction type and different years\n",
    "dfsale=pd.DataFrame(data=zip_code,columns={\"Zip\"},dtype=str)\n",
    "dfapp=pd.DataFrame(data=zip_code,columns={\"Zip\"},dtype=str)\n",
    "for i in range(8):\n",
    "    ave2=ave[ave[\"Beds\"]==i].reset_index(drop=True)\n",
    "    ave2=ave2.drop(columns=\"Beds\")\n",
    "    ave2=ave2.merge(dfsale,how=\"right\",on=\"Zip\")\n",
    "    app5=[]\n",
    "    app10=[]\n",
    "    name1=str(\"5 years appreciation|\"+'%d beds'%(i))\n",
    "    name2=str(\"10 years appreciation|\"+'%d beds'%(i))\n",
    "    name3=str(\"Ranking of 5 years appreciation|\"+'%d beds'%(i))\n",
    "    name4=str(\"Ranking of 10 years appreciation|\"+'%d beds'%(i))\n",
    "    for j in range(len(zip_code)):\n",
    "        if len(ave2[ave2[\"Zip\"]==zip_code[j]][\"5 years appreciation\"])==0:\n",
    "            app5.append(\" \")\n",
    "        else:\n",
    "            app5.append(ave2[ave2[\"Zip\"]==zip_code[j]][\"5 years appreciation\"].iloc[0])\n",
    "        if len(ave2[ave2[\"Zip\"]==zip_code[j]][\"10 years appreciation\"])==0:\n",
    "            app10.append(\" \")\n",
    "        else:\n",
    "            app10.append(ave2[ave2[\"Zip\"]==zip_code[j]][\"10 years appreciation\"].iloc[0])\n",
    "    ave2[name1]=app5\n",
    "    ave2[name3]=ranking2(pd.DataFrame(app5)[0].map(lambda x:x if type(x)==float else (float(x.strip(\"%\")))))\n",
    "    ave2[name2]=app10\n",
    "    ave2[name4]=ranking2(pd.DataFrame(app10)[0].map(lambda x:x if type(x)==float else (float(x.strip(\"%\")))))\n",
    "    ave2=ave2.drop(columns={\"2009\",\"2014\",\"2019\",\"5 years appreciation\",\"10 years appreciation\"})\n",
    "    dfapp=dfapp.merge(ave2,on=\"Zip\",how=\"right\")"
   ]
  },
  {
   "cell_type": "code",
   "execution_count": 24,
   "metadata": {},
   "outputs": [],
   "source": [
    "dfapp=dfapp.rename(columns={\"5 years appreciation|0 beds\":\"5 years appreciation|Studio\",\n",
    "                            \"10 years appreciation|0 beds\":\"10 years appreciation|Studio\",\n",
    "                           \"Zip\":\"Zip Code\",\"5 years appreciation|1 beds\":\"5 years appreciation|1 bed\",\n",
    "                           \"10 years appreciation|1 beds\":\"10 years appreciation|1 bed\",\n",
    "                            \"Ranking of 5 years appreciation|0 beds\":\"Ranking of 5 years appreciation|Studio\",\n",
    "                            \"Ranking of 10 years appreciation|0 beds\":\"Ranking of 10 years appreciation|Studio\",\n",
    "                            \"Ranking of 5 years appreciation|1 beds\":\"Ranking of 5 years appreciation|1 bed\",\n",
    "                           \"Ranking of 10 years appreciation|1 beds\":\"Ranking of 10 years appreciation|1 bed\"})"
   ]
  },
  {
   "cell_type": "code",
   "execution_count": 25,
   "metadata": {},
   "outputs": [],
   "source": [
    "dfapp.to_csv(\"home sales appreciation.csv\")"
   ]
  },
  {
   "cell_type": "code",
   "execution_count": 26,
   "metadata": {},
   "outputs": [],
   "source": [
    "df=df.merge(dfapp,on=\"Zip Code\")"
   ]
  },
  {
   "cell_type": "markdown",
   "metadata": {},
   "source": [
    "Home Rental part"
   ]
  },
  {
   "cell_type": "code",
   "execution_count": 27,
   "metadata": {},
   "outputs": [],
   "source": [
    "rent=pd.read_csv(\"../Rentals/Rentals.csv\",dtype={\"Zip Code\": str})"
   ]
  },
  {
   "cell_type": "code",
   "execution_count": 28,
   "metadata": {},
   "outputs": [],
   "source": [
    "df=pd.merge(df,rent,on=\"Zip Code\")"
   ]
  },
  {
   "cell_type": "markdown",
   "metadata": {},
   "source": [
    "demographical part (ages)"
   ]
  },
  {
   "cell_type": "code",
   "execution_count": 29,
   "metadata": {},
   "outputs": [],
   "source": [
    "path_dm =r'../Demographics' \n",
    "allFiles_dm = glob.glob(path_dm + \"/*.csv\")\n",
    "frame_dm = pd.DataFrame()\n",
    "list_dm = []\n",
    "for file_dm in allFiles_dm:\n",
    "    df_dm = pd.read_csv(file_dm,index_col=None, header=0)\n",
    "    list_dm.append(df_dm)\n",
    "for i in range(22):\n",
    "    list_dm[i][\"Zip Code\"]=zip_code[i]\n",
    "frame_dm=pd.concat(list_dm)"
   ]
  },
  {
   "cell_type": "code",
   "execution_count": 30,
   "metadata": {},
   "outputs": [],
   "source": [
    "nochild=[]\n",
    "for i in range(22):\n",
    "    sub=frame_dm[frame_dm[\"Zip Code\"]==zip_code[i]].reset_index()\n",
    "    ages=[\"0\",\"1\",\"2\",\"3\",\"4\",\"5\"]\n",
    "    child=sub[sub[\"Age\"].isin(ages)]\n",
    "    nochild.append(child[\"Number\"].sum())\n",
    "df[\"Number of Children\"]=nochild"
   ]
  },
  {
   "cell_type": "code",
   "execution_count": 31,
   "metadata": {},
   "outputs": [],
   "source": [
    "noele=[]\n",
    "for i in range(22):\n",
    "    sub=frame_dm[frame_dm[\"Zip Code\"]==zip_code[i]].reset_index()\n",
    "    ages=[\"6\",\"7\",\"8\",\"9\",\"10\",\"11\",\"12\"]\n",
    "    ele=sub[sub[\"Age\"].isin(ages)]\n",
    "    noele.append(ele[\"Number\"].sum())\n",
    "df[\"Number of Elementary Kids\"]=noele"
   ]
  },
  {
   "cell_type": "code",
   "execution_count": 32,
   "metadata": {},
   "outputs": [],
   "source": [
    "nomid=[]\n",
    "for i in range(22):\n",
    "    sub=frame_dm[frame_dm[\"Zip Code\"]==zip_code[i]].reset_index()\n",
    "    ages=[\"13\",\"14\",\"15\"]\n",
    "    mid=sub[sub[\"Age\"].isin(ages)]\n",
    "    nomid.append(mid[\"Number\"].sum())\n",
    "df[\"Number of Middle School Students\"]=nomid"
   ]
  },
  {
   "cell_type": "code",
   "execution_count": 33,
   "metadata": {},
   "outputs": [],
   "source": [
    "nohigh=[]\n",
    "for i in range(22):\n",
    "    sub=frame_dm[frame_dm[\"Zip Code\"]==zip_code[i]].reset_index()\n",
    "    ages=[\"16\",\"17\",\"18\"]\n",
    "    high=sub[sub[\"Age\"].isin(ages)]\n",
    "    nohigh.append(high[\"Number\"].sum())\n",
    "df[\"Number of High School Students\"]=nohigh"
   ]
  },
  {
   "cell_type": "code",
   "execution_count": 34,
   "metadata": {},
   "outputs": [],
   "source": [
    "pop=[]\n",
    "for i in range(22):\n",
    "    sub=frame_dm[frame_dm[\"Zip Code\"]==zip_code[i]].reset_index()\n",
    "    pop.append(sub[\"Number\"].sum())\n",
    "df[\"Population\"]=pop"
   ]
  },
  {
   "cell_type": "markdown",
   "metadata": {},
   "source": [
    "the elementary school part"
   ]
  },
  {
   "cell_type": "code",
   "execution_count": 35,
   "metadata": {
    "scrolled": false
   },
   "outputs": [],
   "source": [
    "# read the elementary school data\n",
    "elm_sch=pd.read_csv('../Public School Education Performance/DCPS Elementary.csv')"
   ]
  },
  {
   "cell_type": "code",
   "execution_count": 36,
   "metadata": {},
   "outputs": [],
   "source": [
    "per_gro=elm_sch[\"Perf_Growth\"]\n",
    "elm_sch[\"Performance of Growth\"]=ranking(per_gro)"
   ]
  },
  {
   "cell_type": "code",
   "execution_count": 37,
   "metadata": {},
   "outputs": [],
   "source": [
    "per_safe=elm_sch[\"Perf_Safe\"]\n",
    "per_safe=per_safe.astype(float)\n",
    "elm_sch[\"Performance of Safety\"]=ranking(per_safe)"
   ]
  },
  {
   "cell_type": "code",
   "execution_count": 38,
   "metadata": {},
   "outputs": [],
   "source": [
    "per_teacher=elm_sch[\"Perf_Teacher\"]\n",
    "elm_sch[\"Performance of Teachers\"]=ranking(per_teacher)"
   ]
  },
  {
   "cell_type": "code",
   "execution_count": 39,
   "metadata": {},
   "outputs": [],
   "source": [
    "per_enga=elm_sch[\"Perf_Engage_Current_Year\"]\n",
    "elm_sch[\"Performance of Engage\"]=ranking(per_enga)"
   ]
  },
  {
   "cell_type": "code",
   "execution_count": 40,
   "metadata": {},
   "outputs": [],
   "source": [
    "elm_sch[\"Dir_Zip\"]=elm_sch[\"Dir_Zip\"].astype(str)"
   ]
  },
  {
   "cell_type": "code",
   "execution_count": 41,
   "metadata": {},
   "outputs": [],
   "source": [
    "perf_elm=[]\n",
    "for i in range(len(elm_sch)):\n",
    "    data=elm_sch.iloc[i]\n",
    "    su_m=(data[\"Performance of Teachers\"]+data[\"Performance of Engage\"]+\n",
    "                              data[\"Performance of Safety\"]+data[\"Performance of Growth\"])\n",
    "    num=((int(np.isnan(data[\"Performance of Teachers\"])==False))+int((np.isnan(data[\"Performance of Engage\"])==False))+\n",
    "         (int(np.isnan(data[\"Performance of Safety\"])==False))+int((np.isnan(data[\"Performance of Growth\"])==False)))\n",
    "    score=su_m/num\n",
    "    perf_elm.append(score)\n",
    "elm_sch[\"Performance\"]=perf_elm"
   ]
  },
  {
   "cell_type": "code",
   "execution_count": 42,
   "metadata": {},
   "outputs": [],
   "source": [
    "per_of_elm_sch=[]\n",
    "for i in range(len(zip_code)):\n",
    "    per_of_elm_sch.append(round(np.mean(elm_sch[elm_sch[\"Dir_Zip\"].astype(str)==zip_code[i]][\"Performance\"]),3))"
   ]
  },
  {
   "cell_type": "code",
   "execution_count": 43,
   "metadata": {},
   "outputs": [],
   "source": [
    "elm_sch[\"Ranking\"]=ranking(elm_sch['Performance'])"
   ]
  },
  {
   "cell_type": "code",
   "execution_count": 44,
   "metadata": {},
   "outputs": [],
   "source": [
    "good_elm=elm_sch.sort_values(by=\"Performance\",ascending=False)[:5]"
   ]
  },
  {
   "cell_type": "code",
   "execution_count": 45,
   "metadata": {},
   "outputs": [],
   "source": [
    "good_elm.to_csv(\"good elm sch.csv\")"
   ]
  },
  {
   "cell_type": "code",
   "execution_count": 46,
   "metadata": {},
   "outputs": [],
   "source": [
    "# add the performance of elementary school to dataframe\n",
    "df[\"Performance of Elementary School\"]=per_of_elm_sch\n",
    "df[\"Performance of Elementary School\"]=ranking(df[\"Performance of Elementary School\"])"
   ]
  },
  {
   "cell_type": "code",
   "execution_count": 47,
   "metadata": {},
   "outputs": [],
   "source": [
    "dens=[]\n",
    "for i in range(22):\n",
    "    dens.append(elm_sch[elm_sch[\"Dir_Zip\"]==zip_code[i]][\"Dir_School_Code\"].count())\n",
    "df[\"Availability of Elementary School\"]=dens/df[\"Number of Elementary Kids\"]\n",
    "df[\"Availability of Elementary School\"]=ranking(df[\"Availability of Elementary School\"])"
   ]
  },
  {
   "cell_type": "code",
   "execution_count": 48,
   "metadata": {},
   "outputs": [],
   "source": [
    "df[\"Ranking of Elementary School\"]=ranking(df[\"Performance of Elementary School\"]+df[\"Availability of Elementary School\"])"
   ]
  },
  {
   "cell_type": "markdown",
   "metadata": {},
   "source": [
    "the middle school part"
   ]
  },
  {
   "cell_type": "code",
   "execution_count": 49,
   "metadata": {},
   "outputs": [],
   "source": [
    "mid_sch=pd.read_csv('../Public School Education Performance/DCPS Middle School.csv')"
   ]
  },
  {
   "cell_type": "code",
   "execution_count": 50,
   "metadata": {},
   "outputs": [],
   "source": [
    "per_gro=mid_sch[\"Perf_Growth\"]\n",
    "mid_sch[\"Performance of Growth\"]=ranking(per_gro)"
   ]
  },
  {
   "cell_type": "code",
   "execution_count": 51,
   "metadata": {},
   "outputs": [],
   "source": [
    "per_safe=mid_sch[\"Perf_Safety\"]\n",
    "mid_sch[\"Performance of Safety\"]=ranking(per_safe)\n"
   ]
  },
  {
   "cell_type": "code",
   "execution_count": 52,
   "metadata": {},
   "outputs": [],
   "source": [
    "per_enga=mid_sch[\"Perf_Engage_Current_Year\"]\n",
    "mid_sch[\"Performance of Engage\"]=ranking(per_enga)"
   ]
  },
  {
   "cell_type": "code",
   "execution_count": 53,
   "metadata": {},
   "outputs": [],
   "source": [
    "per_teacher=mid_sch[\"Perf_Teachers_Current_Year\"]\n",
    "mid_sch[\"Performance of Teachers\"]=ranking(per_teacher)"
   ]
  },
  {
   "cell_type": "code",
   "execution_count": 54,
   "metadata": {},
   "outputs": [],
   "source": [
    "perf_mid=[]\n",
    "for i in range(len(mid_sch)):\n",
    "    data=mid_sch.iloc[i]\n",
    "    su_m=(data[\"Performance of Teachers\"]+data[\"Performance of Engage\"]+\n",
    "                              data[\"Performance of Safety\"]+data[\"Performance of Growth\"])\n",
    "    num=((int(np.isnan(data[\"Performance of Teachers\"])==False))+int((np.isnan(data[\"Performance of Engage\"])==False))+\n",
    "         (int(np.isnan(data[\"Performance of Safety\"])==False))+int((np.isnan(data[\"Performance of Growth\"])==False)))\n",
    "    score=su_m/num\n",
    "    perf_mid.append(score)\n",
    "mid_sch[\"Performance\"]=perf_mid\n"
   ]
  },
  {
   "cell_type": "code",
   "execution_count": 55,
   "metadata": {},
   "outputs": [],
   "source": [
    "per_of_mid_sch=[]\n",
    "for i in range(len(zip_code)):\n",
    "    per_of_mid_sch.append(round(np.mean(mid_sch[mid_sch[\"Dir_Zip\"].astype(str)==zip_code[i]][\"Performance\"]),3))"
   ]
  },
  {
   "cell_type": "code",
   "execution_count": 56,
   "metadata": {},
   "outputs": [],
   "source": [
    "# add the performance of middle school to dataframe\n",
    "df[\"Performance of Middle School\"]=per_of_mid_sch\n",
    "df[\"Performance of Middle School\"]=ranking(df[\"Performance of Middle School\"])"
   ]
  },
  {
   "cell_type": "code",
   "execution_count": 57,
   "metadata": {},
   "outputs": [],
   "source": [
    "mid_sch[\"Ranking\"]=ranking(mid_sch[\"Performance\"])"
   ]
  },
  {
   "cell_type": "code",
   "execution_count": 58,
   "metadata": {},
   "outputs": [],
   "source": [
    "good_mid=mid_sch.sort_values(by=\"Performance\",ascending=False)[:5]"
   ]
  },
  {
   "cell_type": "code",
   "execution_count": 59,
   "metadata": {},
   "outputs": [],
   "source": [
    "good_mid.to_csv(\"good middle school.csv\")"
   ]
  },
  {
   "cell_type": "code",
   "execution_count": 60,
   "metadata": {},
   "outputs": [],
   "source": [
    "dens=[]\n",
    "for i in range(22):\n",
    "    dens.append(mid_sch[mid_sch[\"Dir_Zip\"].astype(str)==zip_code[i]][\"Dir_School_Code\"].count())\n",
    "df[\"Availability of Middle School\"]=dens/df[\"Number of Middle School Students\"]\n",
    "df[\"Availability of Middle School\"]=ranking(df[\"Availability of Middle School\"])"
   ]
  },
  {
   "cell_type": "code",
   "execution_count": 61,
   "metadata": {},
   "outputs": [],
   "source": [
    "df[\"Ranking of Middle School\"]=ranking(df[\"Performance of Middle School\"]+df[\"Availability of Middle School\"])"
   ]
  },
  {
   "cell_type": "markdown",
   "metadata": {},
   "source": [
    "the high school part"
   ]
  },
  {
   "cell_type": "code",
   "execution_count": 62,
   "metadata": {},
   "outputs": [],
   "source": [
    "# read the high school data\n",
    "hig_sch=pd.read_csv('../Public School Education Performance/High School SAT Scores Washington, DC.csv',header=5)\n",
    "hig_sch=hig_sch.dropna()\n",
    "\n",
    "for i in range(len(hig_sch[\"Zip Code\"])):\n",
    "    hig_sch=hig_sch.replace(hig_sch[\"Zip Code\"][i],str(int(hig_sch[\"Zip Code\"][i])))"
   ]
  },
  {
   "cell_type": "code",
   "execution_count": 63,
   "metadata": {},
   "outputs": [],
   "source": [
    "hig_sch_sub=pd.read_csv('../Public School Education Performance/DCPS 2018 Graduation Data Overall Subgroup.csv',header=5)"
   ]
  },
  {
   "cell_type": "code",
   "execution_count": 64,
   "metadata": {},
   "outputs": [],
   "source": [
    "hig_grad=pd.DataFrame(hig_sch_sub[hig_sch_sub['Subgroup']=='All'])\n",
    "hig_grad.reset_index(drop=True,inplace=True)"
   ]
  },
  {
   "cell_type": "code",
   "execution_count": 65,
   "metadata": {},
   "outputs": [],
   "source": [
    "highsch=pd.merge(hig_sch,hig_grad,how='right',on=[\"School Code\",\"School Name\"])\n",
    "highsch.drop(19,inplace=True)"
   ]
  },
  {
   "cell_type": "code",
   "execution_count": 66,
   "metadata": {},
   "outputs": [],
   "source": [
    "per_grad=highsch[\"% Grad\"]\n",
    "\n",
    "highsch[\"Performance of Graduation\"]=ranking(per_grad)\n",
    "highsch['Total Average'] = highsch['Total Average'].astype(float)\n",
    "\n",
    "per_sat=highsch[\"Total Average\"]\n",
    "\n",
    "highsch[\"Performance of SAT\"]=ranking(per_sat)\n",
    "\n",
    "perf_high=[]\n",
    "for i in range(len(highsch)):\n",
    "    data=highsch.iloc[i]\n",
    "    su_m=(data[\"Performance of SAT\"]+data[\"Performance of Graduation\"])\n",
    "    num=((int(np.isnan(data[\"Performance of SAT\"])==False))+int((np.isnan(data[\"Performance of Graduation\"])==False)))\n",
    "    score=su_m/num\n",
    "    perf_high.append(score)\n",
    "highsch[\"Performance\"]=perf_high\n",
    "\n",
    "\n",
    "per_of_high_sch=[]\n",
    "for i in range(len(zip_code)):\n",
    "    per_of_high_sch.append(round(np.mean(highsch[highsch[\"Zip Code\"]==zip_code[i]][\"Performance\"]),3))"
   ]
  },
  {
   "cell_type": "code",
   "execution_count": 67,
   "metadata": {},
   "outputs": [],
   "source": [
    "# add the performance of high school to dataframe\n",
    "df[\"Performance of High School\"]=per_of_high_sch\n",
    "df[\"Performance of High School\"]=ranking(df[\"Performance of High School\"])"
   ]
  },
  {
   "cell_type": "code",
   "execution_count": 68,
   "metadata": {},
   "outputs": [],
   "source": [
    "highsch[\"Ranking\"]=ranking(highsch[\"Performance\"])"
   ]
  },
  {
   "cell_type": "code",
   "execution_count": 69,
   "metadata": {},
   "outputs": [],
   "source": [
    "good_hig=highsch.sort_values(by=\"Performance\",ascending=False)[:5]"
   ]
  },
  {
   "cell_type": "code",
   "execution_count": 70,
   "metadata": {},
   "outputs": [],
   "source": [
    "good_hig.to_csv(\"good high school.csv\")"
   ]
  },
  {
   "cell_type": "code",
   "execution_count": 71,
   "metadata": {},
   "outputs": [],
   "source": [
    "dens=[]\n",
    "for i in range(22):\n",
    "    dens.append(highsch[highsch[\"Zip Code\"]==zip_code[i]][\"School Code\"].count())\n",
    "df[\"Availability of High School\"]=dens/df[\"Number of High School Students\"]\n",
    "df[\"Availability of High School\"]=ranking(df[\"Availability of High School\"])"
   ]
  },
  {
   "cell_type": "code",
   "execution_count": 72,
   "metadata": {},
   "outputs": [],
   "source": [
    "df[\"Ranking of High School\"]=ranking(df[\"Performance of High School\"]+df[\"Availability of High School\"])"
   ]
  },
  {
   "cell_type": "markdown",
   "metadata": {},
   "source": [
    "university part"
   ]
  },
  {
   "cell_type": "code",
   "execution_count": 73,
   "metadata": {},
   "outputs": [],
   "source": [
    "uni=pd.read_csv(\"../Public School Education Performance/DC University.csv\",dtype={\"Zip\":str})"
   ]
  },
  {
   "cell_type": "code",
   "execution_count": 74,
   "metadata": {},
   "outputs": [],
   "source": [
    "unis=pd.DataFrame(zip_code,columns={\"Zip Code\"})"
   ]
  },
  {
   "cell_type": "code",
   "execution_count": 75,
   "metadata": {},
   "outputs": [],
   "source": [
    "unis[\"Schools\"]=None"
   ]
  },
  {
   "cell_type": "code",
   "execution_count": 76,
   "metadata": {},
   "outputs": [],
   "source": [
    "for i in range(len(zip_code)):\n",
    "    un=uni[uni[\"Zip\"]==zip_code[i]][\"School\"]\n",
    "    unis[\"Schools\"][i]=un"
   ]
  },
  {
   "cell_type": "code",
   "execution_count": 77,
   "metadata": {},
   "outputs": [],
   "source": [
    "df=df.merge(unis,on=\"Zip Code\")"
   ]
  },
  {
   "cell_type": "markdown",
   "metadata": {},
   "source": [
    "the train station part"
   ]
  },
  {
   "cell_type": "code",
   "execution_count": 78,
   "metadata": {},
   "outputs": [],
   "source": [
    "train=pd.read_csv(\"../Transit Stations/metro_stations.csv\")\n",
    "train=train[train[\"State\"]==\"DC\"]\n",
    "train[\"Zip\"]=train[\"Zip\"].astype(str)"
   ]
  },
  {
   "cell_type": "code",
   "execution_count": 79,
   "metadata": {},
   "outputs": [],
   "source": [
    "dens=[]\n",
    "for i in range(len(zip_code)):\n",
    "    dens.append((train[train[\"Zip\"]==zip_code[i]][\"Station\"].count()))"
   ]
  },
  {
   "cell_type": "code",
   "execution_count": 80,
   "metadata": {},
   "outputs": [],
   "source": [
    "df[\"Availability of Trains\"]=dens/df[\"Population\"]\n",
    "df[\"Availability of Trains\"]=ranking(df[\"Availability of Trains\"])"
   ]
  },
  {
   "cell_type": "markdown",
   "metadata": {},
   "source": [
    "hospital part"
   ]
  },
  {
   "cell_type": "code",
   "execution_count": 81,
   "metadata": {},
   "outputs": [],
   "source": [
    "hos=pd.read_csv(\"../Hospitals/hista_dc_hospitals_tbl.csv\")\n",
    "hos[\"Zip Code\"]=hos[\"Zip Code\"].astype(str)"
   ]
  },
  {
   "cell_type": "code",
   "execution_count": 82,
   "metadata": {},
   "outputs": [],
   "source": [
    "dens=[]\n",
    "for i in range(len(zip_code)):\n",
    "    dens.append((hos[hos[\"Zip Code\"]==zip_code[i]][\"Code\"].count()))"
   ]
  },
  {
   "cell_type": "code",
   "execution_count": 83,
   "metadata": {},
   "outputs": [],
   "source": [
    "df[\"Availability of Hospitals\"]=dens/df[\"Population\"]\n",
    "df[\"Availability of Hospitals\"]=ranking(df[\"Availability of Hospitals\"])"
   ]
  },
  {
   "cell_type": "code",
   "execution_count": 84,
   "metadata": {},
   "outputs": [],
   "source": [
    "beds=[]\n",
    "for i in range(len(zip_code)):\n",
    "    beds.append(hos[hos[\"Zip Code\"]==zip_code[i]][\"Beds\"].sum())"
   ]
  },
  {
   "cell_type": "code",
   "execution_count": 85,
   "metadata": {},
   "outputs": [],
   "source": [
    "df[\"Availability of Hospital Beds\"]=beds/df[\"Population\"]\n",
    "df[\"Availability of Hospital Beds\"]=ranking(df[\"Availability of Hospital Beds\"])"
   ]
  },
  {
   "cell_type": "code",
   "execution_count": 86,
   "metadata": {},
   "outputs": [],
   "source": [
    "df[\"Ranking of Hospital\"]=ranking(df[\"Availability of Hospital Beds\"]+df[\"Availability of Hospitals\"])"
   ]
  },
  {
   "cell_type": "markdown",
   "metadata": {},
   "source": [
    "child care part"
   ]
  },
  {
   "cell_type": "code",
   "execution_count": 87,
   "metadata": {},
   "outputs": [],
   "source": [
    "cc=pd.read_csv(\"../Daily Needs/September 2019 Child Development Facility Listing.csv\")"
   ]
  },
  {
   "cell_type": "code",
   "execution_count": 88,
   "metadata": {},
   "outputs": [],
   "source": [
    "cc[\"License Expiration\"]=pd.to_datetime(cc[\"License Expiration\"],format=\"%m/%d/%Y\")"
   ]
  },
  {
   "cell_type": "code",
   "execution_count": 89,
   "metadata": {},
   "outputs": [],
   "source": [
    "cc=cc[cc[\"License Expiration\"]>pd.datetime.now()]"
   ]
  },
  {
   "cell_type": "code",
   "execution_count": 90,
   "metadata": {},
   "outputs": [],
   "source": [
    "cc[\"Zip Code\"]=cc[\"Physical Address\"].map(lambda x: str.split(x,\" \")[-1])"
   ]
  },
  {
   "cell_type": "code",
   "execution_count": 91,
   "metadata": {},
   "outputs": [],
   "source": [
    "dens=[]\n",
    "for i in range(len(zip_code)):\n",
    "    dens.append(cc[cc[\"Zip Code\"]==zip_code[i]][\"License Number\"].count())"
   ]
  },
  {
   "cell_type": "code",
   "execution_count": 92,
   "metadata": {},
   "outputs": [],
   "source": [
    "df[\"Availability of Child Care\"]=dens/df[\"Number of Children\"]\n",
    "df[\"Availability of Child Care\"]=ranking(df[\"Availability of Child Care\"])"
   ]
  },
  {
   "cell_type": "code",
   "execution_count": 93,
   "metadata": {},
   "outputs": [],
   "source": [
    "cap=cc[\"Authorized Capacity\"]"
   ]
  },
  {
   "cell_type": "code",
   "execution_count": 94,
   "metadata": {},
   "outputs": [],
   "source": [
    "caps=[]\n",
    "for i in range(len(zip_code)):\n",
    "    caps.append(cc[cc[\"Zip Code\"]==zip_code[i]][\"Authorized Capacity\"].sum())"
   ]
  },
  {
   "cell_type": "code",
   "execution_count": 95,
   "metadata": {},
   "outputs": [],
   "source": [
    "df[\"Capacity of Child Care\"]=cap/df[\"Number of Children\"]\n",
    "df[\"Capacity of Child Care\"]=ranking(df[\"Capacity of Child Care\"])"
   ]
  },
  {
   "cell_type": "code",
   "execution_count": 96,
   "metadata": {},
   "outputs": [],
   "source": [
    "df[\"Ranking of Child Care\"]=ranking(df[\"Capacity of Child Care\"]+df[\"Availability of Child Care\"])"
   ]
  },
  {
   "cell_type": "markdown",
   "metadata": {},
   "source": [
    "library part"
   ]
  },
  {
   "cell_type": "code",
   "execution_count": 97,
   "metadata": {},
   "outputs": [],
   "source": [
    "lib=pd.read_csv(\"../Library/hista_dc_libraries_tbl.csv\")\n",
    "lib[\"Zip\"]=lib[\"Zip\"].astype(str)"
   ]
  },
  {
   "cell_type": "code",
   "execution_count": 98,
   "metadata": {},
   "outputs": [],
   "source": [
    "dens=[]\n",
    "for i in range(len(zip_code)):\n",
    "    dens.append((lib[lib[\"Zip\"]==zip_code[i]][\"Library Name\"].count()))"
   ]
  },
  {
   "cell_type": "code",
   "execution_count": 99,
   "metadata": {},
   "outputs": [],
   "source": [
    "df[\"Availability of Libraries\"]=dens/df[\"Population\"]\n",
    "df[\"Availability of Libraries\"]=ranking(df[\"Availability of Libraries\"])"
   ]
  },
  {
   "cell_type": "markdown",
   "metadata": {},
   "source": [
    "grocery part"
   ]
  },
  {
   "cell_type": "code",
   "execution_count": 100,
   "metadata": {},
   "outputs": [
    {
     "name": "stderr",
     "output_type": "stream",
     "text": [
      "C:\\Users\\19018\\Anaconda3\\lib\\site-packages\\ipykernel_launcher.py:8: SettingWithCopyWarning: \n",
      "A value is trying to be set on a copy of a slice from a DataFrame\n",
      "\n",
      "See the caveats in the documentation: http://pandas.pydata.org/pandas-docs/stable/user_guide/indexing.html#returning-a-view-versus-a-copy\n",
      "  \n"
     ]
    }
   ],
   "source": [
    "groc=pd.read_csv(\"../Daily Needs/Grocery_Store_Locations.csv\",dtype={'ZIPCODE':str})\n",
    "names=pd.unique(groc[\"STORENAME\"])\n",
    "ranks=pd.read_csv(\"../Daily Needs/Grocery.csv\")\n",
    "\n",
    "groc=pd.merge(groc,ranks,how=\"left\",on=\"STORENAME\")\n",
    "\n",
    "where_are_nan = np.isnan(groc[\"RANKING\"])\n",
    "groc[\"RANKING\"][where_are_nan]=1\n"
   ]
  },
  {
   "cell_type": "code",
   "execution_count": 101,
   "metadata": {},
   "outputs": [],
   "source": [
    "barg=pd.read_csv(\"../Daily Needs/bargain.csv\")\n",
    "barg[\"Rank\"]=ranking(barg[\"Score\"])\n",
    "\n",
    "groc=pd.merge(groc,barg,how=\"left\",on=\"STORENAME\")"
   ]
  },
  {
   "cell_type": "code",
   "execution_count": 102,
   "metadata": {},
   "outputs": [],
   "source": [
    "ave_rank=[]\n",
    "num_s=[]\n",
    "for i in range(len(zip_code)):\n",
    "    num_s.append(groc[groc[\"ZIPCODE\"]==zip_code[i]][\"STORENAME\"].count())\n",
    "    ave_rank.append(groc[groc[\"ZIPCODE\"]==zip_code[i]][\"RANKING\"].mean())"
   ]
  },
  {
   "cell_type": "code",
   "execution_count": 103,
   "metadata": {},
   "outputs": [],
   "source": [
    "barank=[]\n",
    "for i in range(len(zip_code)):\n",
    "    barank.append(groc[groc[\"ZIPCODE\"]==zip_code[i]][\"Rank\"].mean())"
   ]
  },
  {
   "cell_type": "code",
   "execution_count": 104,
   "metadata": {},
   "outputs": [],
   "source": [
    "grocery=pd.DataFrame(zip_code)\n",
    "\n",
    "grocery[\"Ranking of Grocery\"]=ave_rank\n",
    "grocery[\"Ranking of Grocery\"]=ranking(grocery[\"Ranking of Grocery\"])\n",
    "\n",
    "grocery[\"Density of Grocery\"]=num_s/df[\"Population\"]\n",
    "grocery[\"Density of Grocery\"]=ranking(grocery[\"Density of Grocery\"])\n",
    "\n",
    "grocery[\"Ranking of Bargain\"]=barank\n",
    "grocery[\"Ranking of Bargain\"]=ranking(grocery[\"Ranking of Bargain\"])"
   ]
  },
  {
   "cell_type": "code",
   "execution_count": 105,
   "metadata": {},
   "outputs": [],
   "source": [
    "df[\"Ranking of Grocery|Freshness\"]=grocery[\"Ranking of Grocery\"]+grocery[\"Density of Grocery\"]\n",
    "df[\"Ranking of Grocery|Freshness\"]=ranking(df[\"Ranking of Grocery|Freshness\"])\n",
    "\n",
    "df[\"Ranking of Grocery|Bargain\"]=grocery[\"Ranking of Bargain\"]+grocery[\"Density of Grocery\"]\n",
    "df[\"Ranking of Grocery|Bargain\"]=ranking(df[\"Ranking of Grocery|Bargain\"])"
   ]
  },
  {
   "cell_type": "markdown",
   "metadata": {},
   "source": [
    "pharmacy part"
   ]
  },
  {
   "cell_type": "code",
   "execution_count": 106,
   "metadata": {},
   "outputs": [],
   "source": [
    "pha=pd.read_csv(\"../Daily Needs/pharmacy_zips.csv\")\n",
    "pha[\"Zip Code\"]=pha[\"Zip Code\"].astype(str)"
   ]
  },
  {
   "cell_type": "code",
   "execution_count": 107,
   "metadata": {},
   "outputs": [],
   "source": [
    "dens=[]\n",
    "for i in range(len(zip_code)):\n",
    "    dens.append(pha[pha[\"Zip Code\"]==zip_code[i]][\"Zip Code\"].count())"
   ]
  },
  {
   "cell_type": "code",
   "execution_count": 108,
   "metadata": {},
   "outputs": [],
   "source": [
    "df[\"Availability of Pharmacy\"]=dens/df[\"Population\"]\n",
    "df[\"Availability of Pharmacy\"]=ranking(df[\"Availability of Pharmacy\"])"
   ]
  },
  {
   "cell_type": "markdown",
   "metadata": {},
   "source": [
    "the safety part"
   ]
  },
  {
   "cell_type": "code",
   "execution_count": 109,
   "metadata": {},
   "outputs": [],
   "source": [
    "crim=pd.read_csv(\"../Safety/crime_dc.csv\")\n",
    "crim=crim.dropna(subset=[\"Zip Code\"])\n",
    "crim[\"Zip Code\"]=crim[\"Zip Code\"].astype(int)\n",
    "crim[\"Zip Code\"]=crim[\"Zip Code\"].astype(str)"
   ]
  },
  {
   "cell_type": "code",
   "execution_count": 110,
   "metadata": {},
   "outputs": [],
   "source": [
    "cri=pd.DataFrame(zip_code)\n",
    "pro_t_o=[]\n",
    "pro_b=[]\n",
    "pro_t_f=[]\n",
    "pro_m=[]\n",
    "pro_a=[]\n",
    "vio_h=[]\n",
    "vio_a=[]\n",
    "vio_r=[]\n",
    "vio_s=[]\n",
    "for i in range(len(zip_code)):\n",
    "    pro_t_o.append((crim[(crim[\"Zip Code\"]==zip_code[i]) & (crim[\"offensekey\"]==\"property|theft/other\")])[\"offensekey\"].count())\n",
    "    pro_b.append((crim[(crim[\"Zip Code\"]==zip_code[i]) & (crim[\"offensekey\"]==\"property|burglary\")])[\"offensekey\"].count())\n",
    "    pro_t_f.append((crim[(crim[\"Zip Code\"]==zip_code[i]) & (crim[\"offensekey\"]==\"property|theft f/auto\")])[\"offensekey\"].count())\n",
    "    pro_m.append((crim[(crim[\"Zip Code\"]==zip_code[i]) & (crim[\"offensekey\"]==\"property|motor vehicle theft\")])[\"offensekey\"].count())\n",
    "    pro_a.append((crim[(crim[\"Zip Code\"]==zip_code[i]) & (crim[\"offensekey\"]==\"property|arson\")])[\"offensekey\"].count())\n",
    "    vio_h.append((crim[(crim[\"Zip Code\"]==zip_code[i]) & (crim[\"offensekey\"]==\"violent|homicide\")])[\"offensekey\"].count())\n",
    "    vio_a.append((crim[(crim[\"Zip Code\"]==zip_code[i]) & (crim[\"offensekey\"]==\"violent|assault w/dangerous weapon\")])[\"offensekey\"].count())\n",
    "    vio_r.append((crim[(crim[\"Zip Code\"]==zip_code[i]) & (crim[\"offensekey\"]==\"violent|robbery\")])[\"offensekey\"].count())\n",
    "    vio_s.append((crim[(crim[\"Zip Code\"]==zip_code[i]) & (crim[\"offensekey\"]==\"violent|sex abuse\")])[\"offensekey\"].count())  "
   ]
  },
  {
   "cell_type": "code",
   "execution_count": 111,
   "metadata": {},
   "outputs": [],
   "source": [
    "cri=cri.rename(columns={0:'Zip Code'})"
   ]
  },
  {
   "cell_type": "code",
   "execution_count": 112,
   "metadata": {},
   "outputs": [],
   "source": [
    "cri[\"property|theft/other\"]=pro_t_o\n",
    "cri[\"property|theft/other\"]=ranking(-cri[\"property|theft/other\"])\n",
    "cri[\"property|burglary\"]=pro_b\n",
    "cri[\"property|burglary\"]=ranking(-cri[\"property|burglary\"])\n",
    "cri[\"property|theft f/auto\"]=pro_t_f\n",
    "cri[\"property|theft f/auto\"]=ranking(-cri[\"property|theft f/auto\"])\n",
    "cri[\"property|motor vehicle theft\"]=pro_m\n",
    "cri[\"property|motor vehicle theft\"]=ranking(-cri[\"property|motor vehicle theft\"])\n",
    "cri[\"property|arson\"]=pro_a\n",
    "cri[\"property|arson\"]=ranking(-cri[\"property|arson\"])\n",
    "cri[\"violent|homicide\"]=vio_h\n",
    "cri[\"violent|homicide\"]=ranking(-cri[\"violent|homicide\"])\n",
    "cri[\"violent|assault w/dangerous weapon\"]=vio_a\n",
    "cri[\"violent|assault w/dangerous weapon\"]=ranking(-cri[\"violent|assault w/dangerous weapon\"])\n",
    "cri[\"violent|robbery\"]=vio_r\n",
    "cri[\"violent|robbery\"]=ranking(-cri[\"violent|robbery\"])\n",
    "cri[\"violent|sex abuse\"]=vio_s\n",
    "cri[\"violent|sex abuse\"]=ranking(-cri[\"violent|sex abuse\"])"
   ]
  },
  {
   "cell_type": "code",
   "execution_count": 113,
   "metadata": {},
   "outputs": [],
   "source": [
    "cri[\"Property\"]=ranking(cri[\"property|theft/other\"]+cri[\"property|burglary\"]++cri[\"property|theft f/auto\"]+\n",
    "                       cri[\"property|motor vehicle theft\"]+cri[\"property|arson\"])"
   ]
  },
  {
   "cell_type": "code",
   "execution_count": 114,
   "metadata": {},
   "outputs": [],
   "source": [
    "cri[\"Violent\"]=ranking(cri[\"violent|homicide\"]+cri[\"violent|assault w/dangerous weapon\"]+cri[\"violent|robbery\"]\n",
    "                       +cri[\"violent|sex abuse\"])"
   ]
  },
  {
   "cell_type": "code",
   "execution_count": 115,
   "metadata": {},
   "outputs": [],
   "source": [
    "cri[\"Ranking of Crime\"]=ranking(cri[\"Property\"]+cri[\"Violent\"])"
   ]
  },
  {
   "cell_type": "code",
   "execution_count": 116,
   "metadata": {},
   "outputs": [],
   "source": [
    "df=df.merge(cri,how=\"outer\",on=\"Zip Code\")"
   ]
  },
  {
   "cell_type": "markdown",
   "metadata": {},
   "source": [
    "park part"
   ]
  },
  {
   "cell_type": "code",
   "execution_count": 117,
   "metadata": {},
   "outputs": [],
   "source": [
    "park=pd.read_csv(\"../Leisure/Parks_zips.csv\")"
   ]
  },
  {
   "cell_type": "code",
   "execution_count": 118,
   "metadata": {},
   "outputs": [],
   "source": [
    "park=pd.DataFrame(park)\n",
    "park[\"Zip Code\"]=park[\"Zip Code\"].astype(str)\n",
    "dens=[]\n",
    "for i in range(len(zip_code)):\n",
    "    dens.append(park[park[\"Zip Code\"]==zip_code[i]][\"Zip Code\"].count())"
   ]
  },
  {
   "cell_type": "code",
   "execution_count": 119,
   "metadata": {},
   "outputs": [],
   "source": [
    "df[\"Availability of Parks\"]=dens/df[\"Population\"]\n",
    "df[\"Availability of Parks\"]=ranking(df[\"Availability of Parks\"])"
   ]
  },
  {
   "cell_type": "markdown",
   "metadata": {},
   "source": [
    "national park part"
   ]
  },
  {
   "cell_type": "code",
   "execution_count": 120,
   "metadata": {},
   "outputs": [],
   "source": [
    "napa=pd.read_csv(\"../Leisure/National_Parks_zips.csv\",dtype={\"Zip Code\":str})\n"
   ]
  },
  {
   "cell_type": "code",
   "execution_count": 121,
   "metadata": {},
   "outputs": [],
   "source": [
    "mark=[]\n",
    "for i in range(len(napa)-1):\n",
    "    if (napa.iloc[i+1][\"NAME\"]==napa.iloc[i][\"NAME\"]):\n",
    "        if(napa.iloc[i+1][\"Zip Code\"]==napa.iloc[i][\"Zip Code\"]):\n",
    "            mark.append(\"0\")\n",
    "        else:\n",
    "            mark.append(napa.iloc[i][\"Zip Code\"])\n",
    "    else:\n",
    "        mark.append(napa.iloc[i][\"Zip Code\"])"
   ]
  },
  {
   "cell_type": "code",
   "execution_count": 122,
   "metadata": {},
   "outputs": [],
   "source": [
    "mark.append(napa.iloc[-1][\"Zip Code\"])"
   ]
  },
  {
   "cell_type": "code",
   "execution_count": 123,
   "metadata": {},
   "outputs": [],
   "source": [
    "napa[\"MARK\"]=mark"
   ]
  },
  {
   "cell_type": "code",
   "execution_count": 124,
   "metadata": {},
   "outputs": [],
   "source": [
    "dens2=[]\n",
    "for i in range(len(zip_code)):\n",
    "    dens2.append(napa[napa[\"MARK\"]==zip_code[i]][\"MARK\"].count())"
   ]
  },
  {
   "cell_type": "code",
   "execution_count": 125,
   "metadata": {},
   "outputs": [],
   "source": [
    "df[\"Availability of National Parks\"]=dens2/df[\"Population\"]\n",
    "df[\"Availability of National Parks\"]=ranking(df[\"Availability of National Parks\"])"
   ]
  },
  {
   "cell_type": "markdown",
   "metadata": {},
   "source": [
    "sports part"
   ]
  },
  {
   "cell_type": "code",
   "execution_count": 126,
   "metadata": {},
   "outputs": [],
   "source": [
    "spo=pd.read_csv(\"../Leisure/sports.csv\",header=None)"
   ]
  },
  {
   "cell_type": "code",
   "execution_count": 127,
   "metadata": {},
   "outputs": [],
   "source": [
    "spo_name=spo[::5]\n",
    "spo_add=spo[3::5]"
   ]
  },
  {
   "cell_type": "code",
   "execution_count": 128,
   "metadata": {},
   "outputs": [],
   "source": [
    "spo_zip=[]\n",
    "for i in range(len(spo_add)):\n",
    "    spo_zip.append(str.split(str.split(spo_add[0].iloc[i],sep=\",\")[-1].replace(\" \",\"\"),sep=\"-\")[0])\n",
    "    spo_zip"
   ]
  },
  {
   "cell_type": "code",
   "execution_count": 129,
   "metadata": {},
   "outputs": [],
   "source": [
    "sport=pd.DataFrame(spo_name)\n",
    "sport=sport.rename(columns={0:\"Names\"})\n",
    "sport[\"Zip Code\"]=spo_zip\n",
    "sport[\"Zip Code\"]=sport[\"Zip Code\"].astype(str)\n",
    "dens=[]\n",
    "for i in range(len(zip_code)):\n",
    "    dens.append(sport[sport[\"Zip Code\"]==zip_code[i]][\"Names\"].count())"
   ]
  },
  {
   "cell_type": "code",
   "execution_count": 130,
   "metadata": {},
   "outputs": [],
   "source": [
    "df[\"Availability of Sport Facility\"]=dens/df[\"Population\"]\n",
    "df[\"Availability of Sport Facility\"]=ranking(df[\"Availability of Sport Facility\"])"
   ]
  },
  {
   "cell_type": "markdown",
   "metadata": {},
   "source": [
    "restaurant part"
   ]
  },
  {
   "cell_type": "code",
   "execution_count": 131,
   "metadata": {},
   "outputs": [],
   "source": [
    "cafe=pd.read_csv(\"../Daily Needs/cafe.csv\")\n",
    "bake=pd.read_csv(\"../Daily Needs/cafe.csv\")\n",
    "bar=pd.read_csv(\"../Daily Needs/bar.csv\")\n",
    "deli=pd.read_csv(\"../Daily Needs/delivery.csv\")\n",
    "other=pd.read_csv(\"../Daily Needs/other.csv\")\n",
    "cof=pd.read_csv(\"../Daily Needs/Coffee.csv\")"
   ]
  },
  {
   "cell_type": "code",
   "execution_count": 132,
   "metadata": {},
   "outputs": [
    {
     "name": "stderr",
     "output_type": "stream",
     "text": [
      "C:\\Users\\19018\\Anaconda3\\lib\\site-packages\\ipykernel_launcher.py:1: FutureWarning: Sorting because non-concatenation axis is not aligned. A future version\n",
      "of pandas will change to not sort by default.\n",
      "\n",
      "To accept the future behavior, pass 'sort=False'.\n",
      "\n",
      "To retain the current behavior and silence the warning, pass 'sort=True'.\n",
      "\n",
      "  \"\"\"Entry point for launching an IPython kernel.\n"
     ]
    }
   ],
   "source": [
    "cafe=pd.concat([cafe,cof])"
   ]
  },
  {
   "cell_type": "code",
   "execution_count": 133,
   "metadata": {},
   "outputs": [],
   "source": [
    "rest=pd.DataFrame(zip_code)\n",
    "rest=rest.rename(columns={0:\"Zip Code\"})"
   ]
  },
  {
   "cell_type": "code",
   "execution_count": 134,
   "metadata": {},
   "outputs": [],
   "source": [
    "dens=[]\n",
    "ave=[]\n",
    "price=[]\n",
    "cafe[\"Zip Code\"]=cafe[\"Zip Code\"].astype(str)\n",
    "for i in range(len(zip_code)):\n",
    "    dens.append(cafe[cafe[\"Zip Code\"]==zip_code[i]][\"id\"].count())\n",
    "    ave.append(cafe[cafe[\"Zip Code\"]==zip_code[i]][\"rating\"].mean())\n",
    "    price.append(cafe[cafe[\"Zip Code\"]==zip_code[i]][\"price_level\"].mean())\n",
    "rest[\"Availability of Cafe\"]=dens/df[\"Population\"]\n",
    "rest[\"Availability of Cafe\"]=ranking(rest[\"Availability of Cafe\"])\n",
    "rest[\"Rating of Cafe\"]=ave\n",
    "rest[\"Rating of Cafe\"]=ranking(rest[\"Rating of Cafe\"])\n",
    "rest[\"Price level of Cafe\"]=price\n",
    "rest[\"Price level of Cafe\"]=ranking(-rest[\"Price level of Cafe\"])\n",
    "rest[\"Ranking of Cafe\"]=ranking(rest[\"Price level of Cafe\"]+rest[\"Rating of Cafe\"]+rest[\"Availability of Cafe\"])"
   ]
  },
  {
   "cell_type": "code",
   "execution_count": 135,
   "metadata": {},
   "outputs": [],
   "source": [
    "dens=[]\n",
    "ave=[]\n",
    "price=[]\n",
    "bar[\"Zip Code\"]=bar[\"Zip Code\"].astype(str)\n",
    "for i in range(len(zip_code)):\n",
    "    dens.append(bar[bar[\"Zip Code\"]==zip_code[i]][\"id\"].count())\n",
    "    ave.append(bar[bar[\"Zip Code\"]==zip_code[i]][\"rating\"].mean())\n",
    "    price.append(bar[bar[\"Zip Code\"]==zip_code[i]][\"price_level\"].mean())\n",
    "rest[\"Availability of Bar\"]=dens/df[\"Population\"]\n",
    "rest[\"Availability of Bar\"]=ranking(rest[\"Availability of Bar\"])\n",
    "rest[\"Rating of Bar\"]=ave\n",
    "rest[\"Rating of Bar\"]=ranking(rest[\"Rating of Bar\"])\n",
    "rest[\"Price level of Bar\"]=price\n",
    "rest[\"Price level of Bar\"]=ranking(-rest[\"Price level of Bar\"])\n",
    "rest[\"Ranking of Bar\"]=ranking(rest[\"Price level of Bar\"]+rest[\"Rating of Bar\"]+rest[\"Availability of Bar\"])"
   ]
  },
  {
   "cell_type": "code",
   "execution_count": 136,
   "metadata": {},
   "outputs": [],
   "source": [
    "dens=[]\n",
    "ave=[]\n",
    "price=[]\n",
    "bake[\"Zip Code\"]=bake[\"Zip Code\"].astype(str)\n",
    "for i in range(len(zip_code)):\n",
    "    dens.append(bake[bake[\"Zip Code\"]==zip_code[i]][\"id\"].count())\n",
    "    ave.append(bake[bake[\"Zip Code\"]==zip_code[i]][\"rating\"].mean())\n",
    "    price.append(bake[bake[\"Zip Code\"]==zip_code[i]][\"price_level\"].mean())\n",
    "rest[\"Availability of Bakery\"]=dens/df[\"Population\"]\n",
    "rest[\"Availability of Bakery\"]=ranking(rest[\"Availability of Bakery\"])\n",
    "rest[\"Rating of Bakery\"]=ave\n",
    "rest[\"Rating of Bakery\"]=ranking(rest[\"Rating of Bakery\"])\n",
    "rest[\"Price level of Bakery\"]=price\n",
    "rest[\"Price level of Bakery\"]=ranking(-rest[\"Price level of Bakery\"])\n",
    "rest[\"Ranking of Bakery\"]=ranking(rest[\"Price level of Bakery\"]+rest[\"Rating of Bakery\"]+rest[\"Availability of Bakery\"])"
   ]
  },
  {
   "cell_type": "code",
   "execution_count": 137,
   "metadata": {},
   "outputs": [],
   "source": [
    "dens=[]\n",
    "ave=[]\n",
    "price=[]\n",
    "deli[\"Zip Code\"]=deli[\"Zip Code\"].astype(str)\n",
    "for i in range(len(zip_code)):\n",
    "    dens.append(deli[deli[\"Zip Code\"]==zip_code[i]][\"id\"].count())\n",
    "    ave.append(deli[deli[\"Zip Code\"]==zip_code[i]][\"rating\"].mean())\n",
    "    price.append(deli[deli[\"Zip Code\"]==zip_code[i]][\"price_level\"].mean())\n",
    "rest[\"Availability of Delivery Restaurant\"]=dens/df[\"Population\"]\n",
    "rest[\"Availability of Delivery Restaurant\"]=ranking(rest[\"Availability of Delivery Restaurant\"])\n",
    "rest[\"Rating of Delivery Restaurant\"]=ave\n",
    "rest[\"Rating of Delivery Restaurant\"]=ranking(rest[\"Rating of Delivery Restaurant\"])\n",
    "rest[\"Price level of Delivery Restaurant\"]=price\n",
    "rest[\"Price level of Delivery Restaurant\"]=ranking(-rest[\"Price level of Delivery Restaurant\"])\n",
    "rest[\"Ranking of Delivery Restaurant\"]=ranking(rest[\"Price level of Delivery Restaurant\"]+\n",
    "                                               rest[\"Rating of Delivery Restaurant\"]+\n",
    "                                               rest[\"Availability of Delivery Restaurant\"])"
   ]
  },
  {
   "cell_type": "code",
   "execution_count": 138,
   "metadata": {},
   "outputs": [],
   "source": [
    "dens=[]\n",
    "ave=[]\n",
    "price=[]\n",
    "other[\"Zip Code\"]=other[\"Zip Code\"].astype(str)\n",
    "for i in range(len(zip_code)):\n",
    "    dens.append(other[other[\"Zip Code\"]==zip_code[i]][\"id\"].count())\n",
    "    ave.append(other[other[\"Zip Code\"]==zip_code[i]][\"rating\"].mean())\n",
    "    price.append(other[other[\"Zip Code\"]==zip_code[i]][\"price_level\"].mean())\n",
    "rest[\"Availability of Other Restaurant\"]=dens/df[\"Population\"]\n",
    "rest[\"Availability of Other Restaurant\"]=ranking(rest[\"Availability of Other Restaurant\"])\n",
    "rest[\"Rating of Other Restaurant\"]=ave\n",
    "rest[\"Rating of Other Restaurant\"]=ranking(rest[\"Rating of Other Restaurant\"])\n",
    "rest[\"Price level of Other Restaurant\"]=price\n",
    "rest[\"Price level of Other Restaurant\"]=ranking(-rest[\"Price level of Other Restaurant\"])\n",
    "rest[\"Ranking of Other Restaurant\"]=ranking(rest[\"Price level of Other Restaurant\"]+\n",
    "                                            rest[\"Rating of Other Restaurant\"]+\n",
    "                                            rest[\"Availability of Other Restaurant\"])"
   ]
  },
  {
   "cell_type": "code",
   "execution_count": 139,
   "metadata": {},
   "outputs": [],
   "source": [
    "df=df.merge(rest,on=\"Zip Code\",how=\"left\")"
   ]
  },
  {
   "cell_type": "code",
   "execution_count": 140,
   "metadata": {},
   "outputs": [],
   "source": [
    "dr=pd.read_csv(\"Driving Area.csv\")\n",
    "cy=pd.read_csv(\"Cycling Area.csv\")"
   ]
  },
  {
   "cell_type": "code",
   "execution_count": 141,
   "metadata": {},
   "outputs": [],
   "source": [
    "df[\"Driving Area|10 mins\"]=ranking(dr[\"Area of 10 mins\"])\n",
    "df[\"Driving Area|30 mins\"]=ranking(dr[\"Area of 30 mins\"])\n",
    "df[\"Driving Area|60 mins\"]=ranking(dr[\"Area of 60 mins\"])"
   ]
  },
  {
   "cell_type": "code",
   "execution_count": 142,
   "metadata": {},
   "outputs": [],
   "source": [
    "df[\"Cycling Area|10 mins\"]=ranking(cy[\"Area of 10 mins\"])\n",
    "df[\"Cycling Area|30 mins\"]=ranking(cy[\"Area of 30 mins\"])\n",
    "df[\"Cycling Area|60 mins\"]=ranking(cy[\"Area of 60 mins\"])"
   ]
  },
  {
   "cell_type": "code",
   "execution_count": 143,
   "metadata": {},
   "outputs": [],
   "source": [
    "df[\"Driving Area\"]=ranking(df[\"Driving Area|10 mins\"]+df[\"Driving Area|30 mins\"]+df[\"Driving Area|60 mins\"])\n",
    "df[\"Cycling Area\"]=ranking(df[\"Cycling Area|10 mins\"]+df[\"Cycling Area|30 mins\"]+df[\"Cycling Area|60 mins\"])"
   ]
  },
  {
   "cell_type": "code",
   "execution_count": 144,
   "metadata": {},
   "outputs": [],
   "source": [
    "data=df.to_json()"
   ]
  },
  {
   "cell_type": "code",
   "execution_count": 145,
   "metadata": {},
   "outputs": [],
   "source": [
    "file = open('data.json','w',encoding='utf-8')\n",
    "json.dump(data,file,ensure_ascii=False)"
   ]
  },
  {
   "cell_type": "code",
   "execution_count": 147,
   "metadata": {},
   "outputs": [],
   "source": [
    "df.to_csv(\"data.csv\")"
   ]
  },
  {
   "cell_type": "code",
   "execution_count": null,
   "metadata": {},
   "outputs": [],
   "source": [
    "df"
   ]
  },
  {
   "cell_type": "code",
   "execution_count": null,
   "metadata": {},
   "outputs": [],
   "source": []
  },
  {
   "cell_type": "code",
   "execution_count": null,
   "metadata": {},
   "outputs": [],
   "source": []
  }
 ],
 "metadata": {
  "kernelspec": {
   "display_name": "Python 3",
   "language": "python",
   "name": "python3"
  },
  "language_info": {
   "codemirror_mode": {
    "name": "ipython",
    "version": 3
   },
   "file_extension": ".py",
   "mimetype": "text/x-python",
   "name": "python",
   "nbconvert_exporter": "python",
   "pygments_lexer": "ipython3",
   "version": "3.6.5"
  }
 },
 "nbformat": 4,
 "nbformat_minor": 2
}
