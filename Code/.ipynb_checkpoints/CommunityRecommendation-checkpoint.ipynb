{
 "cells": [
  {
   "cell_type": "code",
   "execution_count": 1,
   "metadata": {},
   "outputs": [],
   "source": [
    "import pandas as pd\n",
    "import numpy as np\n",
    "import glob\n",
    "import math\n",
    "import json\n",
    "import requests\n",
    "from geopy.geocoders import Nominatim"
   ]
  },
  {
   "cell_type": "markdown",
   "metadata": {},
   "source": [
    "the home sales part"
   ]
  },
  {
   "cell_type": "code",
   "execution_count": 2,
   "metadata": {},
   "outputs": [],
   "source": [
    "# create a list of zip code which would be the name of communities as well\n",
    "zip_code=['20001','20002','20003','20004','20005','20006','20007','20008','20009','20010','20011','20012',\n",
    "         '20015','20016','20017','20018','20019','20020','20024','20032','20036','20037']"
   ]
  },
  {
   "cell_type": "code",
   "execution_count": 3,
   "metadata": {},
   "outputs": [],
   "source": [
    "# read all files in one folder\n",
    "path_Sales =r'../Home Sales' \n",
    "allFiles_Sales = glob.glob(path_Sales + \"/*.csv\")\n",
    "frame_Sales = pd.DataFrame()\n",
    "list_Sales = []\n",
    "for file_Sales in allFiles_Sales:\n",
    "    df = pd.read_csv(file_Sales,index_col=None, header=0)\n",
    "    list_Sales.append(df)\n",
    "\n",
    "for i in range(len(list_Sales)):\n",
    "    list_Sales[i][\"Zip Code\"]=zip_code[i]\n",
    "    \n",
    "frame_Sales=pd.concat(list_Sales)"
   ]
  },
  {
   "cell_type": "code",
   "execution_count": 4,
   "metadata": {},
   "outputs": [],
   "source": [
    "frame_Sales.to_csv(\"sales.csv\")"
   ]
  },
  {
   "cell_type": "code",
   "execution_count": 5,
   "metadata": {},
   "outputs": [],
   "source": [
    "file_names=[]\n",
    "for i in range (0,22):\n",
    "    file_names.append('zip_'+zip_code[i])\n",
    "\n",
    "files={}\n",
    "for i in range(0,22):\n",
    "    files[file_names[i]]=list_Sales[i]"
   ]
  },
  {
   "cell_type": "code",
   "execution_count": 6,
   "metadata": {},
   "outputs": [],
   "source": [
    "# create a list of average rental amount\n",
    "ave_rent=[]\n",
    "for i in range(0,22):\n",
    "    ave_rent.append(list_Sales[i].groupby('Beds', as_index=False)['Current Price'].mean())"
   ]
  },
  {
   "cell_type": "code",
   "execution_count": 7,
   "metadata": {},
   "outputs": [],
   "source": [
    "for i in range(0,22):\n",
    "    ave_rent[i]['Zip Code']=zip_code[i]\n",
    "    \n",
    "data=pd.DataFrame()\n",
    "for i in range(0,22):\n",
    "    data=data.append(ave_rent[i])\n",
    "    \n",
    "data.rename(columns={'Current Price':'Ave Rent'},inplace=True)"
   ]
  },
  {
   "cell_type": "code",
   "execution_count": 8,
   "metadata": {},
   "outputs": [],
   "source": [
    "# create a dataframe to store data \n",
    "df=pd.DataFrame()\n",
    "\n",
    "df[\"Zip Code\"]=zip_code"
   ]
  },
  {
   "cell_type": "code",
   "execution_count": 9,
   "metadata": {},
   "outputs": [
    {
     "name": "stderr",
     "output_type": "stream",
     "text": [
      "C:\\Users\\19018\\Anaconda3\\lib\\site-packages\\pandas\\core\\frame.py:4223: SettingWithCopyWarning: \n",
      "A value is trying to be set on a copy of a slice from a DataFrame\n",
      "\n",
      "See the caveats in the documentation: http://pandas.pydata.org/pandas-docs/stable/user_guide/indexing.html#returning-a-view-versus-a-copy\n",
      "  return super().rename(**kwargs)\n"
     ]
    }
   ],
   "source": [
    "# create a dataframe of home sale prices for different number of beds\n",
    "bed_no=np.arange(0,8)\n",
    "\n",
    "df_s=[]\n",
    "for i in range(len(bed_no)):\n",
    "    df_s.append(data[data[\"Beds\"]==bed_no[i]])\n",
    "\n",
    "names=[]\n",
    "for i in range(len(bed_no)):\n",
    "    names.append('Price of '+str(int(bed_no[i]))+\" Beds for Sale\")\n",
    "\n",
    "for i in range(len(bed_no)):\n",
    "    df_s[i].rename(columns={'Ave Rent':names[i]}, inplace=True)\n",
    "    del df_s[i][\"Beds\"]"
   ]
  },
  {
   "cell_type": "code",
   "execution_count": 10,
   "metadata": {},
   "outputs": [],
   "source": [
    "for i in range(len(bed_no)):\n",
    "    df=pd.merge(df,df_s[i],how=\"left\",on=\"Zip Code\")"
   ]
  },
  {
   "cell_type": "code",
   "execution_count": 11,
   "metadata": {},
   "outputs": [],
   "source": [
    "df.rename(columns={\"Price of 0 Beds for Sale\":\"Price of Studio for Sale\"}, inplace=True)"
   ]
  },
  {
   "cell_type": "code",
   "execution_count": 12,
   "metadata": {},
   "outputs": [],
   "source": [
    "class Community:\n",
    "    def __init__(self,zipcode):\n",
    "        self.zipcode=zipcode\n",
    "    def Ave_Rent(self,Beds):\n",
    "        ave_rent=df.loc[(df[\"Zip_Code\"]==zipcode) & (df[\"Beds\"]==Beds)]['Ave_Rent']\n",
    "\n",
    "zip_20001=Community(20001)\n",
    "\n",
    "    "
   ]
  },
  {
   "cell_type": "code",
   "execution_count": 13,
   "metadata": {},
   "outputs": [],
   "source": [
    "# create a function to rank the performance\n",
    "def ranking(data):\n",
    "    data2=data.drop_duplicates(keep='first', inplace=False)\n",
    "    return data.map(lambda x:5 if x>np.nanpercentile(data2,80)\n",
    "                               else (4 if np.nanpercentile(data2,60)<x<=np.nanpercentile(data2,80)\n",
    "                               else (3 if np.nanpercentile(data2,40)<x<=np.nanpercentile(data2,60) \n",
    "                               else (2 if np.nanpercentile(data2,20)<x<=np.nanpercentile(data2,40)\n",
    "                               else (1)))))"
   ]
  },
  {
   "cell_type": "markdown",
   "metadata": {},
   "source": [
    "home appreciation part"
   ]
  },
  {
   "cell_type": "code",
   "execution_count": 14,
   "metadata": {},
   "outputs": [
    {
     "name": "stderr",
     "output_type": "stream",
     "text": [
      "C:\\Users\\19018\\Anaconda3\\lib\\site-packages\\ipykernel_launcher.py:11: FutureWarning: Sorting because non-concatenation axis is not aligned. A future version\n",
      "of pandas will change to not sort by default.\n",
      "\n",
      "To accept the future behavior, pass 'sort=False'.\n",
      "\n",
      "To retain the current behavior and silence the warning, pass 'sort=True'.\n",
      "\n",
      "  # This is added back by InteractiveShellApp.init_path()\n"
     ]
    }
   ],
   "source": [
    "path_09 =r'../Home Sales/9_1_2008-9_1_2009 Home Sales by Zip' \n",
    "allFiles_09 = glob.glob(path_09 + \"/*.csv\")\n",
    "frame_09 = pd.DataFrame()\n",
    "list_09 = []\n",
    "for file_Sales in allFiles_09:\n",
    "    df_09 = pd.read_csv(file_Sales,index_col=None, header=0,dtype={'Zip':str})\n",
    "    df_09[\"Current Price\"]=df_09[\"Current Price\"].map(lambda x: str.split(x,\"$\")[-1].replace(\",\",\"\"))\n",
    "    df_09[\"Current Price\"]=df_09[\"Current Price\"].astype(float)\n",
    "    df_09=df_09.rename(columns={\"Current Price\":\"2009\"})\n",
    "    list_09.append(df_09)\n",
    "frame_09=pd.concat(list_09)"
   ]
  },
  {
   "cell_type": "code",
   "execution_count": 15,
   "metadata": {},
   "outputs": [],
   "source": [
    "ave_09=pd.DataFrame(frame_09.groupby(by=[\"Zip\",\"Beds\"])[\"2009\"].mean())\n",
    "ave_09=ave_09.reset_index([\"Zip\",\"Beds\"])"
   ]
  },
  {
   "cell_type": "code",
   "execution_count": 16,
   "metadata": {},
   "outputs": [
    {
     "name": "stderr",
     "output_type": "stream",
     "text": [
      "C:\\Users\\19018\\Anaconda3\\lib\\site-packages\\ipykernel_launcher.py:12: FutureWarning: Sorting because non-concatenation axis is not aligned. A future version\n",
      "of pandas will change to not sort by default.\n",
      "\n",
      "To accept the future behavior, pass 'sort=False'.\n",
      "\n",
      "To retain the current behavior and silence the warning, pass 'sort=True'.\n",
      "\n",
      "  if sys.path[0] == '':\n"
     ]
    }
   ],
   "source": [
    "path_14 =r'../Home Sales/9_1_2013-9_1_2014 Home Sales by Zip' \n",
    "allFiles_14 = glob.glob(path_14 + \"/*.csv\")\n",
    "frame_14 = pd.DataFrame()\n",
    "list_14 = []\n",
    "for file_Sales in allFiles_14:\n",
    "    df_14 = pd.read_csv(file_Sales,index_col=None, header=0,dtype={'Zip':str})\n",
    "    df_14[\"Current Price\"]=df_14[\"Current Price\"].astype(str)\n",
    "    df_14[\"Current Price\"]=df_14[\"Current Price\"].map(lambda x: str.split(x,\"$\")[-1].replace(\",\",\"\"))\n",
    "    df_14[\"Current Price\"]=df_14[\"Current Price\"].astype(float)\n",
    "    df_14=df_14.rename(columns={\"Current Price\":\"2014\"})\n",
    "    list_14.append(df_14)\n",
    "frame_14=pd.concat(list_14)"
   ]
  },
  {
   "cell_type": "code",
   "execution_count": 17,
   "metadata": {},
   "outputs": [],
   "source": [
    "ave_14=pd.DataFrame(frame_14.groupby(by=[\"Zip\",\"Beds\"])[\"2014\"].mean())\n",
    "ave_14=ave_14.reset_index([\"Zip\",\"Beds\"])"
   ]
  },
  {
   "cell_type": "code",
   "execution_count": 18,
   "metadata": {},
   "outputs": [],
   "source": [
    "ave=pd.merge(ave_09,ave_14,on=[\"Zip\",\"Beds\"])"
   ]
  },
  {
   "cell_type": "code",
   "execution_count": 19,
   "metadata": {},
   "outputs": [],
   "source": [
    "ave.to_csv(\"sales by years.csv\")"
   ]
  },
  {
   "cell_type": "code",
   "execution_count": 20,
   "metadata": {},
   "outputs": [
    {
     "data": {
      "text/html": [
       "<div>\n",
       "<style scoped>\n",
       "    .dataframe tbody tr th:only-of-type {\n",
       "        vertical-align: middle;\n",
       "    }\n",
       "\n",
       "    .dataframe tbody tr th {\n",
       "        vertical-align: top;\n",
       "    }\n",
       "\n",
       "    .dataframe thead th {\n",
       "        text-align: right;\n",
       "    }\n",
       "</style>\n",
       "<table border=\"1\" class=\"dataframe\">\n",
       "  <thead>\n",
       "    <tr style=\"text-align: right;\">\n",
       "      <th></th>\n",
       "      <th>Zip</th>\n",
       "      <th>Beds</th>\n",
       "      <th>2009</th>\n",
       "      <th>2014</th>\n",
       "    </tr>\n",
       "  </thead>\n",
       "  <tbody>\n",
       "    <tr>\n",
       "      <td>0</td>\n",
       "      <td>20001</td>\n",
       "      <td>0</td>\n",
       "      <td>2.371393e+05</td>\n",
       "      <td>2.918832e+05</td>\n",
       "    </tr>\n",
       "    <tr>\n",
       "      <td>1</td>\n",
       "      <td>20001</td>\n",
       "      <td>1</td>\n",
       "      <td>3.515437e+05</td>\n",
       "      <td>4.199486e+05</td>\n",
       "    </tr>\n",
       "    <tr>\n",
       "      <td>2</td>\n",
       "      <td>20001</td>\n",
       "      <td>2</td>\n",
       "      <td>4.379240e+05</td>\n",
       "      <td>6.084560e+05</td>\n",
       "    </tr>\n",
       "    <tr>\n",
       "      <td>3</td>\n",
       "      <td>20001</td>\n",
       "      <td>3</td>\n",
       "      <td>3.892528e+05</td>\n",
       "      <td>6.870606e+05</td>\n",
       "    </tr>\n",
       "    <tr>\n",
       "      <td>4</td>\n",
       "      <td>20001</td>\n",
       "      <td>4</td>\n",
       "      <td>4.297600e+05</td>\n",
       "      <td>7.992573e+05</td>\n",
       "    </tr>\n",
       "    <tr>\n",
       "      <td>...</td>\n",
       "      <td>...</td>\n",
       "      <td>...</td>\n",
       "      <td>...</td>\n",
       "      <td>...</td>\n",
       "    </tr>\n",
       "    <tr>\n",
       "      <td>128</td>\n",
       "      <td>20037</td>\n",
       "      <td>0</td>\n",
       "      <td>2.160259e+05</td>\n",
       "      <td>2.207188e+05</td>\n",
       "    </tr>\n",
       "    <tr>\n",
       "      <td>129</td>\n",
       "      <td>20037</td>\n",
       "      <td>1</td>\n",
       "      <td>3.698014e+05</td>\n",
       "      <td>4.354477e+05</td>\n",
       "    </tr>\n",
       "    <tr>\n",
       "      <td>130</td>\n",
       "      <td>20037</td>\n",
       "      <td>2</td>\n",
       "      <td>7.919867e+05</td>\n",
       "      <td>8.948412e+05</td>\n",
       "    </tr>\n",
       "    <tr>\n",
       "      <td>131</td>\n",
       "      <td>20037</td>\n",
       "      <td>3</td>\n",
       "      <td>2.196667e+06</td>\n",
       "      <td>1.668167e+06</td>\n",
       "    </tr>\n",
       "    <tr>\n",
       "      <td>132</td>\n",
       "      <td>20037</td>\n",
       "      <td>4</td>\n",
       "      <td>1.075000e+06</td>\n",
       "      <td>1.758750e+06</td>\n",
       "    </tr>\n",
       "  </tbody>\n",
       "</table>\n",
       "<p>133 rows × 4 columns</p>\n",
       "</div>"
      ],
      "text/plain": [
       "       Zip  Beds          2009          2014\n",
       "0    20001     0  2.371393e+05  2.918832e+05\n",
       "1    20001     1  3.515437e+05  4.199486e+05\n",
       "2    20001     2  4.379240e+05  6.084560e+05\n",
       "3    20001     3  3.892528e+05  6.870606e+05\n",
       "4    20001     4  4.297600e+05  7.992573e+05\n",
       "..     ...   ...           ...           ...\n",
       "128  20037     0  2.160259e+05  2.207188e+05\n",
       "129  20037     1  3.698014e+05  4.354477e+05\n",
       "130  20037     2  7.919867e+05  8.948412e+05\n",
       "131  20037     3  2.196667e+06  1.668167e+06\n",
       "132  20037     4  1.075000e+06  1.758750e+06\n",
       "\n",
       "[133 rows x 4 columns]"
      ]
     },
     "execution_count": 20,
     "metadata": {},
     "output_type": "execute_result"
    }
   ],
   "source": [
    "ave"
   ]
  },
  {
   "cell_type": "code",
   "execution_count": null,
   "metadata": {},
   "outputs": [],
   "source": []
  },
  {
   "cell_type": "markdown",
   "metadata": {},
   "source": [
    "Home Rental part"
   ]
  },
  {
   "cell_type": "code",
   "execution_count": 21,
   "metadata": {},
   "outputs": [],
   "source": [
    "rent=pd.read_csv(\"../Rentals/Rentals.csv\",dtype={\"Zip Code\": str})"
   ]
  },
  {
   "cell_type": "code",
   "execution_count": 22,
   "metadata": {},
   "outputs": [],
   "source": [
    "df=pd.merge(df,rent,on=\"Zip Code\")"
   ]
  },
  {
   "cell_type": "markdown",
   "metadata": {},
   "source": [
    "the elementary school part"
   ]
  },
  {
   "cell_type": "code",
   "execution_count": 23,
   "metadata": {
    "scrolled": false
   },
   "outputs": [],
   "source": [
    "# read the elementary school data\n",
    "elm_sch=pd.read_csv('../Public School Education Performance/DCPS Elementary.csv')"
   ]
  },
  {
   "cell_type": "code",
   "execution_count": 24,
   "metadata": {},
   "outputs": [],
   "source": [
    "per_gro=elm_sch[\"Perf_Growth\"]\n",
    "elm_sch[\"Performance of Growth\"]=ranking(per_gro)"
   ]
  },
  {
   "cell_type": "code",
   "execution_count": 25,
   "metadata": {},
   "outputs": [],
   "source": [
    "per_safe=elm_sch[\"Perf_Safe\"]\n",
    "per_safe=per_safe.astype(float)\n",
    "elm_sch[\"Performance of Safety\"]=ranking(per_safe)"
   ]
  },
  {
   "cell_type": "code",
   "execution_count": 26,
   "metadata": {},
   "outputs": [],
   "source": [
    "per_teacher=elm_sch[\"Perf_Teacher\"]\n",
    "elm_sch[\"Performance of Teachers\"]=ranking(per_teacher)"
   ]
  },
  {
   "cell_type": "code",
   "execution_count": 27,
   "metadata": {},
   "outputs": [],
   "source": [
    "per_enga=elm_sch[\"Perf_Engage_Current_Year\"]\n",
    "elm_sch[\"Performance of Engage\"]=ranking(per_enga)"
   ]
  },
  {
   "cell_type": "code",
   "execution_count": 28,
   "metadata": {},
   "outputs": [],
   "source": [
    "elm_sch[\"Dir_Zip\"]=elm_sch[\"Dir_Zip\"].astype(str)"
   ]
  },
  {
   "cell_type": "code",
   "execution_count": 29,
   "metadata": {},
   "outputs": [],
   "source": [
    "perf_elm=[]\n",
    "for i in range(len(elm_sch)):\n",
    "    data=elm_sch.iloc[i]\n",
    "    su_m=(data[\"Performance of Teachers\"]+data[\"Performance of Engage\"]+\n",
    "                              data[\"Performance of Safety\"]+data[\"Performance of Growth\"])\n",
    "    num=((int(np.isnan(data[\"Performance of Teachers\"])==False))+int((np.isnan(data[\"Performance of Engage\"])==False))+\n",
    "         (int(np.isnan(data[\"Performance of Safety\"])==False))+int((np.isnan(data[\"Performance of Growth\"])==False)))\n",
    "    score=su_m/num\n",
    "    perf_elm.append(score)\n",
    "elm_sch[\"Performance\"]=perf_elm"
   ]
  },
  {
   "cell_type": "code",
   "execution_count": 30,
   "metadata": {},
   "outputs": [],
   "source": [
    "per_of_elm_sch=[]\n",
    "for i in range(len(zip_code)):\n",
    "    per_of_elm_sch.append(round(np.mean(elm_sch[elm_sch[\"Dir_Zip\"].astype(str)==zip_code[i]][\"Performance\"]),3))"
   ]
  },
  {
   "cell_type": "code",
   "execution_count": 31,
   "metadata": {},
   "outputs": [],
   "source": [
    "# add the performance of elementary school to dataframe\n",
    "df[\"Performance of Elementary School\"]=per_of_elm_sch\n",
    "df[\"Performance of Elementary School\"]=ranking(df[\"Performance of Elementary School\"])"
   ]
  },
  {
   "cell_type": "code",
   "execution_count": 32,
   "metadata": {},
   "outputs": [],
   "source": [
    "elm_sch[\"Ranking\"]=ranking(elm_sch['Performance'])"
   ]
  },
  {
   "cell_type": "code",
   "execution_count": 33,
   "metadata": {},
   "outputs": [],
   "source": [
    "good_elm=elm_sch.sort_values(by=\"Performance\",ascending=False)[:5]"
   ]
  },
  {
   "cell_type": "code",
   "execution_count": 34,
   "metadata": {},
   "outputs": [],
   "source": [
    "good_elm.to_csv(\"good elm sch.csv\")"
   ]
  },
  {
   "cell_type": "markdown",
   "metadata": {},
   "source": [
    "the middle school part"
   ]
  },
  {
   "cell_type": "code",
   "execution_count": 35,
   "metadata": {},
   "outputs": [],
   "source": [
    "mid_sch=pd.read_csv('../Public School Education Performance/DCPS Middle School.csv')"
   ]
  },
  {
   "cell_type": "code",
   "execution_count": 36,
   "metadata": {},
   "outputs": [],
   "source": [
    "per_gro=mid_sch[\"Perf_Growth\"]\n",
    "mid_sch[\"Performance of Growth\"]=ranking(per_gro)"
   ]
  },
  {
   "cell_type": "code",
   "execution_count": 37,
   "metadata": {},
   "outputs": [],
   "source": [
    "per_safe=mid_sch[\"Perf_Safety\"]\n",
    "mid_sch[\"Performance of Safety\"]=ranking(per_safe)\n"
   ]
  },
  {
   "cell_type": "code",
   "execution_count": 38,
   "metadata": {},
   "outputs": [],
   "source": [
    "per_enga=mid_sch[\"Perf_Engage_Current_Year\"]\n",
    "mid_sch[\"Performance of Engage\"]=ranking(per_enga)"
   ]
  },
  {
   "cell_type": "code",
   "execution_count": 39,
   "metadata": {},
   "outputs": [],
   "source": [
    "per_teacher=mid_sch[\"Perf_Teachers_Current_Year\"]\n",
    "mid_sch[\"Performance of Teachers\"]=ranking(per_teacher)"
   ]
  },
  {
   "cell_type": "code",
   "execution_count": 40,
   "metadata": {},
   "outputs": [],
   "source": [
    "perf_mid=[]\n",
    "for i in range(len(mid_sch)):\n",
    "    data=mid_sch.iloc[i]\n",
    "    su_m=(data[\"Performance of Teachers\"]+data[\"Performance of Engage\"]+\n",
    "                              data[\"Performance of Safety\"]+data[\"Performance of Growth\"])\n",
    "    num=((int(np.isnan(data[\"Performance of Teachers\"])==False))+int((np.isnan(data[\"Performance of Engage\"])==False))+\n",
    "         (int(np.isnan(data[\"Performance of Safety\"])==False))+int((np.isnan(data[\"Performance of Growth\"])==False)))\n",
    "    score=su_m/num\n",
    "    perf_mid.append(score)\n",
    "mid_sch[\"Performance\"]=perf_mid\n"
   ]
  },
  {
   "cell_type": "code",
   "execution_count": 41,
   "metadata": {},
   "outputs": [],
   "source": [
    "per_of_mid_sch=[]\n",
    "for i in range(len(zip_code)):\n",
    "    per_of_mid_sch.append(round(np.mean(mid_sch[mid_sch[\"Dir_Zip\"].astype(str)==zip_code[i]][\"Performance\"]),3))"
   ]
  },
  {
   "cell_type": "code",
   "execution_count": 42,
   "metadata": {},
   "outputs": [],
   "source": [
    "# add the performance of middle school to dataframe\n",
    "df[\"Performance of Middle School\"]=per_of_mid_sch\n",
    "df[\"Performance of Middle School\"]=ranking(df[\"Performance of Middle School\"])"
   ]
  },
  {
   "cell_type": "code",
   "execution_count": 43,
   "metadata": {},
   "outputs": [],
   "source": [
    "mid_sch[\"Ranking\"]=ranking(mid_sch[\"Performance\"])"
   ]
  },
  {
   "cell_type": "code",
   "execution_count": 44,
   "metadata": {},
   "outputs": [],
   "source": [
    "good_mid=mid_sch.sort_values(by=\"Performance\",ascending=False)[:5]"
   ]
  },
  {
   "cell_type": "code",
   "execution_count": 45,
   "metadata": {},
   "outputs": [],
   "source": [
    "good_mid.to_csv(\"good middle school.csv\")"
   ]
  },
  {
   "cell_type": "markdown",
   "metadata": {},
   "source": [
    "the high school part"
   ]
  },
  {
   "cell_type": "code",
   "execution_count": 46,
   "metadata": {},
   "outputs": [],
   "source": [
    "# read the high school data\n",
    "hig_sch=pd.read_csv('../Public School Education Performance/High School SAT Scores Washington, DC.csv',header=5)\n",
    "hig_sch=hig_sch.dropna()\n",
    "\n",
    "for i in range(len(hig_sch[\"Zip Code\"])):\n",
    "    hig_sch=hig_sch.replace(hig_sch[\"Zip Code\"][i],str(int(hig_sch[\"Zip Code\"][i])))"
   ]
  },
  {
   "cell_type": "code",
   "execution_count": 47,
   "metadata": {},
   "outputs": [],
   "source": [
    "hig_sch_sub=pd.read_csv('../Public School Education Performance/DCPS 2018 Graduation Data Overall Subgroup.csv',header=5)"
   ]
  },
  {
   "cell_type": "code",
   "execution_count": 48,
   "metadata": {},
   "outputs": [],
   "source": [
    "hig_grad=pd.DataFrame(hig_sch_sub[hig_sch_sub['Subgroup']=='All'])\n",
    "hig_grad.reset_index(drop=True,inplace=True)"
   ]
  },
  {
   "cell_type": "code",
   "execution_count": 49,
   "metadata": {},
   "outputs": [],
   "source": [
    "highsch=pd.merge(hig_sch,hig_grad,how='right',on=[\"School Code\",\"School Name\"])\n",
    "highsch.drop(19,inplace=True)"
   ]
  },
  {
   "cell_type": "code",
   "execution_count": 50,
   "metadata": {},
   "outputs": [],
   "source": [
    "per_grad=highsch[\"% Grad\"]\n",
    "\n",
    "highsch[\"Performance of Graduation\"]=ranking(per_grad)\n",
    "highsch['Total Average'] = highsch['Total Average'].astype(float)\n",
    "\n",
    "per_sat=highsch[\"Total Average\"]\n",
    "\n",
    "highsch[\"Performance of SAT\"]=ranking(per_sat)\n",
    "\n",
    "perf_high=[]\n",
    "for i in range(len(highsch)):\n",
    "    data=highsch.iloc[i]\n",
    "    su_m=(data[\"Performance of SAT\"]+data[\"Performance of Graduation\"])\n",
    "    num=((int(np.isnan(data[\"Performance of SAT\"])==False))+int((np.isnan(data[\"Performance of Graduation\"])==False)))\n",
    "    score=su_m/num\n",
    "    perf_high.append(score)\n",
    "highsch[\"Performance\"]=perf_high\n",
    "\n",
    "\n",
    "per_of_high_sch=[]\n",
    "for i in range(len(zip_code)):\n",
    "    per_of_high_sch.append(round(np.mean(highsch[highsch[\"Zip Code\"]==zip_code[i]][\"Performance\"]),3))"
   ]
  },
  {
   "cell_type": "code",
   "execution_count": 51,
   "metadata": {},
   "outputs": [],
   "source": [
    "# add the performance of high school to dataframe\n",
    "df[\"Performance of High School\"]=per_of_high_sch\n",
    "df[\"Performance of High School\"]=ranking(df[\"Performance of High School\"])"
   ]
  },
  {
   "cell_type": "code",
   "execution_count": 52,
   "metadata": {},
   "outputs": [],
   "source": [
    "highsch[\"Ranking\"]=ranking(highsch[\"Performance\"])"
   ]
  },
  {
   "cell_type": "code",
   "execution_count": 53,
   "metadata": {},
   "outputs": [],
   "source": [
    "good_hig=highsch.sort_values(by=\"Performance\",ascending=False)[:5]"
   ]
  },
  {
   "cell_type": "code",
   "execution_count": 54,
   "metadata": {},
   "outputs": [],
   "source": [
    "good_hig.to_csv(\"good high school.csv\")"
   ]
  },
  {
   "cell_type": "markdown",
   "metadata": {},
   "source": [
    "the train station part"
   ]
  },
  {
   "cell_type": "code",
   "execution_count": 55,
   "metadata": {},
   "outputs": [],
   "source": [
    "train=pd.read_csv(\"../Transit Stations/metro_stations.csv\")\n",
    "train=train[train[\"State\"]==\"DC\"]\n",
    "train[\"Zip\"]=train[\"Zip\"].astype(str)"
   ]
  },
  {
   "cell_type": "code",
   "execution_count": 56,
   "metadata": {},
   "outputs": [],
   "source": [
    "dens=[]\n",
    "for i in range(len(zip_code)):\n",
    "    dens.append((train[train[\"Zip\"]==zip_code[i]][\"Station\"].count()))"
   ]
  },
  {
   "cell_type": "code",
   "execution_count": 57,
   "metadata": {},
   "outputs": [],
   "source": [
    "df[\"Availability of Trains\"]=dens\n",
    "df[\"Availability of Trains\"]=ranking(df[\"Availability of Trains\"])"
   ]
  },
  {
   "cell_type": "markdown",
   "metadata": {},
   "source": [
    "hospital part"
   ]
  },
  {
   "cell_type": "code",
   "execution_count": 58,
   "metadata": {},
   "outputs": [],
   "source": [
    "hos=pd.read_csv(\"../Hospitals/hista_dc_hospitals_tbl.csv\")\n",
    "hos[\"Zip Code\"]=hos[\"Zip Code\"].astype(str)"
   ]
  },
  {
   "cell_type": "code",
   "execution_count": 59,
   "metadata": {},
   "outputs": [],
   "source": [
    "dens=[]\n",
    "for i in range(len(zip_code)):\n",
    "    dens.append((hos[hos[\"Zip Code\"]==zip_code[i]][\"Code\"].count()))"
   ]
  },
  {
   "cell_type": "code",
   "execution_count": 60,
   "metadata": {},
   "outputs": [],
   "source": [
    "df[\"Availability of Hospitals\"]=dens\n",
    "df[\"Availability of Hospitals\"]=ranking(df[\"Availability of Hospitals\"])"
   ]
  },
  {
   "cell_type": "markdown",
   "metadata": {},
   "source": [
    "library part"
   ]
  },
  {
   "cell_type": "code",
   "execution_count": 61,
   "metadata": {},
   "outputs": [],
   "source": [
    "lib=pd.read_csv(\"../Library/hista_dc_libraries_tbl.csv\")\n",
    "lib[\"Zip\"]=lib[\"Zip\"].astype(str)"
   ]
  },
  {
   "cell_type": "code",
   "execution_count": 62,
   "metadata": {},
   "outputs": [],
   "source": [
    "dens=[]\n",
    "for i in range(len(zip_code)):\n",
    "    dens.append((lib[lib[\"Zip\"]==zip_code[i]][\"Library Name\"].count()))"
   ]
  },
  {
   "cell_type": "code",
   "execution_count": 63,
   "metadata": {},
   "outputs": [],
   "source": [
    "df[\"Availability of Libraries\"]=dens\n",
    "df[\"Availability of Libraries\"]=ranking(df[\"Availability of Libraries\"])"
   ]
  },
  {
   "cell_type": "markdown",
   "metadata": {},
   "source": [
    "grocery part"
   ]
  },
  {
   "cell_type": "code",
   "execution_count": 64,
   "metadata": {},
   "outputs": [],
   "source": [
    "url=\"https://maps2.dcgis.dc.gov/dcgis/rest/services/DCGIS_DATA/Business_and_Economic_Development_WebMercator/MapServer/4/query?where=1%3D1&outFields=*&outSR=4326&f=json\""
   ]
  },
  {
   "cell_type": "code",
   "execution_count": 65,
   "metadata": {},
   "outputs": [],
   "source": [
    "r=requests.post(url)"
   ]
  },
  {
   "cell_type": "code",
   "execution_count": 66,
   "metadata": {},
   "outputs": [],
   "source": [
    "a=json.loads(r.text)"
   ]
  },
  {
   "cell_type": "code",
   "execution_count": 67,
   "metadata": {},
   "outputs": [],
   "source": [
    "g=[]\n",
    "for i in range(len(a[\"features\"])):\n",
    "    g.append(a[\"features\"][i][\"attributes\"])"
   ]
  },
  {
   "cell_type": "code",
   "execution_count": 68,
   "metadata": {},
   "outputs": [],
   "source": [
    "groc=pd.DataFrame(g)\n",
    "groc[\"ZIPCODE\"]=groc[\"ZIPCODE\"].astype(str)"
   ]
  },
  {
   "cell_type": "code",
   "execution_count": null,
   "metadata": {},
   "outputs": [],
   "source": []
  },
  {
   "cell_type": "code",
   "execution_count": 69,
   "metadata": {},
   "outputs": [
    {
     "name": "stderr",
     "output_type": "stream",
     "text": [
      "C:\\Users\\19018\\Anaconda3\\lib\\site-packages\\ipykernel_launcher.py:8: SettingWithCopyWarning: \n",
      "A value is trying to be set on a copy of a slice from a DataFrame\n",
      "\n",
      "See the caveats in the documentation: http://pandas.pydata.org/pandas-docs/stable/user_guide/indexing.html#returning-a-view-versus-a-copy\n",
      "  \n"
     ]
    }
   ],
   "source": [
    "#groc=pd.read_csv(\"../Daily Needs/Grocery_Store_Locations.csv\",dtype={'ZIPCODE':str})\n",
    "names=pd.unique(groc[\"STORENAME\"])\n",
    "ranks=pd.read_csv(\"../Daily Needs/Grocery.csv\")\n",
    "\n",
    "groc=pd.merge(groc,ranks,how=\"left\",on=\"STORENAME\")\n",
    "\n",
    "where_are_nan = np.isnan(groc[\"RANKING\"])\n",
    "groc[\"RANKING\"][where_are_nan]=1\n"
   ]
  },
  {
   "cell_type": "code",
   "execution_count": 70,
   "metadata": {},
   "outputs": [],
   "source": [
    "barg=pd.read_csv(\"../Daily Needs/bargain.csv\")\n",
    "barg[\"Rank\"]=ranking(barg[\"Score\"])\n",
    "\n",
    "groc=pd.merge(groc,barg,how=\"left\",on=\"STORENAME\")"
   ]
  },
  {
   "cell_type": "code",
   "execution_count": 71,
   "metadata": {},
   "outputs": [],
   "source": [
    "ave_rank=[]\n",
    "num_s=[]\n",
    "for i in range(len(zip_code)):\n",
    "    num_s.append(groc[groc[\"ZIPCODE\"]==zip_code[i]][\"STORENAME\"].count())\n",
    "    ave_rank.append(groc[groc[\"ZIPCODE\"]==zip_code[i]][\"RANKING\"].mean())"
   ]
  },
  {
   "cell_type": "code",
   "execution_count": 72,
   "metadata": {},
   "outputs": [],
   "source": [
    "barank=[]\n",
    "for i in range(len(zip_code)):\n",
    "    barank.append(groc[groc[\"ZIPCODE\"]==zip_code[i]][\"Rank\"].mean())"
   ]
  },
  {
   "cell_type": "code",
   "execution_count": 73,
   "metadata": {},
   "outputs": [],
   "source": [
    "grocery=pd.DataFrame(zip_code)\n",
    "\n",
    "grocery[\"Ranking of Grocery\"]=ave_rank\n",
    "grocery[\"Ranking of Grocery\"]=ranking(grocery[\"Ranking of Grocery\"])\n",
    "\n",
    "grocery[\"Density of Grocery\"]=num_s\n",
    "grocery[\"Density of Grocery\"]=ranking(grocery[\"Density of Grocery\"])\n",
    "\n",
    "grocery[\"Ranking of Bargain\"]=barank\n",
    "grocery[\"Ranking of Bargain\"]=ranking(grocery[\"Ranking of Bargain\"])"
   ]
  },
  {
   "cell_type": "code",
   "execution_count": 74,
   "metadata": {},
   "outputs": [],
   "source": [
    "df[\"Availability of Grocery|Freshness\"]=grocery[\"Ranking of Grocery\"]+grocery[\"Density of Grocery\"]\n",
    "df[\"Availability of Grocery|Freshness\"]=ranking(df[\"Availability of Grocery|Freshness\"])\n",
    "\n",
    "df[\"Availability of Grocery|Bargain\"]=grocery[\"Ranking of Bargain\"]+grocery[\"Density of Grocery\"]\n",
    "df[\"Availability of Grocery|Bargain\"]=ranking(df[\"Availability of Grocery|Bargain\"])"
   ]
  },
  {
   "cell_type": "markdown",
   "metadata": {},
   "source": [
    "pharmacy part"
   ]
  },
  {
   "cell_type": "code",
   "execution_count": 75,
   "metadata": {},
   "outputs": [],
   "source": [
    "pha=pd.read_csv(\"../Daily Needs/pharmacy_zips.csv\")\n",
    "pha[\"Zip Code\"]=pha[\"Zip Code\"].astype(str)"
   ]
  },
  {
   "cell_type": "code",
   "execution_count": 76,
   "metadata": {},
   "outputs": [],
   "source": [
    "dens=[]\n",
    "for i in range(len(zip_code)):\n",
    "    dens.append(pha[pha[\"Zip Code\"]==zip_code[i]][\"Zip Code\"].count())"
   ]
  },
  {
   "cell_type": "code",
   "execution_count": 77,
   "metadata": {},
   "outputs": [],
   "source": [
    "df[\"Availability of Pharmacy\"]=dens\n",
    "df[\"Availability of Pharmacy\"]=ranking(df[\"Availability of Pharmacy\"])"
   ]
  },
  {
   "cell_type": "markdown",
   "metadata": {},
   "source": [
    "the safety part"
   ]
  },
  {
   "cell_type": "code",
   "execution_count": 78,
   "metadata": {},
   "outputs": [],
   "source": [
    "# crime=pd.read_csv(\"../Safety/Crime Rate.csv\")\n",
    "# crime[\"Rate\"]=crime[\"violent\"]+crime[\"property\"]\n",
    "# crime[\"Ranking\"]=ranking(-crime[\"Rate\"])\n",
    "# df[\"Rate of Crime\"]=crime[\"Ranking\"]"
   ]
  },
  {
   "cell_type": "code",
   "execution_count": 79,
   "metadata": {},
   "outputs": [],
   "source": [
    "crim=pd.read_csv(\"../Safety/crime_dc.csv\")\n",
    "crim=crim.dropna(subset=[\"Zip Code\"])\n",
    "crim[\"Zip Code\"]=crim[\"Zip Code\"].astype(int)\n",
    "crim[\"Zip Code\"]=crim[\"Zip Code\"].astype(str)"
   ]
  },
  {
   "cell_type": "code",
   "execution_count": 80,
   "metadata": {},
   "outputs": [],
   "source": [
    "cri=pd.DataFrame(zip_code)\n",
    "pro_t_o=[]\n",
    "pro_b=[]\n",
    "pro_t_f=[]\n",
    "pro_m=[]\n",
    "pro_a=[]\n",
    "vio_h=[]\n",
    "vio_a=[]\n",
    "vio_r=[]\n",
    "vio_s=[]\n",
    "for i in range(len(zip_code)):\n",
    "    pro_t_o.append((crim[(crim[\"Zip Code\"]==zip_code[i]) & (crim[\"offensekey\"]==\"property|theft/other\")])[\"offensekey\"].count())\n",
    "    pro_b.append((crim[(crim[\"Zip Code\"]==zip_code[i]) & (crim[\"offensekey\"]==\"property|burglary\")])[\"offensekey\"].count())\n",
    "    pro_t_f.append((crim[(crim[\"Zip Code\"]==zip_code[i]) & (crim[\"offensekey\"]==\"property|theft f/auto\")])[\"offensekey\"].count())\n",
    "    pro_m.append((crim[(crim[\"Zip Code\"]==zip_code[i]) & (crim[\"offensekey\"]==\"property|motor vehicle theft\")])[\"offensekey\"].count())\n",
    "    pro_a.append((crim[(crim[\"Zip Code\"]==zip_code[i]) & (crim[\"offensekey\"]==\"property|arson\")])[\"offensekey\"].count())\n",
    "    vio_h.append((crim[(crim[\"Zip Code\"]==zip_code[i]) & (crim[\"offensekey\"]==\"violent|homicide\")])[\"offensekey\"].count())\n",
    "    vio_a.append((crim[(crim[\"Zip Code\"]==zip_code[i]) & (crim[\"offensekey\"]==\"violent|assault w/dangerous weapon\")])[\"offensekey\"].count())\n",
    "    vio_r.append((crim[(crim[\"Zip Code\"]==zip_code[i]) & (crim[\"offensekey\"]==\"violent|robbery\")])[\"offensekey\"].count())\n",
    "    vio_s.append((crim[(crim[\"Zip Code\"]==zip_code[i]) & (crim[\"offensekey\"]==\"violent|sex abuse\")])[\"offensekey\"].count())  "
   ]
  },
  {
   "cell_type": "code",
   "execution_count": 81,
   "metadata": {},
   "outputs": [],
   "source": [
    "cri=cri.rename(columns={0:'Zip Code'})"
   ]
  },
  {
   "cell_type": "code",
   "execution_count": 82,
   "metadata": {},
   "outputs": [],
   "source": [
    "cri[\"property|theft/other\"]=pro_t_o\n",
    "cri[\"property|theft/other\"]=ranking(-cri[\"property|theft/other\"])\n",
    "cri[\"property|burglary\"]=pro_b\n",
    "cri[\"property|burglary\"]=ranking(-cri[\"property|burglary\"])\n",
    "cri[\"property|theft f/auto\"]=pro_t_f\n",
    "cri[\"property|theft f/auto\"]=ranking(-cri[\"property|theft f/auto\"])\n",
    "cri[\"property|motor vehicle theft\"]=pro_m\n",
    "cri[\"property|motor vehicle theft\"]=ranking(-cri[\"property|motor vehicle theft\"])\n",
    "cri[\"property|arson\"]=pro_a\n",
    "cri[\"property|arson\"]=ranking(-cri[\"property|arson\"])\n",
    "cri[\"violent|homicide\"]=vio_h\n",
    "cri[\"violent|homicide\"]=ranking(-cri[\"violent|homicide\"])\n",
    "cri[\"violent|assault w/dangerous weapon\"]=vio_a\n",
    "cri[\"violent|assault w/dangerous weapon\"]=ranking(-cri[\"violent|assault w/dangerous weapon\"])\n",
    "cri[\"violent|robbery\"]=vio_r\n",
    "cri[\"violent|robbery\"]=ranking(-cri[\"violent|robbery\"])\n",
    "cri[\"violent|sex abuse\"]=vio_s\n",
    "cri[\"violent|sex abuse\"]=ranking(-cri[\"violent|sex abuse\"])"
   ]
  },
  {
   "cell_type": "code",
   "execution_count": 83,
   "metadata": {},
   "outputs": [],
   "source": [
    "cri[\"Property\"]=ranking(cri[\"property|theft/other\"]+cri[\"property|burglary\"]++cri[\"property|theft f/auto\"]+\n",
    "                       cri[\"property|motor vehicle theft\"]+cri[\"property|arson\"])"
   ]
  },
  {
   "cell_type": "code",
   "execution_count": 84,
   "metadata": {},
   "outputs": [],
   "source": [
    "cri[\"Violent\"]=ranking(cri[\"violent|homicide\"]+cri[\"violent|assault w/dangerous weapon\"]+cri[\"violent|robbery\"]\n",
    "                       +cri[\"violent|sex abuse\"])"
   ]
  },
  {
   "cell_type": "code",
   "execution_count": 85,
   "metadata": {},
   "outputs": [],
   "source": [
    "cri[\"Performance\"]=ranking(cri[\"Property\"]+cri[\"Violent\"])"
   ]
  },
  {
   "cell_type": "code",
   "execution_count": 86,
   "metadata": {},
   "outputs": [],
   "source": [
    "df=df.merge(cri,how=\"outer\",on=\"Zip Code\")"
   ]
  },
  {
   "cell_type": "markdown",
   "metadata": {},
   "source": [
    "park part"
   ]
  },
  {
   "cell_type": "code",
   "execution_count": 87,
   "metadata": {},
   "outputs": [],
   "source": [
    "park=pd.read_csv(\"../Leisure/Parks_zips.csv\")"
   ]
  },
  {
   "cell_type": "code",
   "execution_count": 88,
   "metadata": {},
   "outputs": [],
   "source": [
    "park=pd.DataFrame(park)\n",
    "park[\"Zip Code\"]=park[\"Zip Code\"].astype(str)\n",
    "dens=[]\n",
    "for i in range(len(zip_code)):\n",
    "    dens.append(park[park[\"Zip Code\"]==zip_code[i]][\"Zip Code\"].count())"
   ]
  },
  {
   "cell_type": "code",
   "execution_count": 89,
   "metadata": {},
   "outputs": [],
   "source": [
    "df[\"Availability of Parks\"]=dens\n",
    "df[\"Availability of Parks\"]=ranking(df[\"Availability of Parks\"])"
   ]
  },
  {
   "cell_type": "markdown",
   "metadata": {},
   "source": [
    "national park part"
   ]
  },
  {
   "cell_type": "code",
   "execution_count": 90,
   "metadata": {},
   "outputs": [],
   "source": [
    "napa=pd.read_csv(\"../Leisure/National_Parks_zips.csv\",dtype={\"Zip Code\":str})\n"
   ]
  },
  {
   "cell_type": "code",
   "execution_count": 91,
   "metadata": {},
   "outputs": [],
   "source": [
    "mark=[]\n",
    "for i in range(len(napa)-1):\n",
    "    if (napa.iloc[i+1][\"NAME\"]==napa.iloc[i][\"NAME\"]):\n",
    "        if(napa.iloc[i+1][\"Zip Code\"]==napa.iloc[i][\"Zip Code\"]):\n",
    "            mark.append(\"0\")\n",
    "        else:\n",
    "            mark.append(napa.iloc[i][\"Zip Code\"])\n",
    "    else:\n",
    "        mark.append(napa.iloc[i][\"Zip Code\"])"
   ]
  },
  {
   "cell_type": "code",
   "execution_count": 92,
   "metadata": {},
   "outputs": [],
   "source": [
    "mark.append(napa.iloc[-1][\"Zip Code\"])"
   ]
  },
  {
   "cell_type": "code",
   "execution_count": 93,
   "metadata": {},
   "outputs": [],
   "source": [
    "napa[\"MARK\"]=mark"
   ]
  },
  {
   "cell_type": "code",
   "execution_count": 94,
   "metadata": {},
   "outputs": [],
   "source": [
    "dens2=[]\n",
    "for i in range(len(zip_code)):\n",
    "    dens2.append(napa[napa[\"MARK\"]==zip_code[i]][\"MARK\"].count())"
   ]
  },
  {
   "cell_type": "code",
   "execution_count": 95,
   "metadata": {},
   "outputs": [],
   "source": [
    "df[\"Availability of National Parks\"]=dens2\n",
    "df[\"Availability of National Parks\"]=ranking(df[\"Availability of National Parks\"])"
   ]
  },
  {
   "cell_type": "markdown",
   "metadata": {},
   "source": [
    "sports part"
   ]
  },
  {
   "cell_type": "code",
   "execution_count": 96,
   "metadata": {},
   "outputs": [],
   "source": [
    "spo=pd.read_csv(\"../Leisure/sports.csv\",header=None)"
   ]
  },
  {
   "cell_type": "code",
   "execution_count": 97,
   "metadata": {},
   "outputs": [],
   "source": [
    "spo_name=spo[::5]\n",
    "spo_add=spo[3::5]"
   ]
  },
  {
   "cell_type": "code",
   "execution_count": 98,
   "metadata": {},
   "outputs": [],
   "source": [
    "spo_zip=[]\n",
    "for i in range(len(spo_add)):\n",
    "    spo_zip.append(str.split(str.split(spo_add[0].iloc[i],sep=\",\")[-1].replace(\" \",\"\"),sep=\"-\")[0])\n",
    "    spo_zip"
   ]
  },
  {
   "cell_type": "code",
   "execution_count": 99,
   "metadata": {},
   "outputs": [],
   "source": [
    "sport=pd.DataFrame(spo_name)\n",
    "sport=sport.rename(columns={0:\"Names\"})\n",
    "sport[\"Zip Code\"]=spo_zip\n",
    "sport[\"Zip Code\"]=sport[\"Zip Code\"].astype(str)\n",
    "dens=[]\n",
    "for i in range(len(zip_code)):\n",
    "    dens.append(sport[sport[\"Zip Code\"]==zip_code[i]][\"Names\"].count())"
   ]
  },
  {
   "cell_type": "code",
   "execution_count": 100,
   "metadata": {},
   "outputs": [],
   "source": [
    "df[\"Availability of Sport Facility\"]=dens\n",
    "df[\"Availability of Sport Facility\"]=ranking(df[\"Availability of Sport Facility\"])"
   ]
  },
  {
   "cell_type": "markdown",
   "metadata": {},
   "source": [
    "restaurant part"
   ]
  },
  {
   "cell_type": "code",
   "execution_count": 101,
   "metadata": {},
   "outputs": [],
   "source": [
    "cafe=pd.read_csv(\"../Daily Needs/cafe.csv\")\n",
    "bake=pd.read_csv(\"../Daily Needs/cafe.csv\")\n",
    "bar=pd.read_csv(\"../Daily Needs/bar.csv\")\n",
    "deli=pd.read_csv(\"../Daily Needs/delivery.csv\")\n",
    "other=pd.read_csv(\"../Daily Needs/other.csv\")\n",
    "cof=pd.read_csv(\"../Daily Needs/Coffee.csv\")"
   ]
  },
  {
   "cell_type": "code",
   "execution_count": 102,
   "metadata": {},
   "outputs": [
    {
     "name": "stderr",
     "output_type": "stream",
     "text": [
      "C:\\Users\\19018\\Anaconda3\\lib\\site-packages\\ipykernel_launcher.py:1: FutureWarning: Sorting because non-concatenation axis is not aligned. A future version\n",
      "of pandas will change to not sort by default.\n",
      "\n",
      "To accept the future behavior, pass 'sort=False'.\n",
      "\n",
      "To retain the current behavior and silence the warning, pass 'sort=True'.\n",
      "\n",
      "  \"\"\"Entry point for launching an IPython kernel.\n"
     ]
    }
   ],
   "source": [
    "cafe=pd.concat([cafe,cof])"
   ]
  },
  {
   "cell_type": "code",
   "execution_count": 103,
   "metadata": {},
   "outputs": [],
   "source": [
    "rest=pd.DataFrame(zip_code)\n",
    "rest=rest.rename(columns={0:\"Zip Code\"})"
   ]
  },
  {
   "cell_type": "code",
   "execution_count": 104,
   "metadata": {},
   "outputs": [],
   "source": [
    "dens=[]\n",
    "ave=[]\n",
    "price=[]\n",
    "cafe[\"Zip Code\"]=cafe[\"Zip Code\"].astype(str)\n",
    "for i in range(len(zip_code)):\n",
    "    dens.append(cafe[cafe[\"Zip Code\"]==zip_code[i]][\"id\"].count())\n",
    "    ave.append(cafe[cafe[\"Zip Code\"]==zip_code[i]][\"rating\"].mean())\n",
    "    price.append(cafe[cafe[\"Zip Code\"]==zip_code[i]][\"price_level\"].mean())\n",
    "rest[\"Availability of Cafe\"]=dens\n",
    "rest[\"Availability of Cafe\"]=ranking(rest[\"Availability of Cafe\"])\n",
    "rest[\"Rating of Cafe\"]=ave\n",
    "rest[\"Rating of Cafe\"]=ranking(rest[\"Rating of Cafe\"])\n",
    "rest[\"Price level of Cafe\"]=price\n",
    "rest[\"Price level of Cafe\"]=ranking(-rest[\"Price level of Cafe\"])\n",
    "rest[\"Ranking of Cafe\"]=ranking(rest[\"Price level of Cafe\"]+rest[\"Rating of Cafe\"]+rest[\"Availability of Cafe\"])"
   ]
  },
  {
   "cell_type": "code",
   "execution_count": 105,
   "metadata": {},
   "outputs": [],
   "source": [
    "dens=[]\n",
    "ave=[]\n",
    "price=[]\n",
    "bar[\"Zip Code\"]=bar[\"Zip Code\"].astype(str)\n",
    "for i in range(len(zip_code)):\n",
    "    dens.append(bar[bar[\"Zip Code\"]==zip_code[i]][\"id\"].count())\n",
    "    ave.append(bar[bar[\"Zip Code\"]==zip_code[i]][\"rating\"].mean())\n",
    "    price.append(bar[bar[\"Zip Code\"]==zip_code[i]][\"price_level\"].mean())\n",
    "rest[\"Availability of Bar\"]=dens\n",
    "rest[\"Availability of Bar\"]=ranking(rest[\"Availability of Bar\"])\n",
    "rest[\"Rating of Bar\"]=ave\n",
    "rest[\"Rating of Bar\"]=ranking(rest[\"Rating of Bar\"])\n",
    "rest[\"Price level of Bar\"]=price\n",
    "rest[\"Price level of Bar\"]=ranking(-rest[\"Price level of Bar\"])\n",
    "rest[\"Ranking of Bar\"]=ranking(rest[\"Price level of Bar\"]+rest[\"Rating of Bar\"]+rest[\"Availability of Bar\"])"
   ]
  },
  {
   "cell_type": "code",
   "execution_count": 106,
   "metadata": {},
   "outputs": [],
   "source": [
    "dens=[]\n",
    "ave=[]\n",
    "price=[]\n",
    "bake[\"Zip Code\"]=bake[\"Zip Code\"].astype(str)\n",
    "for i in range(len(zip_code)):\n",
    "    dens.append(bake[bake[\"Zip Code\"]==zip_code[i]][\"id\"].count())\n",
    "    ave.append(bake[bake[\"Zip Code\"]==zip_code[i]][\"rating\"].mean())\n",
    "    price.append(bake[bake[\"Zip Code\"]==zip_code[i]][\"price_level\"].mean())\n",
    "rest[\"Availability of Bakery\"]=dens\n",
    "rest[\"Availability of Bakery\"]=ranking(rest[\"Availability of Bakery\"])\n",
    "rest[\"Rating of Bakery\"]=ave\n",
    "rest[\"Rating of Bakery\"]=ranking(rest[\"Rating of Bakery\"])\n",
    "rest[\"Price level of Bakery\"]=price\n",
    "rest[\"Price level of Bakery\"]=ranking(-rest[\"Price level of Bakery\"])\n",
    "rest[\"Ranking of Bakery\"]=ranking(rest[\"Price level of Bakery\"]+rest[\"Rating of Bakery\"]+rest[\"Availability of Bakery\"])"
   ]
  },
  {
   "cell_type": "code",
   "execution_count": 107,
   "metadata": {},
   "outputs": [],
   "source": [
    "dens=[]\n",
    "ave=[]\n",
    "price=[]\n",
    "deli[\"Zip Code\"]=deli[\"Zip Code\"].astype(str)\n",
    "for i in range(len(zip_code)):\n",
    "    dens.append(deli[deli[\"Zip Code\"]==zip_code[i]][\"id\"].count())\n",
    "    ave.append(deli[deli[\"Zip Code\"]==zip_code[i]][\"rating\"].mean())\n",
    "    price.append(deli[deli[\"Zip Code\"]==zip_code[i]][\"price_level\"].mean())\n",
    "rest[\"Availability of Delivery Restaurant\"]=dens\n",
    "rest[\"Availability of Delivery Restaurant\"]=ranking(rest[\"Availability of Delivery Restaurant\"])\n",
    "rest[\"Rating of Delivery Restaurant\"]=ave\n",
    "rest[\"Rating of Delivery Restaurant\"]=ranking(rest[\"Rating of Delivery Restaurant\"])\n",
    "rest[\"Price level of Delivery Restaurant\"]=price\n",
    "rest[\"Price level of Delivery Restaurant\"]=ranking(-rest[\"Price level of Delivery Restaurant\"])\n",
    "rest[\"Ranking of Delivery Restaurant\"]=ranking(rest[\"Price level of Delivery Restaurant\"]+\n",
    "                                               rest[\"Rating of Delivery Restaurant\"]+\n",
    "                                               rest[\"Availability of Delivery Restaurant\"])"
   ]
  },
  {
   "cell_type": "code",
   "execution_count": 108,
   "metadata": {},
   "outputs": [],
   "source": [
    "dens=[]\n",
    "ave=[]\n",
    "price=[]\n",
    "other[\"Zip Code\"]=other[\"Zip Code\"].astype(str)\n",
    "for i in range(len(zip_code)):\n",
    "    dens.append(other[other[\"Zip Code\"]==zip_code[i]][\"id\"].count())\n",
    "    ave.append(other[other[\"Zip Code\"]==zip_code[i]][\"rating\"].mean())\n",
    "    price.append(other[other[\"Zip Code\"]==zip_code[i]][\"price_level\"].mean())\n",
    "rest[\"Availability of Other Restaurant\"]=dens\n",
    "rest[\"Availability of Other Restaurant\"]=ranking(rest[\"Availability of Other Restaurant\"])\n",
    "rest[\"Rating of Other Restaurant\"]=ave\n",
    "rest[\"Rating of Other Restaurant\"]=ranking(rest[\"Rating of Other Restaurant\"])\n",
    "rest[\"Price level of Other Restaurant\"]=price\n",
    "rest[\"Price level of Other Restaurant\"]=ranking(-rest[\"Price level of Other Restaurant\"])\n",
    "rest[\"Ranking of Other Restaurant\"]=ranking(rest[\"Price level of Other Restaurant\"]+\n",
    "                                            rest[\"Rating of Other Restaurant\"]+\n",
    "                                            rest[\"Availability of Other Restaurant\"])"
   ]
  },
  {
   "cell_type": "code",
   "execution_count": 109,
   "metadata": {},
   "outputs": [],
   "source": [
    "df=df.merge(rest,on=\"Zip Code\",how=\"left\")"
   ]
  },
  {
   "cell_type": "code",
   "execution_count": 110,
   "metadata": {},
   "outputs": [],
   "source": [
    "data=df.to_json()"
   ]
  },
  {
   "cell_type": "code",
   "execution_count": 111,
   "metadata": {},
   "outputs": [],
   "source": [
    "file = open('data.json','w',encoding='utf-8')\n",
    "json.dump(data,file,ensure_ascii=False)"
   ]
  },
  {
   "cell_type": "code",
   "execution_count": 112,
   "metadata": {},
   "outputs": [],
   "source": [
    "df.to_csv(\"data.csv\")"
   ]
  },
  {
   "cell_type": "code",
   "execution_count": 113,
   "metadata": {},
   "outputs": [
    {
     "data": {
      "text/html": [
       "<div>\n",
       "<style scoped>\n",
       "    .dataframe tbody tr th:only-of-type {\n",
       "        vertical-align: middle;\n",
       "    }\n",
       "\n",
       "    .dataframe tbody tr th {\n",
       "        vertical-align: top;\n",
       "    }\n",
       "\n",
       "    .dataframe thead th {\n",
       "        text-align: right;\n",
       "    }\n",
       "</style>\n",
       "<table border=\"1\" class=\"dataframe\">\n",
       "  <thead>\n",
       "    <tr style=\"text-align: right;\">\n",
       "      <th></th>\n",
       "      <th>Zip Code</th>\n",
       "      <th>Price of Studio for Sale</th>\n",
       "      <th>Price of 1 Beds for Sale</th>\n",
       "      <th>Price of 2 Beds for Sale</th>\n",
       "      <th>Price of 3 Beds for Sale</th>\n",
       "      <th>Price of 4 Beds for Sale</th>\n",
       "      <th>Price of 5 Beds for Sale</th>\n",
       "      <th>Price of 6 Beds for Sale</th>\n",
       "      <th>Price of 7 Beds for Sale</th>\n",
       "      <th>Rental for Studio</th>\n",
       "      <th>...</th>\n",
       "      <th>Price level of Bakery</th>\n",
       "      <th>Ranking of Bakery</th>\n",
       "      <th>Availability of Delivery Restaurant</th>\n",
       "      <th>Rating of Delivery Restaurant</th>\n",
       "      <th>Price level of Delivery Restaurant</th>\n",
       "      <th>Ranking of Delivery Restaurant</th>\n",
       "      <th>Availability of Other Restaurant</th>\n",
       "      <th>Rating of Other Restaurant</th>\n",
       "      <th>Price level of Other Restaurant</th>\n",
       "      <th>Ranking of Other Restaurant</th>\n",
       "    </tr>\n",
       "  </thead>\n",
       "  <tbody>\n",
       "    <tr>\n",
       "      <td>0</td>\n",
       "      <td>20001</td>\n",
       "      <td>335000.000000</td>\n",
       "      <td>469753.959184</td>\n",
       "      <td>734827.966102</td>\n",
       "      <td>8.822890e+05</td>\n",
       "      <td>1.155034e+06</td>\n",
       "      <td>1.159850e+06</td>\n",
       "      <td>1.699500e+06</td>\n",
       "      <td>NaN</td>\n",
       "      <td>2130.000000</td>\n",
       "      <td>...</td>\n",
       "      <td>2</td>\n",
       "      <td>5</td>\n",
       "      <td>3</td>\n",
       "      <td>4</td>\n",
       "      <td>2</td>\n",
       "      <td>3</td>\n",
       "      <td>5</td>\n",
       "      <td>4</td>\n",
       "      <td>2</td>\n",
       "      <td>4</td>\n",
       "    </tr>\n",
       "    <tr>\n",
       "      <td>1</td>\n",
       "      <td>20002</td>\n",
       "      <td>NaN</td>\n",
       "      <td>391722.535714</td>\n",
       "      <td>539249.919540</td>\n",
       "      <td>7.913266e+05</td>\n",
       "      <td>9.924978e+05</td>\n",
       "      <td>1.220625e+06</td>\n",
       "      <td>1.435000e+06</td>\n",
       "      <td>NaN</td>\n",
       "      <td>1951.400000</td>\n",
       "      <td>...</td>\n",
       "      <td>5</td>\n",
       "      <td>5</td>\n",
       "      <td>4</td>\n",
       "      <td>3</td>\n",
       "      <td>2</td>\n",
       "      <td>3</td>\n",
       "      <td>5</td>\n",
       "      <td>3</td>\n",
       "      <td>4</td>\n",
       "      <td>5</td>\n",
       "    </tr>\n",
       "    <tr>\n",
       "      <td>2</td>\n",
       "      <td>20003</td>\n",
       "      <td>368283.333333</td>\n",
       "      <td>432204.068966</td>\n",
       "      <td>747956.897436</td>\n",
       "      <td>8.834842e+05</td>\n",
       "      <td>1.238833e+06</td>\n",
       "      <td>1.916000e+06</td>\n",
       "      <td>NaN</td>\n",
       "      <td>NaN</td>\n",
       "      <td>1945.000000</td>\n",
       "      <td>...</td>\n",
       "      <td>1</td>\n",
       "      <td>3</td>\n",
       "      <td>5</td>\n",
       "      <td>2</td>\n",
       "      <td>1</td>\n",
       "      <td>2</td>\n",
       "      <td>4</td>\n",
       "      <td>4</td>\n",
       "      <td>3</td>\n",
       "      <td>4</td>\n",
       "    </tr>\n",
       "    <tr>\n",
       "      <td>3</td>\n",
       "      <td>20004</td>\n",
       "      <td>NaN</td>\n",
       "      <td>463845.454545</td>\n",
       "      <td>663000.000000</td>\n",
       "      <td>8.326667e+05</td>\n",
       "      <td>NaN</td>\n",
       "      <td>NaN</td>\n",
       "      <td>NaN</td>\n",
       "      <td>NaN</td>\n",
       "      <td>1981.500000</td>\n",
       "      <td>...</td>\n",
       "      <td>1</td>\n",
       "      <td>2</td>\n",
       "      <td>1</td>\n",
       "      <td>5</td>\n",
       "      <td>5</td>\n",
       "      <td>5</td>\n",
       "      <td>3</td>\n",
       "      <td>1</td>\n",
       "      <td>1</td>\n",
       "      <td>1</td>\n",
       "    </tr>\n",
       "    <tr>\n",
       "      <td>4</td>\n",
       "      <td>20005</td>\n",
       "      <td>257200.000000</td>\n",
       "      <td>484829.230769</td>\n",
       "      <td>710192.592593</td>\n",
       "      <td>1.137500e+06</td>\n",
       "      <td>NaN</td>\n",
       "      <td>2.970000e+06</td>\n",
       "      <td>NaN</td>\n",
       "      <td>NaN</td>\n",
       "      <td>1900.666667</td>\n",
       "      <td>...</td>\n",
       "      <td>2</td>\n",
       "      <td>4</td>\n",
       "      <td>3</td>\n",
       "      <td>3</td>\n",
       "      <td>5</td>\n",
       "      <td>5</td>\n",
       "      <td>4</td>\n",
       "      <td>3</td>\n",
       "      <td>2</td>\n",
       "      <td>3</td>\n",
       "    </tr>\n",
       "    <tr>\n",
       "      <td>5</td>\n",
       "      <td>20006</td>\n",
       "      <td>258333.333333</td>\n",
       "      <td>380000.000000</td>\n",
       "      <td>NaN</td>\n",
       "      <td>NaN</td>\n",
       "      <td>NaN</td>\n",
       "      <td>NaN</td>\n",
       "      <td>NaN</td>\n",
       "      <td>NaN</td>\n",
       "      <td>1853.666667</td>\n",
       "      <td>...</td>\n",
       "      <td>3</td>\n",
       "      <td>3</td>\n",
       "      <td>4</td>\n",
       "      <td>3</td>\n",
       "      <td>4</td>\n",
       "      <td>5</td>\n",
       "      <td>3</td>\n",
       "      <td>3</td>\n",
       "      <td>1</td>\n",
       "      <td>2</td>\n",
       "    </tr>\n",
       "    <tr>\n",
       "      <td>6</td>\n",
       "      <td>20007</td>\n",
       "      <td>200112.500000</td>\n",
       "      <td>360688.080000</td>\n",
       "      <td>943500.000000</td>\n",
       "      <td>1.229389e+06</td>\n",
       "      <td>1.895678e+06</td>\n",
       "      <td>2.798633e+06</td>\n",
       "      <td>4.372859e+06</td>\n",
       "      <td>2470000.0</td>\n",
       "      <td>1813.833333</td>\n",
       "      <td>...</td>\n",
       "      <td>4</td>\n",
       "      <td>5</td>\n",
       "      <td>5</td>\n",
       "      <td>1</td>\n",
       "      <td>2</td>\n",
       "      <td>2</td>\n",
       "      <td>5</td>\n",
       "      <td>5</td>\n",
       "      <td>1</td>\n",
       "      <td>4</td>\n",
       "    </tr>\n",
       "    <tr>\n",
       "      <td>7</td>\n",
       "      <td>20008</td>\n",
       "      <td>218883.333333</td>\n",
       "      <td>372102.302326</td>\n",
       "      <td>665056.333333</td>\n",
       "      <td>1.406083e+06</td>\n",
       "      <td>1.502312e+06</td>\n",
       "      <td>2.125363e+06</td>\n",
       "      <td>1.550000e+06</td>\n",
       "      <td>NaN</td>\n",
       "      <td>1746.500000</td>\n",
       "      <td>...</td>\n",
       "      <td>4</td>\n",
       "      <td>1</td>\n",
       "      <td>2</td>\n",
       "      <td>5</td>\n",
       "      <td>5</td>\n",
       "      <td>5</td>\n",
       "      <td>3</td>\n",
       "      <td>2</td>\n",
       "      <td>1</td>\n",
       "      <td>2</td>\n",
       "    </tr>\n",
       "    <tr>\n",
       "      <td>8</td>\n",
       "      <td>20009</td>\n",
       "      <td>272402.055556</td>\n",
       "      <td>430932.090909</td>\n",
       "      <td>698360.353448</td>\n",
       "      <td>1.147511e+06</td>\n",
       "      <td>1.508111e+06</td>\n",
       "      <td>1.300300e+06</td>\n",
       "      <td>2.537500e+06</td>\n",
       "      <td>1699999.0</td>\n",
       "      <td>1914.710000</td>\n",
       "      <td>...</td>\n",
       "      <td>2</td>\n",
       "      <td>5</td>\n",
       "      <td>5</td>\n",
       "      <td>2</td>\n",
       "      <td>1</td>\n",
       "      <td>2</td>\n",
       "      <td>5</td>\n",
       "      <td>5</td>\n",
       "      <td>2</td>\n",
       "      <td>5</td>\n",
       "    </tr>\n",
       "    <tr>\n",
       "      <td>9</td>\n",
       "      <td>20010</td>\n",
       "      <td>236300.000000</td>\n",
       "      <td>353014.285714</td>\n",
       "      <td>590880.000000</td>\n",
       "      <td>7.920343e+05</td>\n",
       "      <td>8.639167e+05</td>\n",
       "      <td>1.385000e+06</td>\n",
       "      <td>1.132250e+06</td>\n",
       "      <td>1510000.0</td>\n",
       "      <td>1682.125000</td>\n",
       "      <td>...</td>\n",
       "      <td>1</td>\n",
       "      <td>3</td>\n",
       "      <td>1</td>\n",
       "      <td>2</td>\n",
       "      <td>5</td>\n",
       "      <td>2</td>\n",
       "      <td>4</td>\n",
       "      <td>5</td>\n",
       "      <td>4</td>\n",
       "      <td>5</td>\n",
       "    </tr>\n",
       "    <tr>\n",
       "      <td>10</td>\n",
       "      <td>20011</td>\n",
       "      <td>575000.000000</td>\n",
       "      <td>303520.000000</td>\n",
       "      <td>483317.948718</td>\n",
       "      <td>6.244473e+05</td>\n",
       "      <td>7.639049e+05</td>\n",
       "      <td>9.822907e+05</td>\n",
       "      <td>9.487500e+05</td>\n",
       "      <td>1165000.0</td>\n",
       "      <td>1435.166667</td>\n",
       "      <td>...</td>\n",
       "      <td>5</td>\n",
       "      <td>5</td>\n",
       "      <td>3</td>\n",
       "      <td>4</td>\n",
       "      <td>3</td>\n",
       "      <td>4</td>\n",
       "      <td>4</td>\n",
       "      <td>4</td>\n",
       "      <td>5</td>\n",
       "      <td>5</td>\n",
       "    </tr>\n",
       "    <tr>\n",
       "      <td>11</td>\n",
       "      <td>20012</td>\n",
       "      <td>254000.000000</td>\n",
       "      <td>354728.571429</td>\n",
       "      <td>487116.500000</td>\n",
       "      <td>6.532308e+05</td>\n",
       "      <td>8.634955e+05</td>\n",
       "      <td>9.535000e+05</td>\n",
       "      <td>1.024950e+06</td>\n",
       "      <td>NaN</td>\n",
       "      <td>1667.500000</td>\n",
       "      <td>...</td>\n",
       "      <td>5</td>\n",
       "      <td>3</td>\n",
       "      <td>1</td>\n",
       "      <td>5</td>\n",
       "      <td>1</td>\n",
       "      <td>1</td>\n",
       "      <td>1</td>\n",
       "      <td>2</td>\n",
       "      <td>4</td>\n",
       "      <td>2</td>\n",
       "    </tr>\n",
       "    <tr>\n",
       "      <td>12</td>\n",
       "      <td>20015</td>\n",
       "      <td>324450.000000</td>\n",
       "      <td>301000.000000</td>\n",
       "      <td>603684.615385</td>\n",
       "      <td>9.375777e+05</td>\n",
       "      <td>1.156774e+06</td>\n",
       "      <td>1.325594e+06</td>\n",
       "      <td>1.876572e+06</td>\n",
       "      <td>NaN</td>\n",
       "      <td>1508.000000</td>\n",
       "      <td>...</td>\n",
       "      <td>4</td>\n",
       "      <td>3</td>\n",
       "      <td>1</td>\n",
       "      <td>1</td>\n",
       "      <td>1</td>\n",
       "      <td>1</td>\n",
       "      <td>1</td>\n",
       "      <td>2</td>\n",
       "      <td>3</td>\n",
       "      <td>2</td>\n",
       "    </tr>\n",
       "    <tr>\n",
       "      <td>13</td>\n",
       "      <td>20016</td>\n",
       "      <td>222500.000000</td>\n",
       "      <td>370665.000000</td>\n",
       "      <td>548039.115385</td>\n",
       "      <td>1.119321e+06</td>\n",
       "      <td>1.258863e+06</td>\n",
       "      <td>1.885618e+06</td>\n",
       "      <td>3.024167e+06</td>\n",
       "      <td>2230000.0</td>\n",
       "      <td>1533.750000</td>\n",
       "      <td>...</td>\n",
       "      <td>4</td>\n",
       "      <td>3</td>\n",
       "      <td>2</td>\n",
       "      <td>1</td>\n",
       "      <td>5</td>\n",
       "      <td>2</td>\n",
       "      <td>2</td>\n",
       "      <td>5</td>\n",
       "      <td>3</td>\n",
       "      <td>4</td>\n",
       "    </tr>\n",
       "    <tr>\n",
       "      <td>14</td>\n",
       "      <td>20017</td>\n",
       "      <td>NaN</td>\n",
       "      <td>257566.666667</td>\n",
       "      <td>429614.500000</td>\n",
       "      <td>6.642500e+05</td>\n",
       "      <td>7.675327e+05</td>\n",
       "      <td>NaN</td>\n",
       "      <td>1.140000e+06</td>\n",
       "      <td>NaN</td>\n",
       "      <td>1579.000000</td>\n",
       "      <td>...</td>\n",
       "      <td>3</td>\n",
       "      <td>2</td>\n",
       "      <td>3</td>\n",
       "      <td>1</td>\n",
       "      <td>5</td>\n",
       "      <td>3</td>\n",
       "      <td>1</td>\n",
       "      <td>4</td>\n",
       "      <td>5</td>\n",
       "      <td>4</td>\n",
       "    </tr>\n",
       "    <tr>\n",
       "      <td>15</td>\n",
       "      <td>20018</td>\n",
       "      <td>NaN</td>\n",
       "      <td>257450.000000</td>\n",
       "      <td>417916.666667</td>\n",
       "      <td>5.399785e+05</td>\n",
       "      <td>6.697012e+05</td>\n",
       "      <td>6.170000e+05</td>\n",
       "      <td>9.300000e+05</td>\n",
       "      <td>1075000.0</td>\n",
       "      <td>1649.625000</td>\n",
       "      <td>...</td>\n",
       "      <td>5</td>\n",
       "      <td>3</td>\n",
       "      <td>1</td>\n",
       "      <td>3</td>\n",
       "      <td>5</td>\n",
       "      <td>3</td>\n",
       "      <td>2</td>\n",
       "      <td>3</td>\n",
       "      <td>5</td>\n",
       "      <td>4</td>\n",
       "    </tr>\n",
       "    <tr>\n",
       "      <td>16</td>\n",
       "      <td>20019</td>\n",
       "      <td>NaN</td>\n",
       "      <td>106500.000000</td>\n",
       "      <td>302488.280000</td>\n",
       "      <td>3.669693e+05</td>\n",
       "      <td>4.315999e+05</td>\n",
       "      <td>5.085000e+05</td>\n",
       "      <td>NaN</td>\n",
       "      <td>NaN</td>\n",
       "      <td>1140.000000</td>\n",
       "      <td>...</td>\n",
       "      <td>5</td>\n",
       "      <td>3</td>\n",
       "      <td>1</td>\n",
       "      <td>1</td>\n",
       "      <td>1</td>\n",
       "      <td>1</td>\n",
       "      <td>1</td>\n",
       "      <td>1</td>\n",
       "      <td>5</td>\n",
       "      <td>2</td>\n",
       "    </tr>\n",
       "    <tr>\n",
       "      <td>17</td>\n",
       "      <td>20020</td>\n",
       "      <td>NaN</td>\n",
       "      <td>89900.000000</td>\n",
       "      <td>195302.666667</td>\n",
       "      <td>3.392778e+05</td>\n",
       "      <td>4.807143e+05</td>\n",
       "      <td>3.100000e+05</td>\n",
       "      <td>NaN</td>\n",
       "      <td>NaN</td>\n",
       "      <td>2103.000000</td>\n",
       "      <td>...</td>\n",
       "      <td>5</td>\n",
       "      <td>2</td>\n",
       "      <td>2</td>\n",
       "      <td>4</td>\n",
       "      <td>5</td>\n",
       "      <td>5</td>\n",
       "      <td>2</td>\n",
       "      <td>1</td>\n",
       "      <td>4</td>\n",
       "      <td>2</td>\n",
       "    </tr>\n",
       "    <tr>\n",
       "      <td>18</td>\n",
       "      <td>20024</td>\n",
       "      <td>262497.500000</td>\n",
       "      <td>370991.538462</td>\n",
       "      <td>488000.000000</td>\n",
       "      <td>7.566667e+05</td>\n",
       "      <td>NaN</td>\n",
       "      <td>NaN</td>\n",
       "      <td>NaN</td>\n",
       "      <td>NaN</td>\n",
       "      <td>2198.428571</td>\n",
       "      <td>...</td>\n",
       "      <td>3</td>\n",
       "      <td>1</td>\n",
       "      <td>1</td>\n",
       "      <td>1</td>\n",
       "      <td>1</td>\n",
       "      <td>1</td>\n",
       "      <td>3</td>\n",
       "      <td>2</td>\n",
       "      <td>3</td>\n",
       "      <td>3</td>\n",
       "    </tr>\n",
       "    <tr>\n",
       "      <td>19</td>\n",
       "      <td>20032</td>\n",
       "      <td>NaN</td>\n",
       "      <td>124233.333333</td>\n",
       "      <td>244083.083333</td>\n",
       "      <td>3.598053e+05</td>\n",
       "      <td>4.156300e+05</td>\n",
       "      <td>4.575000e+05</td>\n",
       "      <td>NaN</td>\n",
       "      <td>280000.0</td>\n",
       "      <td>905.000000</td>\n",
       "      <td>...</td>\n",
       "      <td>1</td>\n",
       "      <td>1</td>\n",
       "      <td>1</td>\n",
       "      <td>1</td>\n",
       "      <td>5</td>\n",
       "      <td>1</td>\n",
       "      <td>1</td>\n",
       "      <td>1</td>\n",
       "      <td>5</td>\n",
       "      <td>2</td>\n",
       "    </tr>\n",
       "    <tr>\n",
       "      <td>20</td>\n",
       "      <td>20036</td>\n",
       "      <td>300000.000000</td>\n",
       "      <td>422463.625000</td>\n",
       "      <td>832875.000000</td>\n",
       "      <td>1.110000e+06</td>\n",
       "      <td>2.207550e+06</td>\n",
       "      <td>NaN</td>\n",
       "      <td>1.950000e+06</td>\n",
       "      <td>NaN</td>\n",
       "      <td>2294.000000</td>\n",
       "      <td>...</td>\n",
       "      <td>3</td>\n",
       "      <td>5</td>\n",
       "      <td>3</td>\n",
       "      <td>5</td>\n",
       "      <td>2</td>\n",
       "      <td>4</td>\n",
       "      <td>5</td>\n",
       "      <td>5</td>\n",
       "      <td>2</td>\n",
       "      <td>5</td>\n",
       "    </tr>\n",
       "    <tr>\n",
       "      <td>21</td>\n",
       "      <td>20037</td>\n",
       "      <td>258600.000000</td>\n",
       "      <td>394102.666667</td>\n",
       "      <td>745857.142857</td>\n",
       "      <td>1.150000e+06</td>\n",
       "      <td>NaN</td>\n",
       "      <td>NaN</td>\n",
       "      <td>NaN</td>\n",
       "      <td>NaN</td>\n",
       "      <td>2695.416667</td>\n",
       "      <td>...</td>\n",
       "      <td>3</td>\n",
       "      <td>3</td>\n",
       "      <td>2</td>\n",
       "      <td>5</td>\n",
       "      <td>1</td>\n",
       "      <td>2</td>\n",
       "      <td>2</td>\n",
       "      <td>1</td>\n",
       "      <td>1</td>\n",
       "      <td>1</td>\n",
       "    </tr>\n",
       "  </tbody>\n",
       "</table>\n",
       "<p>22 rows × 58 columns</p>\n",
       "</div>"
      ],
      "text/plain": [
       "   Zip Code  Price of Studio for Sale  Price of 1 Beds for Sale  \\\n",
       "0     20001             335000.000000             469753.959184   \n",
       "1     20002                       NaN             391722.535714   \n",
       "2     20003             368283.333333             432204.068966   \n",
       "3     20004                       NaN             463845.454545   \n",
       "4     20005             257200.000000             484829.230769   \n",
       "5     20006             258333.333333             380000.000000   \n",
       "6     20007             200112.500000             360688.080000   \n",
       "7     20008             218883.333333             372102.302326   \n",
       "8     20009             272402.055556             430932.090909   \n",
       "9     20010             236300.000000             353014.285714   \n",
       "10    20011             575000.000000             303520.000000   \n",
       "11    20012             254000.000000             354728.571429   \n",
       "12    20015             324450.000000             301000.000000   \n",
       "13    20016             222500.000000             370665.000000   \n",
       "14    20017                       NaN             257566.666667   \n",
       "15    20018                       NaN             257450.000000   \n",
       "16    20019                       NaN             106500.000000   \n",
       "17    20020                       NaN              89900.000000   \n",
       "18    20024             262497.500000             370991.538462   \n",
       "19    20032                       NaN             124233.333333   \n",
       "20    20036             300000.000000             422463.625000   \n",
       "21    20037             258600.000000             394102.666667   \n",
       "\n",
       "    Price of 2 Beds for Sale  Price of 3 Beds for Sale  \\\n",
       "0              734827.966102              8.822890e+05   \n",
       "1              539249.919540              7.913266e+05   \n",
       "2              747956.897436              8.834842e+05   \n",
       "3              663000.000000              8.326667e+05   \n",
       "4              710192.592593              1.137500e+06   \n",
       "5                        NaN                       NaN   \n",
       "6              943500.000000              1.229389e+06   \n",
       "7              665056.333333              1.406083e+06   \n",
       "8              698360.353448              1.147511e+06   \n",
       "9              590880.000000              7.920343e+05   \n",
       "10             483317.948718              6.244473e+05   \n",
       "11             487116.500000              6.532308e+05   \n",
       "12             603684.615385              9.375777e+05   \n",
       "13             548039.115385              1.119321e+06   \n",
       "14             429614.500000              6.642500e+05   \n",
       "15             417916.666667              5.399785e+05   \n",
       "16             302488.280000              3.669693e+05   \n",
       "17             195302.666667              3.392778e+05   \n",
       "18             488000.000000              7.566667e+05   \n",
       "19             244083.083333              3.598053e+05   \n",
       "20             832875.000000              1.110000e+06   \n",
       "21             745857.142857              1.150000e+06   \n",
       "\n",
       "    Price of 4 Beds for Sale  Price of 5 Beds for Sale  \\\n",
       "0               1.155034e+06              1.159850e+06   \n",
       "1               9.924978e+05              1.220625e+06   \n",
       "2               1.238833e+06              1.916000e+06   \n",
       "3                        NaN                       NaN   \n",
       "4                        NaN              2.970000e+06   \n",
       "5                        NaN                       NaN   \n",
       "6               1.895678e+06              2.798633e+06   \n",
       "7               1.502312e+06              2.125363e+06   \n",
       "8               1.508111e+06              1.300300e+06   \n",
       "9               8.639167e+05              1.385000e+06   \n",
       "10              7.639049e+05              9.822907e+05   \n",
       "11              8.634955e+05              9.535000e+05   \n",
       "12              1.156774e+06              1.325594e+06   \n",
       "13              1.258863e+06              1.885618e+06   \n",
       "14              7.675327e+05                       NaN   \n",
       "15              6.697012e+05              6.170000e+05   \n",
       "16              4.315999e+05              5.085000e+05   \n",
       "17              4.807143e+05              3.100000e+05   \n",
       "18                       NaN                       NaN   \n",
       "19              4.156300e+05              4.575000e+05   \n",
       "20              2.207550e+06                       NaN   \n",
       "21                       NaN                       NaN   \n",
       "\n",
       "    Price of 6 Beds for Sale  Price of 7 Beds for Sale  Rental for Studio  \\\n",
       "0               1.699500e+06                       NaN        2130.000000   \n",
       "1               1.435000e+06                       NaN        1951.400000   \n",
       "2                        NaN                       NaN        1945.000000   \n",
       "3                        NaN                       NaN        1981.500000   \n",
       "4                        NaN                       NaN        1900.666667   \n",
       "5                        NaN                       NaN        1853.666667   \n",
       "6               4.372859e+06                 2470000.0        1813.833333   \n",
       "7               1.550000e+06                       NaN        1746.500000   \n",
       "8               2.537500e+06                 1699999.0        1914.710000   \n",
       "9               1.132250e+06                 1510000.0        1682.125000   \n",
       "10              9.487500e+05                 1165000.0        1435.166667   \n",
       "11              1.024950e+06                       NaN        1667.500000   \n",
       "12              1.876572e+06                       NaN        1508.000000   \n",
       "13              3.024167e+06                 2230000.0        1533.750000   \n",
       "14              1.140000e+06                       NaN        1579.000000   \n",
       "15              9.300000e+05                 1075000.0        1649.625000   \n",
       "16                       NaN                       NaN        1140.000000   \n",
       "17                       NaN                       NaN        2103.000000   \n",
       "18                       NaN                       NaN        2198.428571   \n",
       "19                       NaN                  280000.0         905.000000   \n",
       "20              1.950000e+06                       NaN        2294.000000   \n",
       "21                       NaN                       NaN        2695.416667   \n",
       "\n",
       "    ...  Price level of Bakery  Ranking of Bakery  \\\n",
       "0   ...                      2                  5   \n",
       "1   ...                      5                  5   \n",
       "2   ...                      1                  3   \n",
       "3   ...                      1                  2   \n",
       "4   ...                      2                  4   \n",
       "5   ...                      3                  3   \n",
       "6   ...                      4                  5   \n",
       "7   ...                      4                  1   \n",
       "8   ...                      2                  5   \n",
       "9   ...                      1                  3   \n",
       "10  ...                      5                  5   \n",
       "11  ...                      5                  3   \n",
       "12  ...                      4                  3   \n",
       "13  ...                      4                  3   \n",
       "14  ...                      3                  2   \n",
       "15  ...                      5                  3   \n",
       "16  ...                      5                  3   \n",
       "17  ...                      5                  2   \n",
       "18  ...                      3                  1   \n",
       "19  ...                      1                  1   \n",
       "20  ...                      3                  5   \n",
       "21  ...                      3                  3   \n",
       "\n",
       "    Availability of Delivery Restaurant  Rating of Delivery Restaurant  \\\n",
       "0                                     3                              4   \n",
       "1                                     4                              3   \n",
       "2                                     5                              2   \n",
       "3                                     1                              5   \n",
       "4                                     3                              3   \n",
       "5                                     4                              3   \n",
       "6                                     5                              1   \n",
       "7                                     2                              5   \n",
       "8                                     5                              2   \n",
       "9                                     1                              2   \n",
       "10                                    3                              4   \n",
       "11                                    1                              5   \n",
       "12                                    1                              1   \n",
       "13                                    2                              1   \n",
       "14                                    3                              1   \n",
       "15                                    1                              3   \n",
       "16                                    1                              1   \n",
       "17                                    2                              4   \n",
       "18                                    1                              1   \n",
       "19                                    1                              1   \n",
       "20                                    3                              5   \n",
       "21                                    2                              5   \n",
       "\n",
       "    Price level of Delivery Restaurant  Ranking of Delivery Restaurant  \\\n",
       "0                                    2                               3   \n",
       "1                                    2                               3   \n",
       "2                                    1                               2   \n",
       "3                                    5                               5   \n",
       "4                                    5                               5   \n",
       "5                                    4                               5   \n",
       "6                                    2                               2   \n",
       "7                                    5                               5   \n",
       "8                                    1                               2   \n",
       "9                                    5                               2   \n",
       "10                                   3                               4   \n",
       "11                                   1                               1   \n",
       "12                                   1                               1   \n",
       "13                                   5                               2   \n",
       "14                                   5                               3   \n",
       "15                                   5                               3   \n",
       "16                                   1                               1   \n",
       "17                                   5                               5   \n",
       "18                                   1                               1   \n",
       "19                                   5                               1   \n",
       "20                                   2                               4   \n",
       "21                                   1                               2   \n",
       "\n",
       "    Availability of Other Restaurant  Rating of Other Restaurant  \\\n",
       "0                                  5                           4   \n",
       "1                                  5                           3   \n",
       "2                                  4                           4   \n",
       "3                                  3                           1   \n",
       "4                                  4                           3   \n",
       "5                                  3                           3   \n",
       "6                                  5                           5   \n",
       "7                                  3                           2   \n",
       "8                                  5                           5   \n",
       "9                                  4                           5   \n",
       "10                                 4                           4   \n",
       "11                                 1                           2   \n",
       "12                                 1                           2   \n",
       "13                                 2                           5   \n",
       "14                                 1                           4   \n",
       "15                                 2                           3   \n",
       "16                                 1                           1   \n",
       "17                                 2                           1   \n",
       "18                                 3                           2   \n",
       "19                                 1                           1   \n",
       "20                                 5                           5   \n",
       "21                                 2                           1   \n",
       "\n",
       "    Price level of Other Restaurant  Ranking of Other Restaurant  \n",
       "0                                 2                            4  \n",
       "1                                 4                            5  \n",
       "2                                 3                            4  \n",
       "3                                 1                            1  \n",
       "4                                 2                            3  \n",
       "5                                 1                            2  \n",
       "6                                 1                            4  \n",
       "7                                 1                            2  \n",
       "8                                 2                            5  \n",
       "9                                 4                            5  \n",
       "10                                5                            5  \n",
       "11                                4                            2  \n",
       "12                                3                            2  \n",
       "13                                3                            4  \n",
       "14                                5                            4  \n",
       "15                                5                            4  \n",
       "16                                5                            2  \n",
       "17                                4                            2  \n",
       "18                                3                            3  \n",
       "19                                5                            2  \n",
       "20                                2                            5  \n",
       "21                                1                            1  \n",
       "\n",
       "[22 rows x 58 columns]"
      ]
     },
     "execution_count": 113,
     "metadata": {},
     "output_type": "execute_result"
    }
   ],
   "source": [
    "df"
   ]
  }
 ],
 "metadata": {
  "kernelspec": {
   "display_name": "Python 3",
   "language": "python",
   "name": "python3"
  },
  "language_info": {
   "codemirror_mode": {
    "name": "ipython",
    "version": 3
   },
   "file_extension": ".py",
   "mimetype": "text/x-python",
   "name": "python",
   "nbconvert_exporter": "python",
   "pygments_lexer": "ipython3",
   "version": "3.6.5"
  }
 },
 "nbformat": 4,
 "nbformat_minor": 2
}
