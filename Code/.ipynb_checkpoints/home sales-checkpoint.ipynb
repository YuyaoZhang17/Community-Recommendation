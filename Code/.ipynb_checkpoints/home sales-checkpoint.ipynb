{
 "cells": [
  {
   "cell_type": "code",
   "execution_count": 1,
   "metadata": {},
   "outputs": [],
   "source": [
    "import pandas as pd\n",
    "import numpy as np\n",
    "import glob\n",
    "import datetime"
   ]
  },
  {
   "cell_type": "code",
   "execution_count": 2,
   "metadata": {},
   "outputs": [],
   "source": [
    "zip_code=['20001','20002','20003','20004','20005','20006','20007','20008','20009','20010','20011','20012',\n",
    "         '20015','20016','20017','20018','20019','20020','20024','20032','20036','20037']"
   ]
  },
  {
   "cell_type": "code",
   "execution_count": 3,
   "metadata": {},
   "outputs": [
    {
     "name": "stderr",
     "output_type": "stream",
     "text": [
      "C:\\Users\\19018\\Anaconda3\\lib\\site-packages\\ipykernel_launcher.py:11: FutureWarning: Sorting because non-concatenation axis is not aligned. A future version\n",
      "of pandas will change to not sort by default.\n",
      "\n",
      "To accept the future behavior, pass 'sort=False'.\n",
      "\n",
      "To retain the current behavior and silence the warning, pass 'sort=True'.\n",
      "\n",
      "  # This is added back by InteractiveShellApp.init_path()\n"
     ]
    }
   ],
   "source": [
    "path_all=r'../Home Sales/10 yr'\n",
    "files=glob.glob(path_all+\"/*\")\n",
    "frame=pd.DataFrame()\n",
    "list_=[]\n",
    "for file in files:\n",
    "    df = pd.read_csv(file,index_col=None, header=0,dtype={'Zip Code':str})\n",
    "    df[\"Current Price\"]=df[\"Current Price\"].astype(str)\n",
    "    df[\"Current Price\"]=df[\"Current Price\"].map(lambda x: str.split(x,\"$\")[-1].replace(\",\",\"\"))\n",
    "    df[\"Current Price\"]=df[\"Current Price\"].astype(float)\n",
    "    list_.append(df)\n",
    "frame=pd.concat(list_)\n"
   ]
  },
  {
   "cell_type": "code",
   "execution_count": 4,
   "metadata": {},
   "outputs": [],
   "source": [
    "frame[\"year\"]=frame[\"Status Contractual Search Date\"].map(lambda x: str.split(x,\"/\")[-1])"
   ]
  },
  {
   "cell_type": "code",
   "execution_count": 5,
   "metadata": {},
   "outputs": [],
   "source": [
    "frame[\"year\"]=\"20\"+frame[\"year\"]"
   ]
  },
  {
   "cell_type": "code",
   "execution_count": 6,
   "metadata": {},
   "outputs": [],
   "source": [
    "frame[\"year\"]=frame[\"year\"].map(lambda x: int(x))"
   ]
  },
  {
   "cell_type": "code",
   "execution_count": 7,
   "metadata": {},
   "outputs": [],
   "source": [
    "frame[\"Structure Type\"]=frame[\"Structure Type\"].replace(\"Row/Townhouse\",\n",
    "                                                                       \"Townhouse\").replace(\"End of Row/Townhouse\",\n",
    "                                                                                           \"Townhouse\").replace(\"Unit/Flat/Apartment\",\n",
    "                                                                                                               \"Apartment\").replace(\"Penthouse Unit/Flat/Apartment\",\n",
    "                                                                                                                                   \"Apartment\")"
   ]
  },
  {
   "cell_type": "code",
   "execution_count": 8,
   "metadata": {},
   "outputs": [
    {
     "data": {
      "text/plain": [
       "array(['Townhouse', 'Twin/Semi-Detached', 'Apartment', 'Other', nan,\n",
       "       'Detached', 'Garage/Parking Space', 'Mobile Pre 1976',\n",
       "       'Manufactured'], dtype=object)"
      ]
     },
     "execution_count": 8,
     "metadata": {},
     "output_type": "execute_result"
    }
   ],
   "source": [
    "frame[\"Structure Type\"].unique()"
   ]
  },
  {
   "cell_type": "code",
   "execution_count": 9,
   "metadata": {},
   "outputs": [],
   "source": [
    "df=frame.groupby([\"Zip Code\",\"year\",\"Structure Type\"])[\"Current Price\"].mean()"
   ]
  },
  {
   "cell_type": "code",
   "execution_count": 10,
   "metadata": {},
   "outputs": [],
   "source": [
    "df=df.reset_index([\"Zip Code\",\"year\",\"Structure Type\"])"
   ]
  },
  {
   "cell_type": "code",
   "execution_count": 11,
   "metadata": {},
   "outputs": [],
   "source": [
    "df.to_csv(\"home sales by year and structure.csv\")"
   ]
  },
  {
   "cell_type": "code",
   "execution_count": 12,
   "metadata": {},
   "outputs": [],
   "source": [
    "years=np.arange(2009,2020,1)"
   ]
  },
  {
   "cell_type": "code",
   "execution_count": 13,
   "metadata": {},
   "outputs": [],
   "source": [
    "types=df[\"Structure Type\"].unique()\n",
    "for i in range(len(types)):\n",
    "    df_sub=df[df[\"Structure Type\"]==types[i]].reset_index()\n",
    "    a=pd.DataFrame(zip_code,columns={\"Zip Code\"})\n",
    "    for j in range(len(years)):\n",
    "        b=df_sub[df_sub[\"year\"]==years[j]][[\"Zip Code\",\"Current Price\"]]\n",
    "        b=b.rename(columns={\"Current Price\":years[j]})\n",
    "        a=a.merge(b,on=\"Zip Code\",how=\"left\")\n",
    "    types[i]=types[i].replace(\"/\",\"_\")\n",
    "    name=\"home sales by structure/home sales by years of \"+types[i]+\".csv\"\n",
    "    a.to_csv(name,index=False)"
   ]
  },
  {
   "cell_type": "code",
   "execution_count": null,
   "metadata": {},
   "outputs": [],
   "source": []
  },
  {
   "cell_type": "code",
   "execution_count": 32,
   "metadata": {},
   "outputs": [],
   "source": [
    "dates=pd.date_range(start='20081231',end='20200101',freq=\"BA-AUG\")\n",
    "dates=dates.date"
   ]
  },
  {
   "cell_type": "code",
   "execution_count": 33,
   "metadata": {},
   "outputs": [],
   "source": [
    "comp=pd.DataFrame(dates,columns={\"Date\"})"
   ]
  },
  {
   "cell_type": "code",
   "execution_count": 34,
   "metadata": {},
   "outputs": [],
   "source": [
    "comp[\"Date\"]=comp[\"Date\"].map(lambda x: str(x))"
   ]
  },
  {
   "cell_type": "code",
   "execution_count": 35,
   "metadata": {},
   "outputs": [],
   "source": [
    "sp=pd.read_csv(\"GSPC.csv\")"
   ]
  },
  {
   "cell_type": "code",
   "execution_count": 36,
   "metadata": {},
   "outputs": [],
   "source": [
    "data=comp.merge(sp[[\"Date\",\"Adj Close\"]],on=\"Date\")"
   ]
  },
  {
   "cell_type": "code",
   "execution_count": 37,
   "metadata": {},
   "outputs": [],
   "source": [
    "data=data.rename(columns={'Adj Close':\"SP500\"})"
   ]
  },
  {
   "cell_type": "code",
   "execution_count": 38,
   "metadata": {},
   "outputs": [],
   "source": [
    "data[\"SP return\"]=(data[\"SP500\"]-data[\"SP500\"].shift(1))/data[\"SP500\"].shift(1)"
   ]
  },
  {
   "cell_type": "code",
   "execution_count": 39,
   "metadata": {},
   "outputs": [],
   "source": [
    "data=data.drop(columns={\"SP500\"})"
   ]
  },
  {
   "cell_type": "code",
   "execution_count": 40,
   "metadata": {},
   "outputs": [],
   "source": [
    "iyr=pd.read_csv(\"IYR.csv\")"
   ]
  },
  {
   "cell_type": "code",
   "execution_count": 41,
   "metadata": {},
   "outputs": [],
   "source": [
    "data=data.merge(iyr[[\"Date\",\"Adj Close\"]],on=\"Date\")"
   ]
  },
  {
   "cell_type": "code",
   "execution_count": 42,
   "metadata": {},
   "outputs": [],
   "source": [
    "data=data.rename(columns={'Adj Close':\"IYR\"})"
   ]
  },
  {
   "cell_type": "code",
   "execution_count": 43,
   "metadata": {},
   "outputs": [],
   "source": [
    "data[\"IYR return\"]=(data[\"IYR\"]-data[\"IYR\"].shift(1))/data[\"IYR\"].shift(1)"
   ]
  },
  {
   "cell_type": "code",
   "execution_count": 26,
   "metadata": {},
   "outputs": [],
   "source": [
    "data=data.drop(columns={\"IYR\"})"
   ]
  },
  {
   "cell_type": "code",
   "execution_count": 27,
   "metadata": {},
   "outputs": [],
   "source": [
    "data.to_csv(\"Comparison.csv\")"
   ]
  },
  {
   "cell_type": "code",
   "execution_count": 44,
   "metadata": {},
   "outputs": [
    {
     "data": {
      "text/html": [
       "<div>\n",
       "<style scoped>\n",
       "    .dataframe tbody tr th:only-of-type {\n",
       "        vertical-align: middle;\n",
       "    }\n",
       "\n",
       "    .dataframe tbody tr th {\n",
       "        vertical-align: top;\n",
       "    }\n",
       "\n",
       "    .dataframe thead th {\n",
       "        text-align: right;\n",
       "    }\n",
       "</style>\n",
       "<table border=\"1\" class=\"dataframe\">\n",
       "  <thead>\n",
       "    <tr style=\"text-align: right;\">\n",
       "      <th></th>\n",
       "      <th>Date</th>\n",
       "      <th>SP500</th>\n",
       "      <th>SP return</th>\n",
       "      <th>IYR</th>\n",
       "      <th>IYR return</th>\n",
       "    </tr>\n",
       "  </thead>\n",
       "  <tbody>\n",
       "    <tr>\n",
       "      <td>0</td>\n",
       "      <td>2009-08-31</td>\n",
       "      <td>1020.619995</td>\n",
       "      <td>NaN</td>\n",
       "      <td>27.611008</td>\n",
       "      <td>NaN</td>\n",
       "    </tr>\n",
       "    <tr>\n",
       "      <td>1</td>\n",
       "      <td>2010-08-31</td>\n",
       "      <td>1049.329956</td>\n",
       "      <td>0.028130</td>\n",
       "      <td>36.030350</td>\n",
       "      <td>0.304927</td>\n",
       "    </tr>\n",
       "    <tr>\n",
       "      <td>2</td>\n",
       "      <td>2011-08-31</td>\n",
       "      <td>1218.890015</td>\n",
       "      <td>0.161589</td>\n",
       "      <td>41.971088</td>\n",
       "      <td>0.164881</td>\n",
       "    </tr>\n",
       "    <tr>\n",
       "      <td>3</td>\n",
       "      <td>2012-08-31</td>\n",
       "      <td>1406.579956</td>\n",
       "      <td>0.153984</td>\n",
       "      <td>50.034519</td>\n",
       "      <td>0.192119</td>\n",
       "    </tr>\n",
       "    <tr>\n",
       "      <td>4</td>\n",
       "      <td>2013-08-30</td>\n",
       "      <td>1632.969971</td>\n",
       "      <td>0.160951</td>\n",
       "      <td>49.289959</td>\n",
       "      <td>-0.014881</td>\n",
       "    </tr>\n",
       "    <tr>\n",
       "      <td>5</td>\n",
       "      <td>2014-08-29</td>\n",
       "      <td>2003.369995</td>\n",
       "      <td>0.226826</td>\n",
       "      <td>61.067677</td>\n",
       "      <td>0.238948</td>\n",
       "    </tr>\n",
       "    <tr>\n",
       "      <td>6</td>\n",
       "      <td>2015-08-31</td>\n",
       "      <td>1972.180054</td>\n",
       "      <td>-0.015569</td>\n",
       "      <td>60.163338</td>\n",
       "      <td>-0.014809</td>\n",
       "    </tr>\n",
       "    <tr>\n",
       "      <td>7</td>\n",
       "      <td>2016-08-31</td>\n",
       "      <td>2170.949951</td>\n",
       "      <td>0.100787</td>\n",
       "      <td>73.550682</td>\n",
       "      <td>0.222517</td>\n",
       "    </tr>\n",
       "    <tr>\n",
       "      <td>8</td>\n",
       "      <td>2017-08-31</td>\n",
       "      <td>2471.649902</td>\n",
       "      <td>0.138511</td>\n",
       "      <td>75.367607</td>\n",
       "      <td>0.024703</td>\n",
       "    </tr>\n",
       "    <tr>\n",
       "      <td>9</td>\n",
       "      <td>2018-08-31</td>\n",
       "      <td>2901.520020</td>\n",
       "      <td>0.173920</td>\n",
       "      <td>80.115425</td>\n",
       "      <td>0.062995</td>\n",
       "    </tr>\n",
       "    <tr>\n",
       "      <td>10</td>\n",
       "      <td>2019-08-30</td>\n",
       "      <td>2926.459961</td>\n",
       "      <td>0.008595</td>\n",
       "      <td>91.804855</td>\n",
       "      <td>0.145907</td>\n",
       "    </tr>\n",
       "  </tbody>\n",
       "</table>\n",
       "</div>"
      ],
      "text/plain": [
       "          Date        SP500  SP return        IYR  IYR return\n",
       "0   2009-08-31  1020.619995        NaN  27.611008         NaN\n",
       "1   2010-08-31  1049.329956   0.028130  36.030350    0.304927\n",
       "2   2011-08-31  1218.890015   0.161589  41.971088    0.164881\n",
       "3   2012-08-31  1406.579956   0.153984  50.034519    0.192119\n",
       "4   2013-08-30  1632.969971   0.160951  49.289959   -0.014881\n",
       "5   2014-08-29  2003.369995   0.226826  61.067677    0.238948\n",
       "6   2015-08-31  1972.180054  -0.015569  60.163338   -0.014809\n",
       "7   2016-08-31  2170.949951   0.100787  73.550682    0.222517\n",
       "8   2017-08-31  2471.649902   0.138511  75.367607    0.024703\n",
       "9   2018-08-31  2901.520020   0.173920  80.115425    0.062995\n",
       "10  2019-08-30  2926.459961   0.008595  91.804855    0.145907"
      ]
     },
     "execution_count": 44,
     "metadata": {},
     "output_type": "execute_result"
    }
   ],
   "source": [
    "data"
   ]
  },
  {
   "cell_type": "code",
   "execution_count": 31,
   "metadata": {},
   "outputs": [
    {
     "data": {
      "text/html": [
       "<div>\n",
       "<style scoped>\n",
       "    .dataframe tbody tr th:only-of-type {\n",
       "        vertical-align: middle;\n",
       "    }\n",
       "\n",
       "    .dataframe tbody tr th {\n",
       "        vertical-align: top;\n",
       "    }\n",
       "\n",
       "    .dataframe thead th {\n",
       "        text-align: right;\n",
       "    }\n",
       "</style>\n",
       "<table border=\"1\" class=\"dataframe\">\n",
       "  <thead>\n",
       "    <tr style=\"text-align: right;\">\n",
       "      <th></th>\n",
       "      <th>Date</th>\n",
       "      <th>Open</th>\n",
       "      <th>High</th>\n",
       "      <th>Low</th>\n",
       "      <th>Close</th>\n",
       "      <th>Adj Close</th>\n",
       "      <th>Volume</th>\n",
       "    </tr>\n",
       "  </thead>\n",
       "  <tbody>\n",
       "    <tr>\n",
       "      <td>0</td>\n",
       "      <td>2009-08-03</td>\n",
       "      <td>990.219971</td>\n",
       "      <td>1003.609985</td>\n",
       "      <td>990.219971</td>\n",
       "      <td>1002.630005</td>\n",
       "      <td>1002.630005</td>\n",
       "      <td>5603440000</td>\n",
       "    </tr>\n",
       "    <tr>\n",
       "      <td>1</td>\n",
       "      <td>2009-08-04</td>\n",
       "      <td>1001.409973</td>\n",
       "      <td>1007.119995</td>\n",
       "      <td>996.679993</td>\n",
       "      <td>1005.650024</td>\n",
       "      <td>1005.650024</td>\n",
       "      <td>5713700000</td>\n",
       "    </tr>\n",
       "    <tr>\n",
       "      <td>2</td>\n",
       "      <td>2009-08-05</td>\n",
       "      <td>1005.409973</td>\n",
       "      <td>1006.640015</td>\n",
       "      <td>994.309998</td>\n",
       "      <td>1002.719971</td>\n",
       "      <td>1002.719971</td>\n",
       "      <td>7242120000</td>\n",
       "    </tr>\n",
       "    <tr>\n",
       "      <td>3</td>\n",
       "      <td>2009-08-06</td>\n",
       "      <td>1004.059998</td>\n",
       "      <td>1008.000000</td>\n",
       "      <td>992.489990</td>\n",
       "      <td>997.080017</td>\n",
       "      <td>997.080017</td>\n",
       "      <td>6753380000</td>\n",
       "    </tr>\n",
       "    <tr>\n",
       "      <td>4</td>\n",
       "      <td>2009-08-07</td>\n",
       "      <td>999.830017</td>\n",
       "      <td>1018.000000</td>\n",
       "      <td>999.830017</td>\n",
       "      <td>1010.479980</td>\n",
       "      <td>1010.479980</td>\n",
       "      <td>6827090000</td>\n",
       "    </tr>\n",
       "    <tr>\n",
       "      <td>...</td>\n",
       "      <td>...</td>\n",
       "      <td>...</td>\n",
       "      <td>...</td>\n",
       "      <td>...</td>\n",
       "      <td>...</td>\n",
       "      <td>...</td>\n",
       "      <td>...</td>\n",
       "    </tr>\n",
       "    <tr>\n",
       "      <td>2574</td>\n",
       "      <td>2019-10-23</td>\n",
       "      <td>2994.010010</td>\n",
       "      <td>3004.780029</td>\n",
       "      <td>2991.209961</td>\n",
       "      <td>3004.520020</td>\n",
       "      <td>3004.520020</td>\n",
       "      <td>3392870000</td>\n",
       "    </tr>\n",
       "    <tr>\n",
       "      <td>2575</td>\n",
       "      <td>2019-10-24</td>\n",
       "      <td>3014.780029</td>\n",
       "      <td>3016.070068</td>\n",
       "      <td>3000.419922</td>\n",
       "      <td>3010.290039</td>\n",
       "      <td>3010.290039</td>\n",
       "      <td>3692600000</td>\n",
       "    </tr>\n",
       "    <tr>\n",
       "      <td>2576</td>\n",
       "      <td>2019-10-25</td>\n",
       "      <td>3003.320068</td>\n",
       "      <td>3027.389893</td>\n",
       "      <td>3001.939941</td>\n",
       "      <td>3022.550049</td>\n",
       "      <td>3022.550049</td>\n",
       "      <td>3370370000</td>\n",
       "    </tr>\n",
       "    <tr>\n",
       "      <td>2577</td>\n",
       "      <td>2019-10-28</td>\n",
       "      <td>3032.120117</td>\n",
       "      <td>3044.080078</td>\n",
       "      <td>3032.120117</td>\n",
       "      <td>3039.419922</td>\n",
       "      <td>3039.419922</td>\n",
       "      <td>3521230000</td>\n",
       "    </tr>\n",
       "    <tr>\n",
       "      <td>2578</td>\n",
       "      <td>2019-10-29</td>\n",
       "      <td>3035.389893</td>\n",
       "      <td>3047.870117</td>\n",
       "      <td>3034.810059</td>\n",
       "      <td>3036.889893</td>\n",
       "      <td>3036.889893</td>\n",
       "      <td>3589930000</td>\n",
       "    </tr>\n",
       "  </tbody>\n",
       "</table>\n",
       "<p>2579 rows × 7 columns</p>\n",
       "</div>"
      ],
      "text/plain": [
       "            Date         Open         High          Low        Close  \\\n",
       "0     2009-08-03   990.219971  1003.609985   990.219971  1002.630005   \n",
       "1     2009-08-04  1001.409973  1007.119995   996.679993  1005.650024   \n",
       "2     2009-08-05  1005.409973  1006.640015   994.309998  1002.719971   \n",
       "3     2009-08-06  1004.059998  1008.000000   992.489990   997.080017   \n",
       "4     2009-08-07   999.830017  1018.000000   999.830017  1010.479980   \n",
       "...          ...          ...          ...          ...          ...   \n",
       "2574  2019-10-23  2994.010010  3004.780029  2991.209961  3004.520020   \n",
       "2575  2019-10-24  3014.780029  3016.070068  3000.419922  3010.290039   \n",
       "2576  2019-10-25  3003.320068  3027.389893  3001.939941  3022.550049   \n",
       "2577  2019-10-28  3032.120117  3044.080078  3032.120117  3039.419922   \n",
       "2578  2019-10-29  3035.389893  3047.870117  3034.810059  3036.889893   \n",
       "\n",
       "        Adj Close      Volume  \n",
       "0     1002.630005  5603440000  \n",
       "1     1005.650024  5713700000  \n",
       "2     1002.719971  7242120000  \n",
       "3      997.080017  6753380000  \n",
       "4     1010.479980  6827090000  \n",
       "...           ...         ...  \n",
       "2574  3004.520020  3392870000  \n",
       "2575  3010.290039  3692600000  \n",
       "2576  3022.550049  3370370000  \n",
       "2577  3039.419922  3521230000  \n",
       "2578  3036.889893  3589930000  \n",
       "\n",
       "[2579 rows x 7 columns]"
      ]
     },
     "execution_count": 31,
     "metadata": {},
     "output_type": "execute_result"
    }
   ],
   "source": []
  },
  {
   "cell_type": "code",
   "execution_count": 29,
   "metadata": {},
   "outputs": [],
   "source": [
    "# years=np.arange(2009,2020,1)\n",
    "# for i in range(len(files)):\n",
    "#     path=allfiles[i]\n",
    "#     allFiles = glob.glob(path + \"/*.csv\")\n",
    "#     frame=pd.DataFrame()\n",
    "#     list_=[]\n",
    "#     for file in allFiles:\n",
    "#         df = pd.read_csv(file,index_col=None, header=0,dtype={'Zip':str})\n",
    "#         df[\"Current Price\"]=df[\"Current Price\"].astype(str)\n",
    "#         df[\"Current Price\"]=df[\"Current Price\"].map(lambda x: str.split(x,\"$\")[-1].replace(\",\",\"\"))\n",
    "#         df[\"Current Price\"]=df[\"Current Price\"].astype(float)\n",
    "#         df=df.rename(columns={\"Current Price\":years[i]})\n",
    "#         list_.append(df)\n",
    "#     frame=pd.concat(list_)\n",
    "#     ave=pd.DataFrame(frame.groupby(by=[\"Zip\",\"Structure Type\"])[years[i]].mean())\n",
    "#     ave=ave.reset_index([\"Zip\",\"Structure Type\"])\n",
    "#     ave[years[i]]=round(ave[years[i]])\n",
    "#     if i==0:\n",
    "#         data=ave\n",
    "#     else:\n",
    "#         data=data.merge(ave,how=\"outer\")\n",
    "\n",
    "# data.to_csv(\"home sales by structure/home sales by year and structure.csv\")"
   ]
  },
  {
   "cell_type": "code",
   "execution_count": null,
   "metadata": {},
   "outputs": [],
   "source": []
  },
  {
   "cell_type": "code",
   "execution_count": 30,
   "metadata": {},
   "outputs": [],
   "source": [
    "# dfsale=pd.DataFrame(data=zip_code,columns={\"Zip\"},dtype=str)\n",
    "# dfapp=pd.DataFrame(data=zip_code,columns={\"Zip\"},dtype=str)\n",
    "# types=data[\"Structure Type\"].unique()\n",
    "# for i in range(len(types)):\n",
    "#     data2=data[data[\"Structure Type\"]==types[i]].reset_index(drop=True)\n",
    "#     data2=data2.drop(columns=\"Structure Type\")\n",
    "#     types[i]=types[i].replace(\"/\",\"_\")\n",
    "#     name=\"home sales by structure/home sales by years of \"+types[i]+\".csv\"\n",
    "#     data2.to_csv(name,index=False)"
   ]
  },
  {
   "cell_type": "code",
   "execution_count": null,
   "metadata": {},
   "outputs": [],
   "source": []
  }
 ],
 "metadata": {
  "kernelspec": {
   "display_name": "Python 3",
   "language": "python",
   "name": "python3"
  },
  "language_info": {
   "codemirror_mode": {
    "name": "ipython",
    "version": 3
   },
   "file_extension": ".py",
   "mimetype": "text/x-python",
   "name": "python",
   "nbconvert_exporter": "python",
   "pygments_lexer": "ipython3",
   "version": "3.6.5"
  }
 },
 "nbformat": 4,
 "nbformat_minor": 2
}
