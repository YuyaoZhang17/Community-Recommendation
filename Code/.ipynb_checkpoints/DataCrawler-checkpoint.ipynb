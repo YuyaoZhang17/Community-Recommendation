{
 "cells": [
  {
   "cell_type": "code",
   "execution_count": 7,
   "metadata": {},
   "outputs": [
    {
     "ename": "SelectorSyntaxError",
     "evalue": "Malformed attribute selector at position 24\n  line 1:\ndiv.video-summary-data a[href^=/video]\n                        ^ (<string>)",
     "output_type": "error",
     "traceback": [
      "Traceback \u001b[1;36m(most recent call last)\u001b[0m:\n",
      "  File \u001b[0;32m\"C:\\Users\\19018\\Anaconda3\\lib\\site-packages\\IPython\\core\\interactiveshell.py\"\u001b[0m, line \u001b[0;32m3326\u001b[0m, in \u001b[0;35mrun_code\u001b[0m\n    exec(code_obj, self.user_global_ns, self.user_ns)\n",
      "  File \u001b[0;32m\"<ipython-input-7-01b9118caed8>\"\u001b[0m, line \u001b[0;32m12\u001b[0m, in \u001b[0;35m<module>\u001b[0m\n    print(get_video_page_urls())\n",
      "  File \u001b[0;32m\"<ipython-input-7-01b9118caed8>\"\u001b[0m, line \u001b[0;32m10\u001b[0m, in \u001b[0;35mget_video_page_urls\u001b[0m\n    return [a.attrs.get('href') for a in soup.select('div.video-summary-data a[href^=/video]')]\n",
      "  File \u001b[0;32m\"C:\\Users\\19018\\Anaconda3\\lib\\site-packages\\bs4\\element.py\"\u001b[0m, line \u001b[0;32m1334\u001b[0m, in \u001b[0;35mselect\u001b[0m\n    return soupsieve.select(selector, self, namespaces, limit, **kwargs)\n",
      "  File \u001b[0;32m\"C:\\Users\\19018\\Anaconda3\\lib\\site-packages\\soupsieve\\__init__.py\"\u001b[0m, line \u001b[0;32m114\u001b[0m, in \u001b[0;35mselect\u001b[0m\n    return compile(select, namespaces, flags, **kwargs).select(tag, limit)\n",
      "  File \u001b[0;32m\"C:\\Users\\19018\\Anaconda3\\lib\\site-packages\\soupsieve\\__init__.py\"\u001b[0m, line \u001b[0;32m63\u001b[0m, in \u001b[0;35mcompile\u001b[0m\n    return cp._cached_css_compile(pattern, namespaces, custom, flags)\n",
      "  File \u001b[0;32m\"C:\\Users\\19018\\Anaconda3\\lib\\site-packages\\soupsieve\\css_parser.py\"\u001b[0m, line \u001b[0;32m214\u001b[0m, in \u001b[0;35m_cached_css_compile\u001b[0m\n    CSSParser(pattern, custom=custom_selectors, flags=flags).process_selectors(),\n",
      "  File \u001b[0;32m\"C:\\Users\\19018\\Anaconda3\\lib\\site-packages\\soupsieve\\css_parser.py\"\u001b[0m, line \u001b[0;32m1113\u001b[0m, in \u001b[0;35mprocess_selectors\u001b[0m\n    return self.parse_selectors(self.selector_iter(self.pattern), index, flags)\n",
      "  File \u001b[0;32m\"C:\\Users\\19018\\Anaconda3\\lib\\site-packages\\soupsieve\\css_parser.py\"\u001b[0m, line \u001b[0;32m946\u001b[0m, in \u001b[0;35mparse_selectors\u001b[0m\n    key, m = next(iselector)\n",
      "\u001b[1;36m  File \u001b[1;32m\"C:\\Users\\19018\\Anaconda3\\lib\\site-packages\\soupsieve\\css_parser.py\"\u001b[1;36m, line \u001b[1;32m1100\u001b[1;36m, in \u001b[1;35mselector_iter\u001b[1;36m\u001b[0m\n\u001b[1;33m    raise SelectorSyntaxError(msg, self.pattern, index)\u001b[0m\n",
      "\u001b[1;36m  File \u001b[1;32m\"<string>\"\u001b[1;36m, line \u001b[1;32munknown\u001b[0m\n\u001b[1;31mSelectorSyntaxError\u001b[0m\u001b[1;31m:\u001b[0m Malformed attribute selector at position 24\n  line 1:\ndiv.video-summary-data a[href^=/video]\n                        ^\n"
     ]
    }
   ],
   "source": [
    "import requests\n",
    "import bs4\n",
    "\n",
    "root_url = 'http://pyvideo.org'\n",
    "index_url = root_url + '/category/50/pycon-us-2014'\n",
    "\n",
    "def get_video_page_urls():\n",
    "    response = requests.get(index_url)\n",
    "    soup = bs4.BeautifulSoup(response.text)\n",
    "    return [a.attrs.get('href') for a in soup.select('div.video-summary-data a[href^=/video]')]\n",
    "\n",
    "print(get_video_page_urls())\n"
   ]
  },
  {
   "cell_type": "code",
   "execution_count": 20,
   "metadata": {},
   "outputs": [
    {
     "data": {
      "text/plain": [
       "'<!DOCTYPE HTML PUBLIC \"-//IETF//DTD HTML 2.0//EN\">\\r\\n<html>\\r\\n<head><title>403 Forbidden</title></head>\\r\\n<body bgcolor=\"white\">\\r\\n<h1>403 Forbidden</h1>\\r\\n<p>You don\\'t have permission to access the URL on this server. Sorry for the inconvenience.<br/>\\r\\nPlease report this message and include the following information to us.<br/>\\r\\nThank you very much!</p>\\r\\n<table>\\r\\n<tr>\\r\\n<td>URL:</td>\\r\\n<td>https://www.jianshu.com/p/85f4624485b9</td>\\r\\n</tr>\\r\\n<tr>\\r\\n<td>Server:</td>\\r\\n<td>zurich</td>\\r\\n</tr>\\r\\n<tr>\\r\\n<td>Date:</td>\\r\\n<td>2019/09/09 22:30:06</td>\\r\\n</tr>\\r\\n</table>\\r\\n<hr/>Powered by Tengine</body>\\r\\n</html>\\r\\n'"
      ]
     },
     "execution_count": 20,
     "metadata": {},
     "output_type": "execute_result"
    }
   ],
   "source": []
  }
 ],
 "metadata": {
  "kernelspec": {
   "display_name": "Python 3",
   "language": "python",
   "name": "python3"
  },
  "language_info": {
   "codemirror_mode": {
    "name": "ipython",
    "version": 3
   },
   "file_extension": ".py",
   "mimetype": "text/x-python",
   "name": "python",
   "nbconvert_exporter": "python",
   "pygments_lexer": "ipython3",
   "version": "3.6.5"
  }
 },
 "nbformat": 4,
 "nbformat_minor": 2
}
