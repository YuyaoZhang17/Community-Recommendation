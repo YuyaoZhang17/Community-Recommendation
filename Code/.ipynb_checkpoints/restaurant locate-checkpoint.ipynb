{
 "cells": [
  {
   "cell_type": "code",
   "execution_count": 38,
   "metadata": {},
   "outputs": [],
   "source": [
    "import pandas as pd\n",
    "import requests as rq\n",
    "import ast"
   ]
  },
  {
   "cell_type": "code",
   "execution_count": 76,
   "metadata": {},
   "outputs": [],
   "source": [
    "from arcgis.gis import GIS\n",
    "from arcgis.geocoding import reverse_geocode"
   ]
  },
  {
   "cell_type": "code",
   "execution_count": 77,
   "metadata": {},
   "outputs": [],
   "source": [
    "my_gis=GIS()"
   ]
  },
  {
   "cell_type": "code",
   "execution_count": 95,
   "metadata": {},
   "outputs": [],
   "source": [
    "rest=pd.read_csv(\"../Daily Needs/restaurant.csv\")\n",
    "rest=rest.drop_duplicates(subset=[\"id\"],keep=\"first\",inplace=False)\n",
    "rest=rest.reset_index()"
   ]
  },
  {
   "cell_type": "code",
   "execution_count": 96,
   "metadata": {},
   "outputs": [],
   "source": [
    "rest[\"geometry\"]=rest[\"geometry\"].map(lambda x:ast.literal_eval(x))"
   ]
  },
  {
   "cell_type": "code",
   "execution_count": 97,
   "metadata": {},
   "outputs": [
    {
     "data": {
      "text/plain": [
       "0       {'location': {'lat': 38.8697679, 'lng': -77.17...\n",
       "1       {'location': {'lat': 38.8784308, 'lng': -77.17...\n",
       "2       {'location': {'lat': 38.8826624, 'lng': -77.17...\n",
       "3       {'location': {'lat': 38.881907, 'lng': -77.169...\n",
       "4       {'location': {'lat': 38.8826027, 'lng': -77.17...\n",
       "                              ...                        \n",
       "5100    {'location': {'lat': 38.9654466, 'lng': -76.84...\n",
       "5101    {'location': {'lat': 38.89447139999999, 'lng':...\n",
       "5102    {'location': {'lat': 38.9118003, 'lng': -76.84...\n",
       "5103    {'location': {'lat': 38.9120804, 'lng': -76.83...\n",
       "5104    {'location': {'lat': 38.9127882, 'lng': -76.83...\n",
       "Name: geometry, Length: 5105, dtype: object"
      ]
     },
     "execution_count": 97,
     "metadata": {},
     "output_type": "execute_result"
    }
   ],
   "source": [
    "rest[\"geometry\"]"
   ]
  },
  {
   "cell_type": "code",
   "execution_count": 98,
   "metadata": {},
   "outputs": [
    {
     "data": {
      "text/plain": [
       "5105"
      ]
     },
     "execution_count": 98,
     "metadata": {},
     "output_type": "execute_result"
    }
   ],
   "source": [
    "len(rest)"
   ]
  },
  {
   "cell_type": "code",
   "execution_count": 100,
   "metadata": {},
   "outputs": [
    {
     "name": "stdout",
     "output_type": "stream",
     "text": [
      "0\n",
      "1000\n",
      "2000\n",
      "3000\n",
      "4000\n",
      "5000\n"
     ]
    }
   ],
   "source": [
    "zips=[]\n",
    "location=[]\n",
    "for i in range(len(rest)):\n",
    "    location.append(reverse_geocode([rest[\"geometry\"][i][\"location\"][\"lng\"],rest[\"geometry\"][i][\"location\"][\"lat\"]])['address'])\n",
    "    zips.append(reverse_geocode([rest[\"geometry\"][i][\"location\"][\"lng\"],rest[\"geometry\"][i][\"location\"][\"lat\"]])['address'][\"Postal\"])\n",
    "    if (i%1000==0):\n",
    "        print(i)"
   ]
  },
  {
   "cell_type": "code",
   "execution_count": 67,
   "metadata": {},
   "outputs": [
    {
     "data": {
      "text/plain": [
       "'20037'"
      ]
     },
     "execution_count": 67,
     "metadata": {},
     "output_type": "execute_result"
    }
   ],
   "source": [
    "reverse_geocode([rest[\"geometry\"][5000][\"location\"][\"lng\"],rest[\"geometry\"][5000][\"location\"][\"lat\"]])['address'][\"Postal\"]"
   ]
  },
  {
   "cell_type": "code",
   "execution_count": 110,
   "metadata": {
    "scrolled": false
   },
   "outputs": [],
   "source": [
    "rest[\"locations\"]=location\n",
    "rest[\"Zip Code\"]=zips"
   ]
  },
  {
   "cell_type": "code",
   "execution_count": 134,
   "metadata": {},
   "outputs": [],
   "source": [
    "zip_code=['20001','20002','20003','20004','20005','20006','20007','20008','20009','20010','20011','20012',\n",
    "         '20015','20016','20017','20018','20019','20020','20024','20032','20036','20037']"
   ]
  },
  {
   "cell_type": "code",
   "execution_count": 139,
   "metadata": {},
   "outputs": [],
   "source": [
    "restaurant=rest[rest[\"Zip Code\"].isin(zip_code)]"
   ]
  },
  {
   "cell_type": "code",
   "execution_count": null,
   "metadata": {},
   "outputs": [],
   "source": []
  },
  {
   "cell_type": "code",
   "execution_count": 130,
   "metadata": {},
   "outputs": [],
   "source": [
    "rest.to_csv(\"../Daily Needs/restaurant_zips.csv\")"
   ]
  }
 ],
 "metadata": {
  "kernelspec": {
   "display_name": "Python 3",
   "language": "python",
   "name": "python3"
  },
  "language_info": {
   "codemirror_mode": {
    "name": "ipython",
    "version": 3
   },
   "file_extension": ".py",
   "mimetype": "text/x-python",
   "name": "python",
   "nbconvert_exporter": "python",
   "pygments_lexer": "ipython3",
   "version": "3.6.5"
  }
 },
 "nbformat": 4,
 "nbformat_minor": 2
}
