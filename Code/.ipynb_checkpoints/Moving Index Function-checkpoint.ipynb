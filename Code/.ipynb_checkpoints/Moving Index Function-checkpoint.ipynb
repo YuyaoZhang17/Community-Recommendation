{
 "cells": [
  {
   "cell_type": "code",
   "execution_count": 61,
   "metadata": {},
   "outputs": [],
   "source": [
    "import pandas as pd\n",
    "import numpy as np\n",
    "\n",
    "data=pd.read_csv(\"data.csv\")\n",
    "\n",
    "def indexing(cur_zip,new_zip,grades):\n",
    "    grades[\"Ranking of Crime\"] = grades.pop(\"Safety\")\n",
    "    grades[\"Availability of Trains\"]=grades.pop(\"Public Transportation\")\n",
    "    grades[\"Driving Area\"]=grades.pop(\"Traffic Situation\")\n",
    "    grades[\"Ranking of Delivery Restaurant\"]=grades.pop(\"Restaurant Delivery\")\n",
    "    keys=list(grades)\n",
    "    cur_data=data[data[\"Zip Code\"]==cur_zip]\n",
    "    new_data=data[data[\"Zip Code\"]==new_zip]\n",
    "    grade_sum=sum(grades.values())\n",
    "    weights=np.array(list(grades.values()))/grade_sum\n",
    "    cur_ranks={}\n",
    "    new_ranks={}\n",
    "    cur_score={}\n",
    "    new_score={}\n",
    "    index={}\n",
    "    for i in range(len(keys)):\n",
    "        cur_ranks[keys[i]]=cur_data[keys[i]].iloc[0]\n",
    "        new_ranks[keys[i]]=new_data[keys[i]].iloc[0]\n",
    "        cur_score[keys[i]]=weights[i]*cur_ranks[keys[i]]\n",
    "        new_score[keys[i]]=weights[i]*new_ranks[keys[i]]\n",
    "        index[keys[i]]=(new_score[keys[i]]-cur_score[keys[i]])/cur_score[keys[i]]\n",
    "    index[\"Safety\"]=index.pop(\"Ranking of Crime\")\n",
    "    index[\"Public Transportation\"]=index.pop(\"Availability of Trains\")\n",
    "    index[\"Traffic Situation\"]=index.pop(\"Driving Area\")\n",
    "    index[\"Restaurant Delivery\"]=index.pop(\"Ranking of Delivery Restaurant\")\n",
    "    index[\"Total\"]=sum(index.values())\n",
    "    \n",
    "    return index\n",
    "    \n",
    "    \n",
    "        \n",
    "    \n",
    "    \n",
    "    "
   ]
  },
  {
   "cell_type": "code",
   "execution_count": 64,
   "metadata": {},
   "outputs": [],
   "source": [
    "dic={}\n",
    "\n",
    "dic[\"Ranking of Bakery\"]=3\n",
    "dic[\"Ranking of Bar\"]=4\n",
    "dic[\"Ranking of Cafe\"]=5\n",
    "dic[\"Ranking of Child Care\"]=3\n",
    "dic[\"Ranking of Elementary School\"]=2\n",
    "dic[\"Ranking of Middle School\"]=3\n",
    "dic[\"Ranking of High School\"]=2\n",
    "dic[\"Ranking of Hospital\"]=3\n",
    "dic[\"Availability of Parks\"]=5\n",
    "dic[\"Public Transportation\"]=5\n",
    "dic[\"Availability of Pharmacy\"]=3\n",
    "dic[\"Restaurant Delivery\"]=5\n",
    "dic[\"Safety\"]=3\n",
    "dic[\"Availability of Sport Facility\"]=3\n",
    "dic[\"Traffic Situation\"]=5\n"
   ]
  },
  {
   "cell_type": "code",
   "execution_count": 65,
   "metadata": {},
   "outputs": [
    {
     "data": {
      "text/plain": [
       "{'Ranking of Bakery': 0.2500000000000001,\n",
       " 'Ranking of Bar': -0.2,\n",
       " 'Ranking of Cafe': 1.4999999999999998,\n",
       " 'Ranking of Child Care': 0.0,\n",
       " 'Ranking of Elementary School': 0.3333333333333333,\n",
       " 'Ranking of Middle School': 1.0,\n",
       " 'Ranking of High School': -0.5,\n",
       " 'Ranking of Hospital': 0.0,\n",
       " 'Availability of Parks': -0.24999999999999992,\n",
       " 'Availability of Pharmacy': 0.0,\n",
       " 'Availability of Sport Facility': -0.8,\n",
       " 'Safety': 0.0,\n",
       " 'Public Transportation': -0.7500000000000001,\n",
       " 'Traffic Situation': -0.6666666666666667,\n",
       " 'Restaurant Delivery': 0.0,\n",
       " 'Total': -0.08333333333333404}"
      ]
     },
     "execution_count": 65,
     "metadata": {},
     "output_type": "execute_result"
    }
   ],
   "source": [
    "indexing(20001,20011,dic)"
   ]
  },
  {
   "cell_type": "code",
   "execution_count": null,
   "metadata": {},
   "outputs": [],
   "source": []
  }
 ],
 "metadata": {
  "kernelspec": {
   "display_name": "Python 3",
   "language": "python",
   "name": "python3"
  },
  "language_info": {
   "codemirror_mode": {
    "name": "ipython",
    "version": 3
   },
   "file_extension": ".py",
   "mimetype": "text/x-python",
   "name": "python",
   "nbconvert_exporter": "python",
   "pygments_lexer": "ipython3",
   "version": "3.7.4"
  }
 },
 "nbformat": 4,
 "nbformat_minor": 2
}
