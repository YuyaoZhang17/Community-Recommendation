{
 "cells": [
  {
   "cell_type": "code",
   "execution_count": 4,
   "metadata": {},
   "outputs": [],
   "source": [
    "import pandas as pd\n",
    "import numpy as np\n",
    "\n",
    "data=pd.read_csv(\"data.csv\")\n",
    "\n",
    "def indexing(cur_zip,new_zip,grades):\n",
    "    grades[\"Ranking of Crime\"] = grades.pop(\"Safety\")\n",
    "    grades[\"Availability of Trains\"]=grades.pop(\"Public Transportation\")\n",
    "    grades[\"Driving Area\"]=grades.pop(\"Traffic Situation\")\n",
    "    grades[\"Ranking of Delivery Restaurant\"]=grades.pop(\"Restaurant Delivery\")\n",
    "    grades[\"Ranking of Bakery\"]=grades.pop(\"Bakery\")\n",
    "    grades[\"Ranking of Bar\"]=grades.pop(\"Bar\")\n",
    "    grades[\"Ranking of Cafe\"]=grades.pop(\"Cafe\")\n",
    "    grades[\"Ranking of Child Care\"]=grades.pop(\"Child Care\")\n",
    "    grades[\"Ranking of Elementary School\"]=grades.pop(\"Elementary School\")\n",
    "    grades[\"Ranking of Middle School\"]=grades.pop(\"Middle School\")\n",
    "    grades[\"Ranking of High School\"]=grades.pop(\"High School\")\n",
    "    grades[\"Ranking of Hospital\"]=grades.pop(\"Hospital\")\n",
    "    grades[\"Availability of Parks\"]=grades.pop(\"Parks\")\n",
    "    grades[\"Availability of Pharmacy\"]=grades.pop(\"Pharmacy\")\n",
    "    grades[\"Availability of Sport Facility\"]=grades.pop(\"Sport Facility\")\n",
    "    keys=list(grades)\n",
    "    cur_data=data[data[\"Zip Code\"]==cur_zip]\n",
    "    new_data=data[data[\"Zip Code\"]==new_zip]\n",
    "    grade_sum=sum(grades.values())\n",
    "    weights=np.array(list(grades.values()))/grade_sum\n",
    "    cur_ranks={}\n",
    "    new_ranks={}\n",
    "    cur_score={}\n",
    "    new_score={}\n",
    "    index={}\n",
    "    for i in range(len(keys)):\n",
    "        cur_ranks[keys[i]]=cur_data[keys[i]].iloc[0]\n",
    "        new_ranks[keys[i]]=new_data[keys[i]].iloc[0]\n",
    "        cur_score[keys[i]]=weights[i]*cur_ranks[keys[i]]\n",
    "        new_score[keys[i]]=weights[i]*new_ranks[keys[i]]\n",
    "        index[keys[i]]=(new_score[keys[i]]-cur_score[keys[i]])/cur_score[keys[i]]\n",
    "    index[\"Safety\"]=index.pop(\"Ranking of Crime\")\n",
    "    index[\"Public Transportation\"]=index.pop(\"Availability of Trains\")\n",
    "    index[\"Traffic Situation\"]=index.pop(\"Driving Area\")\n",
    "    index[\"Restaurant Delivery\"]=index.pop(\"Ranking of Delivery Restaurant\")\n",
    "    index[\"Bakery\"]=index.pop(\"Ranking of Bakery\")\n",
    "    index[\"Bar\"]=index.pop(\"Ranking of Bar\")\n",
    "    index[\"Cafe\"]=index.pop(\"Ranking of Cafe\")\n",
    "    index[\"Child Care\"]=index.pop(\"Ranking of Child Care\")\n",
    "    index[\"Elementary School\"]=index.pop(\"Ranking of Elementary School\")\n",
    "    index[\"Middle School\"]=index.pop(\"Ranking of Middle School\")\n",
    "    index[\"High School\"]=index.pop(\"Ranking of High School\")\n",
    "    index[\"Hospital\"]=index.pop(\"Ranking of Hospital\")\n",
    "    index[\"Parks\"]=index.pop(\"Availability of Parks\")\n",
    "    index[\"Pharmacy\"]=index.pop(\"Availability of Pharmacy\")\n",
    "    index[\"Sport Facility\"]=grades.pop(\"Availability of Sport Facility\")\n",
    "    index[\"Total\"]=sum(index.values())\n",
    "    \n",
    "    return index\n",
    "    \n",
    "    \n",
    "        \n",
    "    \n",
    "    \n",
    "    "
   ]
  },
  {
   "cell_type": "code",
   "execution_count": 5,
   "metadata": {},
   "outputs": [],
   "source": [
    "dic={}\n",
    "\n",
    "dic[\"Bakery\"]=3\n",
    "dic[\"Bar\"]=4\n",
    "dic[\"Cafe\"]=5\n",
    "dic[\"Child Care\"]=3\n",
    "dic[\"Elementary School\"]=2\n",
    "dic[\"Middle School\"]=3\n",
    "dic[\"High School\"]=2\n",
    "dic[\"Hospital\"]=3\n",
    "dic[\"Parks\"]=5\n",
    "dic[\"Public Transportation\"]=5\n",
    "dic[\"Pharmacy\"]=3\n",
    "dic[\"Restaurant Delivery\"]=5\n",
    "dic[\"Safety\"]=3\n",
    "dic[\"Sport Facility\"]=3\n",
    "dic[\"Traffic Situation\"]=5\n"
   ]
  },
  {
   "cell_type": "code",
   "execution_count": 6,
   "metadata": {},
   "outputs": [
    {
     "data": {
      "text/plain": [
       "{'Availability of Sport Facility': -0.8,\n",
       " 'Safety': 0.0,\n",
       " 'Public Transportation': -0.7500000000000001,\n",
       " 'Traffic Situation': -0.6666666666666667,\n",
       " 'Restaurant Delivery': 0.0,\n",
       " 'Bakery': 0.2500000000000001,\n",
       " 'Bar': -0.2,\n",
       " 'Cafe': 1.4999999999999998,\n",
       " 'Child Care': 0.0,\n",
       " 'Elementary School': 0.3333333333333333,\n",
       " 'Middle School': 1.0,\n",
       " 'High School': -0.5,\n",
       " 'Hospital': 0.0,\n",
       " 'Parks': -0.24999999999999992,\n",
       " 'Pharmacy': 0.0,\n",
       " 'Sport Facility': 3,\n",
       " 'Total': 2.916666666666666}"
      ]
     },
     "execution_count": 6,
     "metadata": {},
     "output_type": "execute_result"
    }
   ],
   "source": [
    "indexing(20001,20011,dic)"
   ]
  },
  {
   "cell_type": "code",
   "execution_count": null,
   "metadata": {},
   "outputs": [],
   "source": []
  }
 ],
 "metadata": {
  "kernelspec": {
   "display_name": "Python 3",
   "language": "python",
   "name": "python3"
  },
  "language_info": {
   "codemirror_mode": {
    "name": "ipython",
    "version": 3
   },
   "file_extension": ".py",
   "mimetype": "text/x-python",
   "name": "python",
   "nbconvert_exporter": "python",
   "pygments_lexer": "ipython3",
   "version": "3.7.4"
  }
 },
 "nbformat": 4,
 "nbformat_minor": 2
}
