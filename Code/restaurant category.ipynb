{
 "cells": [
  {
   "cell_type": "code",
   "execution_count": 4,
   "metadata": {},
   "outputs": [],
   "source": [
    "import pandas as pd\n",
    "import ast"
   ]
  },
  {
   "cell_type": "code",
   "execution_count": 8,
   "metadata": {},
   "outputs": [],
   "source": [
    "r=pd.read_csv(\"../Daily Needs/restaurant_dc.csv\")"
   ]
  },
  {
   "cell_type": "code",
   "execution_count": 11,
   "metadata": {},
   "outputs": [],
   "source": [
    "r[\"types\"]=r[\"types\"].map(lambda x:ast.literal_eval(x))"
   ]
  },
  {
   "cell_type": "code",
   "execution_count": 37,
   "metadata": {},
   "outputs": [],
   "source": [
    "cafe=pd.DataFrame()\n",
    "bakery=pd.DataFrame()\n",
    "delivery=pd.DataFrame()\n",
    "bar=pd.DataFrame()\n",
    "other=pd.DataFrame()\n",
    "for i in range(len(r)):\n",
    "    if \"cafe\" in r.iloc[i][\"types\"]:\n",
    "        cafe=pd.concat([cafe,r.iloc[[i]]])\n",
    "    elif \"bakery\" in r.iloc[i][\"types\"]:\n",
    "        bakery=pd.concat([bakery,r.iloc[[i]]])\n",
    "    elif \"meal_delivery\" in r.iloc[i][\"types\"]:\n",
    "        delivery=pd.concat([delivery,r.iloc[[i]]])\n",
    "    elif \"bar\" in r.iloc[i][\"types\"]:\n",
    "        bar=pd.concat([bar,r.iloc[[i]]])\n",
    "    else:\n",
    "        other=pd.concat([other,r.iloc[[i]]])"
   ]
  },
  {
   "cell_type": "code",
   "execution_count": 41,
   "metadata": {},
   "outputs": [],
   "source": [
    "cafe=cafe.reset_index()\n",
    "bakery=bakery.reset_index()\n",
    "delivery=delivery.reset_index()\n",
    "bar=bar.reset_index()\n",
    "other=other.reset_index()"
   ]
  },
  {
   "cell_type": "code",
   "execution_count": 49,
   "metadata": {},
   "outputs": [],
   "source": [
    "cafe.to_csv(\"../Daily Needs/cafe.csv\")\n",
    "bakery.to_csv(\"../Daily Needs/bakery.csv\")\n",
    "delivery.to_csv(\"../Daily Needs/delivery.csv\")\n",
    "bar.to_csv(\"../Daily Needs/bar.csv\")\n",
    "other.to_csv(\"../Daily Needs/other.csv\")"
   ]
  }
 ],
 "metadata": {
  "kernelspec": {
   "display_name": "Python 3",
   "language": "python",
   "name": "python3"
  },
  "language_info": {
   "codemirror_mode": {
    "name": "ipython",
    "version": 3
   },
   "file_extension": ".py",
   "mimetype": "text/x-python",
   "name": "python",
   "nbconvert_exporter": "python",
   "pygments_lexer": "ipython3",
   "version": "3.6.5"
  }
 },
 "nbformat": 4,
 "nbformat_minor": 2
}
